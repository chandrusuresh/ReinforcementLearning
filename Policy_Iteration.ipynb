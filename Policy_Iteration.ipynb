{
  "nbformat": 4,
  "nbformat_minor": 0,
  "metadata": {
    "colab": {
      "name": "Policy Iteration.ipynb",
      "provenance": [],
      "authorship_tag": "ABX9TyPFoXe1gDKcyN1CauOVTl/B",
      "include_colab_link": true
    },
    "kernelspec": {
      "name": "python3",
      "display_name": "Python 3"
    }
  },
  "cells": [
    {
      "cell_type": "markdown",
      "metadata": {
        "id": "view-in-github",
        "colab_type": "text"
      },
      "source": [
        "<a href=\"https://colab.research.google.com/github/chandrusuresh/ReinforcementLearning/blob/master/Policy_Iteration.ipynb\" target=\"_parent\"><img src=\"https://colab.research.google.com/assets/colab-badge.svg\" alt=\"Open In Colab\"/></a>"
      ]
    },
    {
      "cell_type": "code",
      "metadata": {
        "id": "ygpKuMI3tYoX",
        "colab_type": "code",
        "colab": {}
      },
      "source": [
        "import numpy as np\n",
        "from scipy.special import factorial"
      ],
      "execution_count": 0,
      "outputs": []
    },
    {
      "cell_type": "markdown",
      "metadata": {
        "id": "dGu08hpiAB1n",
        "colab_type": "text"
      },
      "source": [
        "##Policy Iteration\n",
        "Policy iteration is an algorithm for evaluating the value function and improving it in successive iterations. Each iteration involves 2 steps - first step evaluates the policy and the second improves it. The first step is the same as the iterative policy evaluation algorithm and second step is the iteration policy improvement algorithm. Refer to the [Grid World notebook](https://github.com/chandrusuresh/ReinforcementLearning/blob/master/GridWorld.ipynb) for more details on these two steps/algorithms.\n",
        "\n",
        "The state and action value function equations are summarized here:\n",
        "\n",
        "$$\\textbf{State Value Function:  }  v_{k+1}(s) = \\sum_a{\\pi(a|s)} \\sum_{a,s'}{p(s',r|a,s) \\left(r + \\gamma v_k (s')\\right)}  $$\n",
        "\n",
        "$$\\textbf{Action Value Function:  }  q_\\pi (s,a) = \\sum_{r,s'}{p(s',r|a,s) \\left(r + \\gamma \\sum_{a'}{\\pi(a'|s') q_\\pi (s',a')}\\right)}  $$"
      ]
    },
    {
      "cell_type": "markdown",
      "metadata": {
        "id": "lSMDJU8-AGUK",
        "colab_type": "text"
      },
      "source": [
        "## Jack's Rental Car Problem\n",
        "\n",
        "Jack manages two locations for a nationwide car\n",
        "rental company. Each day, some number of customers arrive at each location to rent cars.\n",
        "\n",
        "Cost of rental = \\$10\n",
        "\n",
        "Cost of moving cars = -$2\n",
        "\n",
        "Max Cars = 20\n",
        "\n",
        "Max cars moved = 5\n",
        "\n",
        "Number of cars rented/returned is a Poisson distribution given by,\n",
        "$$P(rented/returned = n) = \\frac{\\lambda^n}{n!} e^{-\\lambda}$$ where $\\lambda$ is the expected number.\n",
        "\n",
        "$\\lambda_{rent}^1 = 3$, $\\lambda_{rent}^2 = 4$ and\n",
        "\n",
        "$\\lambda_{return}^1 = 3$,$\\lambda_{return}^2 = 2$\n",
        "\n",
        "$gamma = 0.9$\n",
        "Time steps = days\n",
        "\n",
        "State variable = Number of cars at each location at the end of the day\n",
        "\n",
        "Action variable = Number of cars moved"
      ]
    },
    {
      "cell_type": "markdown",
      "metadata": {
        "id": "FHCm4eFmSgT7",
        "colab_type": "text"
      },
      "source": [
        "## Solution\n",
        "The state vector, $s_t = \\left[\\begin{matrix}s_1 \\\\ s_2 \\end{matrix}\\right]$ where $s_i$ is the number of cars in location $i$ at the beginning of day $t$\n",
        "\n",
        "The action vector, $a_t$ is the number of cars moved between locations 1 & 2 at the end of day $t$\n",
        "\n",
        "The transition probability, $p_{trans} = p(r,s_{t+1}|s_t,a_t)$\n",
        "\n",
        "Assuming the rentals & returns are independent of each other and location, we have:\n",
        "\n",
        "$$\\begin{align*} p_{trans,i} &= p(r,s_{t+1,i}|s_{t,i},a_t) \\\\ \n",
        "&= p(rent=x,retn=y|s_{t,i},a_t) \\\\\n",
        " &= p(retn=y|rent=x)\\times p(rent=x) \\end{align*}$$ where $s_{t+1} = min(20,max(0,s_t-x+y)) $\n"
      ]
    },
    {
      "cell_type": "code",
      "metadata": {
        "id": "I9XXuP29AFjp",
        "colab_type": "code",
        "colab": {}
      },
      "source": [
        "max_cars = 20\n",
        "max_move = 5\n",
        "rent = [3,4]\n",
        "retn = [3,2]\n",
        "rent_cost = 10\n",
        "move_cost = -2\n",
        "\n",
        "def poisson(lamda,n):\n",
        "  return lamda**n/factorial(n)*np.exp(-lamda)\n",
        "\n",
        "def prob_rent(init_cars,lambda_rent):\n",
        "  sum_prob = 0\n",
        "  prob_rent = dict()\n",
        "  for i in range(init_cars):\n",
        "    prob_rent[i] = poisson(lambda_rent,i)\n",
        "    sum_prob = sum_prob + prob_rent[i]\n",
        "  prob_rent[init_cars] = 1 - sum_prob\n",
        "  return prob_rent\n",
        "\n",
        "def prob_retn(init,prob_rent,lambda_retn):\n",
        "  prob_cars = dict()\n",
        "  for k in prob_rent.keys():\n",
        "    c = init-k\n",
        "    sum_prob = 0\n",
        "    for i in range(max_cars-c):\n",
        "      prob = poisson(lambda_retn,i)\n",
        "      sum_prob = sum_prob + prob\n",
        "      if c+i in prob_cars.keys():\n",
        "        prob_cars[c+i] = prob_cars[c+i] + prob_rent[k]*prob\n",
        "      else:\n",
        "        prob_cars[c+i] = prob_rent[k]*prob\n",
        "    if max_cars in prob_cars.keys():\n",
        "      prob_cars[max_cars] = prob_cars[max_cars] + prob_rent[k]*(1-sum_prob)\n",
        "    else:\n",
        "      prob_cars[max_cars] = prob_rent[k]*(1-sum_prob)\n",
        "  return prob_cars\n",
        "\n",
        "def transition(lambda_rent,lambda_retn):\n",
        "  p_trans = dict()\n",
        "  for init_cars in range(max_cars+1):\n",
        "    p_rent = prob_rent(init_cars,lambda_rent)\n",
        "    p_trans[init_cars] = prob_retn(init_cars,p_rent,lambda_retn)\n",
        "  return p_trans\n",
        "\n",
        "p_trans_1 = transition(rent[0],retn[0])\n",
        "p_trans_2 = transition(rent[1],retn[1])"
      ],
      "execution_count": 0,
      "outputs": []
    },
    {
      "cell_type": "markdown",
      "metadata": {
        "id": "iY00p4RwXIH-",
        "colab_type": "text"
      },
      "source": [
        "### Initialize State Value Fuction and Policy"
      ]
    },
    {
      "cell_type": "code",
      "metadata": {
        "id": "9x-hvWVIXHMb",
        "colab_type": "code",
        "colab": {
          "base_uri": "https://localhost:8080/",
          "height": 34
        },
        "outputId": "7555c032-5e5c-4737-b474-55f7a9d133ca"
      },
      "source": [
        "state_value = np.zeros((max_cars+1,max_cars+1))\n",
        "pi = np.zeros((2*max_move+1,max_cars+1,max_cars+1))\n",
        "for j in range(pi.shape[2]):\n",
        "  for i in range(pi.shape[1]):\n",
        "    for k in range(max_move+1):\n",
        "      if k == 0:\n",
        "        pi[max_move,i,j] = 1\n",
        "      else:\n",
        "        if k <= i:\n",
        "          pi[max_move+k,i,j] = 1\n",
        "        if k <= j:\n",
        "          pi[max_move-k,i,j] = 1\n",
        "\n",
        "for i in range(pi.shape[1]):\n",
        "  for j in range(pi.shape[2]):\n",
        "    pi[:,i,j] = pi[:,i,j]/np.sum(pi[:,i,j])"
      ],
      "execution_count": 86,
      "outputs": [
        {
          "output_type": "stream",
          "text": [
            "[0.1 0.1 0.1 0.1 0.1 0.1 0.1 0.1 0.1 0.1 0. ]\n"
          ],
          "name": "stdout"
        }
      ]
    },
    {
      "cell_type": "markdown",
      "metadata": {
        "id": "wec_RV85RH_p",
        "colab_type": "text"
      },
      "source": [
        "### Policy Evaluation\n",
        "\n"
      ]
    },
    {
      "cell_type": "code",
      "metadata": {
        "id": "kbzEXuiSXhPL",
        "colab_type": "code",
        "colab": {}
      },
      "source": [
        "def evaluate_policy(v_s):\n",
        "  pass"
      ],
      "execution_count": 0,
      "outputs": []
    },
    {
      "cell_type": "markdown",
      "metadata": {
        "id": "NEHW5vv9OorU",
        "colab_type": "text"
      },
      "source": [
        "## Test"
      ]
    },
    {
      "cell_type": "code",
      "metadata": {
        "id": "dY6CghJuIBEU",
        "colab_type": "code",
        "outputId": "ab500eaf-9577-460b-831a-d76df9adfc69",
        "colab": {
          "base_uri": "https://localhost:8080/",
          "height": 476
        }
      },
      "source": [
        "cars_init = [7,7]\n",
        "p_rent = prob_rent(cars_init[1],rent[1])\n",
        "p_retn = prob_retn(cars_init[1],p_rent,retn[1])\n",
        "print(\"Probability of Rent\")\n",
        "print(p_rent)\n",
        "print(np.sum(list(p_rent.values())))\n",
        "print(\"Probability of Return\")\n",
        "\n",
        "total_prob = 0\n",
        "for i in range(max_cars+1):\n",
        "  print(i,p_retn[i]-p_trans_2[cars_init[1]][i])\n",
        "  total_prob = total_prob + p_retn[i]\n",
        "print(total_prob)\n",
        "print(np.sum(list(p_retn.values())))"
      ],
      "execution_count": 0,
      "outputs": [
        {
          "output_type": "stream",
          "text": [
            "Probability of Rent\n",
            "{0: 0.01831563888873418, 1: 0.07326255555493671, 2: 0.14652511110987343, 3: 0.19536681481316456, 4: 0.19536681481316456, 5: 0.15629345185053165, 6: 0.1041956345670211, 7: 0.11067397840257387}\n",
            "1.0\n",
            "Probability of Return\n",
            "0 0.0\n",
            "1 0.0\n",
            "2 0.0\n",
            "3 0.0\n",
            "4 0.0\n",
            "5 0.0\n",
            "6 0.0\n",
            "7 0.0\n",
            "8 0.0\n",
            "9 0.0\n",
            "10 0.0\n",
            "11 0.0\n",
            "12 0.0\n",
            "13 0.0\n",
            "14 0.0\n",
            "15 0.0\n",
            "16 0.0\n",
            "17 0.0\n",
            "18 0.0\n",
            "19 0.0\n",
            "20 0.0\n",
            "1.0000000000000002\n",
            "0.9999999999999999\n"
          ],
          "name": "stdout"
        }
      ]
    }
  ]
}