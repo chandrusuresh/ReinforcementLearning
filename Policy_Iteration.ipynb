{
  "nbformat": 4,
  "nbformat_minor": 0,
  "metadata": {
    "colab": {
      "name": "Policy Iteration.ipynb",
      "provenance": [],
      "collapsed_sections": [],
      "authorship_tag": "ABX9TyMo+9204nl31bRLmsq/JT97",
      "include_colab_link": true
    },
    "kernelspec": {
      "name": "python3",
      "display_name": "Python 3"
    }
  },
  "cells": [
    {
      "cell_type": "markdown",
      "metadata": {
        "id": "view-in-github",
        "colab_type": "text"
      },
      "source": [
        "<a href=\"https://colab.research.google.com/github/chandrusuresh/ReinforcementLearning/blob/master/Policy_Iteration.ipynb\" target=\"_parent\"><img src=\"https://colab.research.google.com/assets/colab-badge.svg\" alt=\"Open In Colab\"/></a>"
      ]
    },
    {
      "cell_type": "code",
      "metadata": {
        "id": "ygpKuMI3tYoX",
        "colab_type": "code",
        "colab": {}
      },
      "source": [
        "import numpy as np\n",
        "from scipy.special import factorial\n",
        "import matplotlib.pyplot as plt\n",
        "%matplotlib inline"
      ],
      "execution_count": 0,
      "outputs": []
    },
    {
      "cell_type": "markdown",
      "metadata": {
        "id": "dGu08hpiAB1n",
        "colab_type": "text"
      },
      "source": [
        "##Policy Iteration\n",
        "Policy iteration is an algorithm for evaluating the value function and improving it in successive iterations. Each iteration involves 2 steps - first step evaluates the policy and the second improves it. The first step is the same as the iterative policy evaluation algorithm and second step is the iteration policy improvement algorithm. Refer to the [Grid World notebook](https://github.com/chandrusuresh/ReinforcementLearning/blob/master/GridWorld.ipynb) for more details on these two steps/algorithms.\n",
        "\n",
        "The state and action value function equations are summarized here:\n",
        "\n",
        "$$\\textbf{State Value Function:  }  v_{k+1}(s) = \\sum_a{\\pi(a|s)} \\sum_{a,s'}{p(s',r|a,s) \\left(r + \\gamma v_k (s')\\right)}  $$\n",
        "\n",
        "$$\\textbf{Action Value Function:  }  q_\\pi (s,a) = \\sum_{r,s'}{p(s',r|a,s) \\left(r + \\gamma \\sum_{a'}{\\pi(a'|s') q_\\pi (s',a')}\\right)}  $$"
      ]
    },
    {
      "cell_type": "markdown",
      "metadata": {
        "id": "lSMDJU8-AGUK",
        "colab_type": "text"
      },
      "source": [
        "## Jack's Rental Car Problem\n",
        "\n",
        "Jack manages two locations for a nationwide car\n",
        "rental company. Each day, some number of customers arrive at each location to rent cars.\n",
        "\n",
        "Cost of rental = \\$10\n",
        "\n",
        "Cost of moving cars = -$2\n",
        "\n",
        "Max Cars = 20\n",
        "\n",
        "Max cars moved = 5\n",
        "\n",
        "Number of cars rented/returned is a Poisson distribution given by,\n",
        "$$P(rented/returned = n) = \\frac{\\lambda^n}{n!} e^{-\\lambda}$$ where $\\lambda$ is the expected number.\n",
        "\n",
        "$\\lambda_{rent}^1 = 3$, $\\lambda_{rent}^2 = 4$ and\n",
        "\n",
        "$\\lambda_{return}^1 = 3$,$\\lambda_{return}^2 = 2$\n",
        "\n",
        "$gamma = 0.9$\n",
        "Time steps = days\n",
        "\n",
        "State variable = Number of cars at each location at the end of the day\n",
        "\n",
        "Action variable = Number of cars moved"
      ]
    },
    {
      "cell_type": "markdown",
      "metadata": {
        "id": "lritsPWRIlTf",
        "colab_type": "text"
      },
      "source": [
        "## Approach"
      ]
    },
    {
      "cell_type": "markdown",
      "metadata": {
        "id": "wCYTicM2F4CP",
        "colab_type": "text"
      },
      "source": [
        "To solve this problem, we take a closer look at the independencies in the transition model.\n",
        "\n",
        "\n",
        "1.   Rental counts are independent of location. $P(rent_1=m_1,rent_2=m_2) = P(rent_1=m_1) \\times P(rent_2=m_2)$\n",
        "2.   Return counts are independent of location. $P(return_1=n_1,return_2=n_2) = P(return_1=n_1) \\times P(return_2=n_2)$\n",
        "3. If Number of cars at location i at the beginning of a day = $c_i$, define $P(rent_i=m_i) = \\Bigg\\{ \\begin{matrix} \\frac{\\lambda^{m_i}}{{m_i}!} e^{-\\lambda} & \\text{if  } m_i < c_i \\\\ 1 - \\sum_{k=0}^{m_i-1} {\\frac{\\lambda^k}{k!} e^{-\\lambda}} & otherwise \\end{matrix} $\n",
        "\n",
        "This definition is suited to compute the rewards for cases where number of rents/returns exceeds the capacity (rental capacity = $c_i$ and return capacity = $c_{max} - c_i + m_i$ and also to ensure probabilities are normalized.\n",
        "\n",
        "For example, if $c_i = 3$, probabilities are as follows for location $i=1$:\n",
        "\n",
        " $m_1$ | 0 | 1 | 2 | 3 | 4 | 5 | 6 | ... | $\\infty$\n",
        "--- | --- | --- | --- | --- | --- | --- | --- | --- | ---\n",
        "Poisson | 4.98e-02 | 1.49e-01 | 2.24e-01 | 2.24e-01 | 1.68e-01 | 1.01e-01 | 5.04e-02 | ... | ...\n",
        "Reward  | 0 | 10 | 20 | 30 | 30 | 30 | 30 | ... | ...\n",
        "\n",
        "Expected rental reward $\\mathop{{}\\mathbb{E_i}}$,\n",
        "$$ \\begin{align*} \\mathop{{}\\mathbb{E_i(c_i)}} &= \\sum_{m_i=0}^{\\infty}r_{rent}m_i \\frac{\\lambda^{m_i}}{{m_i}!} e^{-\\lambda} \\\\ &= r_{rent}\\sum_{m_i=0}^{c_i-1}m_i \\frac{\\lambda^{m_i}}{{m_i}!} e^{-\\lambda} + r_{rent}c_i\\sum_{m_i=c_i}^{\\infty} \\frac{\\lambda^{m_i}}{{m_i}!} e^{-\\lambda} \\\\ &= r_{rent}\\sum_{m_i=0}^{c_i-1}m_i \\frac{\\lambda^{m_i}}{{m_i}!} e^{-\\lambda} + r_{rent}c_i \\left( 1 - \\sum_{m_i=0}^{c_i-1} \\frac{\\lambda^{m_i}}{{m_i}!} e^{-\\lambda}\\right) \\\\ &= r_{rent}\\sum_{m_i=0}^{c_i}m_iP(rent_i=m_i)\\end{align*}$$\n",
        "\n",
        "A similar definition applies for $P(return_i = n_i)$\n",
        "\n",
        "4. Note that the rental reward is independent of the transition probability to the next state, where next state is the number of cars available for rent the next day. This is because the next state is computed as follows:\n",
        "$c_{i,k+1} = c_{i,k} - m_{i,k} + n_{i,k}$\n",
        "Note the additive noise in the form of returns at the end of day $k$ at location $i$ = $n_{i,k} \\sim \\text{Poisson}(\\lambda_{return,i}) $\n",
        "\n",
        "5. The next state $c_{i,k+1}$ is now a function of current state $c_{i,k}$, rentals in current day $m_{i,k}$ and returns in current day $n_{i,k}$. This can be summarized as follows:\n",
        "\n",
        "Assume, $c_{i,k} = 3$, probabilities are as follows for location $i=1$. The following table, displays the next state $c_{i,k+1} = 3 - m_{i,k} + n_{i,k}$\n",
        "\n",
        "$\\begin{matrix}n_1 \\rightarrow \\\\ m_1 \\downarrow\\end{matrix}$ | 0 | 1 | 2 | 3 | 4 | 5 | 6 | ...\n",
        "---|---|---|---|---|---|---|---|---\n",
        "0|3|4|5|6|7|8|9|...\n",
        "1|2|3|4|5|6|7|8|...\n",
        "2|1|2|3|4|5|6|7|...\n",
        "3|0|1|2|3|4|5|6|...\n",
        "\n",
        "Note that $$P(c_{i,k+1} = m_{i,k+1}) = \\sum_{m_{i,k}=0}^{c_{i,k}} P(rent_i=m_{i,k})\\times P(return_i=m_{i,k+1}-c_{i,k}+m_{i,k})$$\n",
        "\n",
        "6. Extending the above equation to include the action $a_k$,\n",
        "$$P(c_{i,k+1} = m_{i,k+1}|c_{i,k},a_k) = \\sum_{m_{i,k}=0}^{\\tilde{c}_{i,k}} P(rent_i=m_{i,k})\\times P(return_i=m_{i,k+1}-\\tilde{c}_{i,k}+m_{i,k})$$\n",
        "where $\\tilde{c}_{i,k} = c_{i,k}-(-1)^ia_k$ and $a_k \\Bigg\\{ \\begin{matrix} \\geq 0 & \\text{ vehicles moved from location 1 to 2} \\\\ < 0 & \\text{ vehicles moved from location 2 to 1} \\end{matrix}$\n",
        "\n",
        "7. Based on 1 & 2 above and expressing $s_k = \\left[\\begin{matrix}c_{1,k} \\\\ c_{2,k} \\end{matrix}\\right]$,\n",
        "$$ P(s_{k+1}|s_k,a_k) = \\prod_{i=1}^2 P(c_{i,k+1} = m_{i,k+1}|c_{i,k},a_k)$$\n",
        "8. Based on 4 above the current rewards and the discounted future rewards from transitions can be decoupled.\n",
        "$$ P(s_{k+1},r|s_k,a_k)(r+\\gamma v_{\\pi}(s_{k+1}) = \\sum_{i=1}^2\\mathop{{}\\mathbb{E_i}}(\\tilde{c}_{i,k})+r_{move} \\lvert a_k \\rvert + \\gamma P(s_{k+1}|s_k,a_k) v_{\\pi}(s_{k+1})$$\n"
      ]
    },
    {
      "cell_type": "markdown",
      "metadata": {
        "id": "siNIll5yIxlK",
        "colab_type": "text"
      },
      "source": [
        "### Parameters"
      ]
    },
    {
      "cell_type": "code",
      "metadata": {
        "id": "I9XXuP29AFjp",
        "colab_type": "code",
        "colab": {}
      },
      "source": [
        "max_cars = 20\n",
        "max_move = 5\n",
        "rent = [3,4]\n",
        "retn = [3,2]\n",
        "rent_cost = 10\n",
        "move_cost = -2\n",
        "gamma = 0.9"
      ],
      "execution_count": 0,
      "outputs": []
    },
    {
      "cell_type": "markdown",
      "metadata": {
        "id": "s82kHQnqJ7fh",
        "colab_type": "text"
      },
      "source": [
        "### Code"
      ]
    },
    {
      "cell_type": "code",
      "metadata": {
        "id": "QPTAtPOzJ384",
        "colab_type": "code",
        "colab": {}
      },
      "source": [
        "def poisson(lamda,n):\n",
        "  return lamda**n/factorial(n)*np.exp(-lamda)\n",
        "\n",
        "def modified_prob(max_n,lamda):\n",
        "  prob = np.zeros((len(lamda),max_n+1))\n",
        "  for k in range(max_n):\n",
        "      prob[:,k] = poisson(lamda,k).reshape((len(lamda),))\n",
        "  prob[:,max_n] = (1-np.sum(prob,1)).reshape((len(lamda),))\n",
        "  return prob\n",
        "\n",
        "def expected_rental_reward(c,P_rent,r_rent):\n",
        "  reward = 0\n",
        "  prob = []\n",
        "  for i in range(len(c)):\n",
        "    prob.append(np.hstack((P_rent[i,:c[i]],1-np.sum(P_rent[i,:c[i]]))))\n",
        "  for i in range(c[0]+1):\n",
        "    p_i = prob[0][i]\n",
        "    for j in range(c[1]+1):\n",
        "      p_j = prob[1][j]\n",
        "      reward = reward + r_rent*(i+j)*p_i*p_j\n",
        "  return reward\n",
        "\n",
        "def get_trans_prob(c,P_rent,P_retn,idx):\n",
        "  prob_rent = np.hstack((P_rent[idx,:c[idx]],1-np.sum(P_rent[idx,:c[idx]])))\n",
        "  p_trans = np.zeros((max_cars+1,))\n",
        "  reward = 0\n",
        "  for mi in range(c[idx]+1):\n",
        "    current = c[idx]-mi\n",
        "    p_retn_tmp = np.hstack((P_retn[idx,:max_cars-current],1-np.sum(P_retn[idx,:max_cars-current])))\n",
        "    for ni in range(len(p_retn_tmp)):\n",
        "      c_next = c[idx] + ni - mi\n",
        "      p_trans[c_next] = p_trans[c_next] + prob_rent[mi]*p_retn_tmp[ni]\n",
        "  return p_trans\n",
        "\n",
        "def prob_transition(c,P_rent,P_retn):\n",
        "  p_trans_1 = get_trans_prob(c,P_rent,P_retn,0)\n",
        "  p_trans_2 = get_trans_prob(c,P_rent,P_retn,1)\n",
        "  \n",
        "  p_trans = np.zeros((len(p_trans_1),len(p_trans_2)))\n",
        "  for i in range(len(p_trans_1)):\n",
        "    for j in range(len(p_trans_2)):\n",
        "      p_trans[i,j] = p_trans_1[i]*p_trans_2[j]\n",
        "  # print(\"Rental probability is normalized?: \",np.sum(p_trans)==1)\n",
        "  return p_trans"
      ],
      "execution_count": 0,
      "outputs": []
    },
    {
      "cell_type": "markdown",
      "metadata": {
        "id": "OVORXPhsJ_9a",
        "colab_type": "text"
      },
      "source": [
        "### Pre-processing"
      ]
    },
    {
      "cell_type": "code",
      "metadata": {
        "id": "pdO8MRudKQlj",
        "colab_type": "code",
        "colab": {}
      },
      "source": [
        "## Precompute the poisson probabilities to avoid recomputing\n",
        "p_rent_master = modified_prob(max_cars,np.array(rent))\n",
        "p_retn_master = modified_prob(max_cars,np.array(retn))"
      ],
      "execution_count": 0,
      "outputs": []
    },
    {
      "cell_type": "markdown",
      "metadata": {
        "id": "t1P-wPz5KFXE",
        "colab_type": "text"
      },
      "source": [
        "## Policy Iteration"
      ]
    },
    {
      "cell_type": "code",
      "metadata": {
        "id": "s4DSvf2xQ5Yq",
        "colab_type": "code",
        "outputId": "3671a562-b6bf-499a-d187-7f2a1dcedbf2",
        "colab": {
          "base_uri": "https://localhost:8080/",
          "height": 34
        }
      },
      "source": [
        "actions = list(range(-max_move,max_move+1))\n",
        "vs_init = np.zeros((max_cars+1,max_cars+1))\n",
        "pi_init = np.zeros((len(actions),vs_init.shape[0],vs_init.shape[1]))\n",
        "pi_init[max_move,:,:] = 1\n",
        "rent_cost = 10\n",
        "move_cost = -2\n",
        "print('Move Cost = ',move_cost)\n",
        "\n",
        "def eval_policy(vs,pi):\n",
        "  vs_new = np.copy(vs)\n",
        "  error = 0\n",
        "  for i in range(max_cars+1):\n",
        "    for j in range(max_cars+1):\n",
        "      s = [i,j]\n",
        "      pi_s = pi[:,i,j]\n",
        "      ind = np.where(pi_s > 0)[0]\n",
        "      new_val = 0\n",
        "      for idx in ind:\n",
        "        a = actions[idx]\n",
        "        new_c = np.array(s) - a*np.array([1,-1])\n",
        "        p_trans = prob_transition(new_c,p_rent_master,p_retn_master)\n",
        "        E = expected_rental_reward(new_c,p_rent_master,rent_cost)\n",
        "        new_val = new_val + pi_s[idx]*(E + move_cost*abs(a) + gamma*np.sum(p_trans*vs_new))\n",
        "      error = max(error,np.abs(new_val-vs[i,j]))\n",
        "      vs_new[i,j] = new_val\n",
        "  return vs_new,error\n",
        "\n",
        "def imprv_policy(v_s):\n",
        "  pi_new = np.zeros((len(actions),v_s.shape[0],v_s.shape[1]))\n",
        "  for i in range(v_s.shape[0]):\n",
        "    for j in range(v_s.shape[1]):\n",
        "      val = dict()\n",
        "      s = [i,j]\n",
        "      for ai,a in enumerate(actions):\n",
        "        new_c = np.array(s) - a*np.array([1,-1])\n",
        "        if np.min(new_c) < 0 or np.max(new_c) > max_cars:\n",
        "          continue\n",
        "        p_trans = prob_transition(new_c,p_rent_master,p_retn_master)\n",
        "        E = expected_rental_reward(new_c,p_rent_master,rent_cost)\n",
        "        new_val = (E + move_cost*abs(a) + gamma*np.sum(p_trans*v_s))\n",
        "        if new_val in val.keys():\n",
        "          val[new_val].append(ai)\n",
        "        else:\n",
        "          val[new_val] = [ai]\n",
        "      max_val = np.max(list(val.keys()))\n",
        "      # print(val)\n",
        "      for ai in val[max_val]:\n",
        "        pi_new[ai,i,j] = 1/float(len(val[max_val]))\n",
        "  return pi_new\n",
        "\n",
        "def plotAction(pi):\n",
        "  action_values = np.zeros((pi.shape[1],pi.shape[2]))\n",
        "  fig,ax = plt.subplots(1,1,figsize=(10,7))\n",
        "  for i in range(pi.shape[1]):\n",
        "    for j in range(pi.shape[2]):\n",
        "      ind = np.where(pi[:,i,j] == 1)[0]\n",
        "      action_values[i,j] = ind[0]-max_move\n",
        "\n",
        "  x = list(range(max_cars+1))\n",
        "  y = list(range(max_cars+1))\n",
        "  X,Y = np.meshgrid(x,y)\n",
        "\n",
        "  # fig,ax = plt.subplots(1,1,figsize=(10,7))\n",
        "  cp = ax.contour(X, Y, action_values,levels=actions)\n",
        "  ax.clabel(cp, inline=True, fontsize=10)\n",
        "  # ax.set_title('Contour Plot')\n",
        "  ax.set_xlabel('cars in location 1')\n",
        "  ax.set_ylabel('cars in location 2')\n",
        "  ax.grid(True)\n",
        "  plt.colorbar(cp)\n",
        "  plt.show()\n",
        "\n",
        "def dispAction(pi):\n",
        "  pi_mat = np.zeros((pi.shape[1],pi.shape[2]))#,dtype=int)\n",
        "  for i in range(pi.shape[1]):\n",
        "    for j in range(pi.shape[2]):\n",
        "      idx = np.where(pi[:,i,j] > 0)[0]\n",
        "      if len(idx) == 1:\n",
        "        pi_mat[i,j] = actions[idx[0]]\n",
        "  return pi_mat\n",
        "\n",
        "def policy_iteration(vs_init,pi_init,policy_iter_max,value_iter_max,error_tol):\n",
        "  vs_prev = np.copy(vs_init)\n",
        "  pi_prev = np.copy(pi_init)\n",
        "  policy = [pi_prev]\n",
        "  for k in range(policy_iter_max):\n",
        "    iter = 0\n",
        "    while iter < value_iter_max:\n",
        "      vs_new,error = eval_policy(vs_prev,pi_prev)\n",
        "      # print(iter,error)\n",
        "      vs_prev = np.copy(vs_new)\n",
        "      if (error < error_tol):\n",
        "        break\n",
        "      iter = iter + 1\n",
        "    print(k,iter,error)\n",
        "    pi_new = imprv_policy(vs_prev)\n",
        "    if np.max(np.abs(pi_new-pi_prev)) <= 1E-3:\n",
        "      print('Policy iteration converged after ',k,' iterations!')\n",
        "      break\n",
        "    pi_prev = np.copy(pi_new)\n",
        "    policy.append(pi_prev)\n",
        "\n",
        "  return policy,vs_prev"
      ],
      "execution_count": 5,
      "outputs": [
        {
          "output_type": "stream",
          "text": [
            "Move Cost =  -2\n"
          ],
          "name": "stdout"
        }
      ]
    },
    {
      "cell_type": "code",
      "metadata": {
        "id": "jlbAVGgjqvpe",
        "colab_type": "code",
        "outputId": "4ee97336-194b-46e5-a5d3-69f9e8059515",
        "colab": {
          "base_uri": "https://localhost:8080/",
          "height": 119
        }
      },
      "source": [
        "policy_iter_max = 15\n",
        "value_iter_max = 100\n",
        "error_tol = 0.1\n",
        "pi,vs = policy_iteration(vs_init,pi_init,policy_iter_max,value_iter_max,error_tol)"
      ],
      "execution_count": 6,
      "outputs": [
        {
          "output_type": "stream",
          "text": [
            "0 37 0.08606316780372936\n",
            "1 18 0.08414662965424213\n",
            "2 12 0.09209736688450221\n",
            "3 3 0.07076254363619228\n",
            "4 0 0.07720042178539188\n",
            "Policy iteration converged after  4  iterations!\n"
          ],
          "name": "stdout"
        }
      ]
    },
    {
      "cell_type": "code",
      "metadata": {
        "id": "j86l6c5kzD0S",
        "colab_type": "code",
        "outputId": "5187d525-73e2-4a9e-ed3b-3179c365f8c6",
        "colab": {
          "base_uri": "https://localhost:8080/",
          "height": 440
        }
      },
      "source": [
        "fig = plt.figure(figsize=(12,7))\n",
        "c = 0\n",
        "ax1 = []\n",
        "for i in range(2):\n",
        "  for j in range(3):\n",
        "    c = c+1\n",
        "    if (c == len(pi)+1):\n",
        "      break\n",
        "    pi_mat = dispAction(pi[c-1])\n",
        "    ax1.append(fig.add_subplot(2, 3, c))\n",
        "    ax1[c-1].matshow(pi_mat, cmap='binary')\n",
        "    ax1[c-1].invert_yaxis()\n",
        "    ax1[c-1].set_xticks([])\n",
        "    ax1[c-1].set_yticks([])\n",
        "    ax1[c-1].set_title('pi'+str(c-1))\n",
        "\n",
        "from mpl_toolkits.mplot3d import axes3d\n",
        "x = list(range(max_cars+1))\n",
        "y = list(range(max_cars+1))\n",
        "X,Y = np.meshgrid(x,y)\n",
        "ax12 = fig.add_subplot(2, 3, 6, projection='3d')\n",
        "ax12.set_title('Final state value function')\n",
        "ax12.plot_wireframe(X, Y, vs)#, rstride=10, cstride=10)\n",
        "ax12.view_init(elev=50., azim=-60)"
      ],
      "execution_count": 7,
      "outputs": [
        {
          "output_type": "display_data",
          "data": {
            "image/png": "[encoded data removed]",
            "text/plain": [
              "<Figure size 864x504 with 6 Axes>"
            ]
          },
          "metadata": {
            "tags": [],
            "needs_background": "light"
          }
        }
      ]
    }
  ]
}