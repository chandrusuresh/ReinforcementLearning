{
  "nbformat": 4,
  "nbformat_minor": 0,
  "metadata": {
    "colab": {
      "name": "Policy Iteration.ipynb",
      "provenance": [],
      "authorship_tag": "ABX9TyMvDix0A6FtAWkArcyv1I6z",
      "include_colab_link": true
    },
    "kernelspec": {
      "name": "python3",
      "display_name": "Python 3"
    }
  },
  "cells": [
    {
      "cell_type": "markdown",
      "metadata": {
        "id": "view-in-github",
        "colab_type": "text"
      },
      "source": [
        "<a href=\"https://colab.research.google.com/github/chandrusuresh/ReinforcementLearning/blob/master/Policy_Iteration.ipynb\" target=\"_parent\"><img src=\"https://colab.research.google.com/assets/colab-badge.svg\" alt=\"Open In Colab\"/></a>"
      ]
    },
    {
      "cell_type": "code",
      "metadata": {
        "id": "ygpKuMI3tYoX",
        "colab_type": "code",
        "colab": {}
      },
      "source": [
        "import numpy as np\n",
        "from scipy.special import factorial"
      ],
      "execution_count": 0,
      "outputs": []
    },
    {
      "cell_type": "markdown",
      "metadata": {
        "id": "dGu08hpiAB1n",
        "colab_type": "text"
      },
      "source": [
        "##Policy Iteration\n",
        "Policy iteration is an algorithm for evaluating the value function and improving it in successive iterations. Each iteration involves 2 steps - first step evaluates the policy and the second improves it. The first step is the same as the iterative policy evaluation algorithm and second step is the iteration policy improvement algorithm. Refer to the Grid World example for more details on these two algorithms."
      ]
    },
    {
      "cell_type": "markdown",
      "metadata": {
        "id": "lSMDJU8-AGUK",
        "colab_type": "text"
      },
      "source": [
        "## Jack's Rental Car Problem\n",
        "\n",
        "Jack manages two locations for a nationwide car\n",
        "rental company. Each day, some number of customers arrive at each location to rent cars.\n",
        "\n",
        "Cost of rental = \\$10\n",
        "\n",
        "Cost of moving cars = -$2\n",
        "\n",
        "Max Cars = 20\n",
        "\n",
        "Max cars moved = 5\n",
        "\n",
        "Number of cars rented/returned is a Poisson distribution given by,\n",
        "$$P(rented/returned = n) = \\frac{\\lambda^n}{n!} e^{-\\lambda}$$ where $\\lambda$ is the expected number.\n",
        "\n",
        "$\\lambda_{rent}^1 = 3$, $\\lambda_{rent}^2 = 4$ and\n",
        "\n",
        "$\\lambda_{return}^1 = 3$,$\\lambda_{return}^2 = 2$\n",
        "\n",
        "$gamma = 0.9$\n",
        "Time steps = days\n",
        "\n",
        "State variable = Number of cars at each location at the end of the day\n",
        "\n",
        "Action variable = Number of cars moved"
      ]
    },
    {
      "cell_type": "code",
      "metadata": {
        "id": "I9XXuP29AFjp",
        "colab_type": "code",
        "colab": {}
      },
      "source": [
        "max_cars = 20\n",
        "max_move = 5\n",
        "rent = [3,4]\n",
        "retn = [3,2]\n",
        "rent_cost = 10\n",
        "move_cost = -2\n",
        "\n",
        "def poisson(lamda,n):\n",
        "  return lamda**n/factorial(n)*np.exp(-lamda)\n",
        "\n",
        "def prob_rent(init_cars,lambda_rent):\n",
        "  sum_prob = 0\n",
        "  prob_rent = dict()\n",
        "  for i in range(init_cars):\n",
        "    prob_rent[i] = poisson(lambda_rent,i)\n",
        "    sum_prob = sum_prob + prob_rent[i]\n",
        "  prob_rent[init_cars] = 1 - sum_prob\n",
        "  return prob_rent\n",
        "\n",
        "def prob_retn(init,prob_rent,lambda_retn):\n",
        "  prob_cars = dict()\n",
        "  for k in prob_rent.keys():\n",
        "    c = init-k\n",
        "    sum_prob = 0\n",
        "    for i in range(max_cars-c):\n",
        "      prob = poisson(lambda_retn,i)\n",
        "      sum_prob = sum_prob + prob\n",
        "      if c+i in prob_cars.keys():\n",
        "        prob_cars[c+i] = prob_cars[c+i] + prob_rent[k]*prob\n",
        "      else:\n",
        "        prob_cars[c+i] = prob_rent[k]*prob\n",
        "    if max_cars in prob_cars.keys():\n",
        "      prob_cars[max_cars] = prob_cars[max_cars] + prob_rent[k]*(1-sum_prob)\n",
        "    else:\n",
        "      prob_cars[max_cars] = prob_rent[k]*(1-sum_prob)\n",
        "  return prob_cars\n",
        "\n",
        "def transition(lambda_rent,lambda_retn):\n",
        "  p_trans = dict()\n",
        "  for init_cars in range(max_cars+1):\n",
        "    p_rent = prob_rent(init_cars,lambda_rent)\n",
        "    p_trans[init_cars] = prob_retn(init_cars,p_rent,lambda_retn)\n",
        "  return p_trans\n",
        "\n",
        "p_trans_1 = transition(rent[0],retn[0])\n",
        "p_trans_2 = transition(rent[1],retn[1])"
      ],
      "execution_count": 0,
      "outputs": []
    },
    {
      "cell_type": "markdown",
      "metadata": {
        "id": "NEHW5vv9OorU",
        "colab_type": "text"
      },
      "source": [
        "## Test"
      ]
    },
    {
      "cell_type": "code",
      "metadata": {
        "id": "dY6CghJuIBEU",
        "colab_type": "code",
        "colab": {
          "base_uri": "https://localhost:8080/",
          "height": 476
        },
        "outputId": "ab500eaf-9577-460b-831a-d76df9adfc69"
      },
      "source": [
        "cars_init = [7,7]\n",
        "p_rent = prob_rent(cars_init[1],rent[1])\n",
        "p_retn = prob_retn(cars_init[1],p_rent,retn[1])\n",
        "print(\"Probability of Rent\")\n",
        "print(p_rent)\n",
        "print(np.sum(list(p_rent.values())))\n",
        "print(\"Probability of Return\")\n",
        "\n",
        "total_prob = 0\n",
        "for i in range(max_cars+1):\n",
        "  print(i,p_retn[i]-p_trans_2[cars_init[1]][i])\n",
        "  total_prob = total_prob + p_retn[i]\n",
        "print(total_prob)\n",
        "print(np.sum(list(p_retn.values())))"
      ],
      "execution_count": 48,
      "outputs": [
        {
          "output_type": "stream",
          "text": [
            "Probability of Rent\n",
            "{0: 0.01831563888873418, 1: 0.07326255555493671, 2: 0.14652511110987343, 3: 0.19536681481316456, 4: 0.19536681481316456, 5: 0.15629345185053165, 6: 0.1041956345670211, 7: 0.11067397840257387}\n",
            "1.0\n",
            "Probability of Return\n",
            "0 0.0\n",
            "1 0.0\n",
            "2 0.0\n",
            "3 0.0\n",
            "4 0.0\n",
            "5 0.0\n",
            "6 0.0\n",
            "7 0.0\n",
            "8 0.0\n",
            "9 0.0\n",
            "10 0.0\n",
            "11 0.0\n",
            "12 0.0\n",
            "13 0.0\n",
            "14 0.0\n",
            "15 0.0\n",
            "16 0.0\n",
            "17 0.0\n",
            "18 0.0\n",
            "19 0.0\n",
            "20 0.0\n",
            "1.0000000000000002\n",
            "0.9999999999999999\n"
          ],
          "name": "stdout"
        }
      ]
    }
  ]
}