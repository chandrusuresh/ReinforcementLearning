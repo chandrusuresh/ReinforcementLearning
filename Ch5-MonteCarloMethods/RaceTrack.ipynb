{
  "nbformat": 4,
  "nbformat_minor": 0,
  "metadata": {
    "colab": {
      "name": "RaceTrack.ipynb",
      "provenance": [],
      "authorship_tag": "ABX9TyPs1dDwXUjxzRU+yiNdSy+O",
      "include_colab_link": true
    },
    "kernelspec": {
      "name": "python3",
      "display_name": "Python 3"
    }
  },
  "cells": [
    {
      "cell_type": "markdown",
      "metadata": {
        "id": "view-in-github",
        "colab_type": "text"
      },
      "source": [
        "<a href=\"https://colab.research.google.com/github/chandrusuresh/ReinforcementLearning/blob/master/Ch5-MonteCarloMethods/RaceTrack.ipynb\" target=\"_parent\"><img src=\"https://colab.research.google.com/assets/colab-badge.svg\" alt=\"Open In Colab\"/></a>"
      ]
    },
    {
      "cell_type": "code",
      "metadata": {
        "id": "ToJb-Y89nKVl",
        "colab_type": "code",
        "colab": {}
      },
      "source": [
        "import numpy as np\n",
        "import matplotlib.pyplot as plt\n",
        "from matplotlib import colors\n",
        "%matplotlib inline\n",
        "from tqdm import tqdm\n",
        "from enum import Enum\n",
        "# np.random.seed(0)"
      ],
      "execution_count": 1,
      "outputs": []
    },
    {
      "cell_type": "markdown",
      "metadata": {
        "id": "SzPO2dUE6EDS",
        "colab_type": "text"
      },
      "source": [
        "# Race Track\n",
        "\n",
        "This is the solution to Exercise-5.12 in Page-111 of the book [\"Reinforcement Learning\" by Barto, Sutton](http://incompleteideas.net/sutton/book/the-book.html).\n",
        "\n",
        "The summary of the problem is as follows:\n",
        "1. We have a map of a race track that is discretized by a grid of cells. Each cell corresponds to a position on the race track.\n",
        "2. The goal is to find the optimal path from a set of cells marked start line to another set of cells marked the finish line. For simplicity, the start line is assumed to be in the last row of the grid (bottom) and finish line is assumed to be in the last column of the grid (right).\n",
        "3. The track also has a set of valid & invalid cells. The invalid cells represent obstacles or out-of-bounds. No path is allowed to pass through an obstacle.\n",
        "4. Each time a path gets on a cell labelled obstacle, the position resets to a random start cell and the episode continues. The episode ends with the final state vector passes through or gets to any cell labeled finish line.\n",
        "5. The state vector is given by the position and velocity in the x & y directions. i.e. $\\text{state} = [p_x,p_y,v_x,v_y]$ where $p,v$ represent the position and velocity.\n",
        "5. The input vector is the acceleration at each time step given by: $\\text{input} = [a_x,a_y]$ where $a_x,a_y \\in \\{-1,0,1\\}$. The maximum number of possible actions is therefore (=3 $\\times$ 3) 9.\n",
        "6. In the simplest case, the state transition is a deterministic function of the current state and action. The state transition is computed as follows:\n",
        "$$ \\begin{align*} \\left[\\begin{matrix} p_x \\\\p_y \\\\ v_x \\\\ v_y\\end{matrix} \\right]_{k+1} &= \\left[ \\begin{matrix} 1 & 0 & 1 & 0 \\\\ 0 & 1 & 0 & 1 \\\\ 0 & 0 & 1 & 0 \\\\ 0 & 0 & 0 & 1 \\end{matrix}\\right] \\left[\\begin{matrix} p_x \\\\p_y \\\\ v_x \\\\ v_y\\end{matrix} \\right]_{k}+ \\left[ \\begin{matrix} 1 & 0 \\\\ 0 & 1 \\\\ 1 & 0 \\\\ 0 & 1 \\end{matrix}\\right] \\left[ \\begin{matrix} a_x \\\\ a_y \\end{matrix}\\right]_k \\\\ \\\\\n",
        "\\Rightarrow s_{k+1} &= A s_k + B a_k \\end{align*}$$\n",
        "\n",
        "##### **Bonus Challenge**\n",
        "8. The above deterministic transition condition is relaxed as follows where the velocity increments (accleration input) are 0 with probability 0.1\n",
        "$$ \\Rightarrow s_{k+1} = \\Bigg\\{ \\begin{matrix} A s_k + B a_k & \\text{with probabilty=0.9} \\\\ A s_k & \\text{with probabilty=0.1} \\end{matrix}$$ \n"
      ]
    },
    {
      "cell_type": "markdown",
      "metadata": {
        "id": "Odvgucmx4eFL",
        "colab_type": "text"
      },
      "source": [
        "### Initialize Tracks"
      ]
    },
    {
      "cell_type": "code",
      "metadata": {
        "id": "eS5tWIN7paU8",
        "colab_type": "code",
        "colab": {}
      },
      "source": [
        "VALID = 0\n",
        "START = 1\n",
        "PATH = 2\n",
        "FINISH = 3\n",
        "OBSTACLE = 4\n",
        "\n",
        "def get_circuits():\n",
        "  nRows_1 = 32\n",
        "  nCols_1 = 17\n",
        "  map_1 = np.zeros((nRows_1,nCols_1),dtype=np.int8)\n",
        "  map_1[-1,3:9] = START\n",
        "  map_1[0:6,-1] = FINISH\n",
        "  map_1[-3:,:3] = OBSTACLE\n",
        "  map_1[-10:-3:,:2] = OBSTACLE\n",
        "  map_1[-18:-10:,:1] = OBSTACLE\n",
        "  map_1[0,:3] = OBSTACLE\n",
        "  map_1[1:3,:2] = OBSTACLE\n",
        "  map_1[3,:1] = OBSTACLE\n",
        "  map_1[7:,9:] = OBSTACLE\n",
        "  map_1[6,10:] = OBSTACLE\n",
        "\n",
        "  nRows_2 = 30\n",
        "  nCols_2 = 32\n",
        "  map_2 = np.zeros((nRows_2,nCols_2),dtype=np.int8)\n",
        "  map_2[-1,:23] = START\n",
        "  map_2[0:9,-1] = FINISH\n",
        "  map_2[-17:,23:] = OBSTACLE\n",
        "  map_2[-18:,24:] = OBSTACLE\n",
        "  map_2[-19:,26:] = OBSTACLE\n",
        "  map_2[-20:,27:] = OBSTACLE\n",
        "  map_2[-21:,30:] = OBSTACLE\n",
        "  map_2[0,:16] = OBSTACLE\n",
        "  map_2[[1,8],:13] = OBSTACLE\n",
        "  map_2[[2,7],:12] = OBSTACLE\n",
        "  map_2[3:7,:11] = OBSTACLE\n",
        "  map_2[9:14,:14] = OBSTACLE\n",
        "  c = 1\n",
        "  for i in range(14,nRows_2-2):\n",
        "    map_2[i,:14-c] = OBSTACLE\n",
        "    c += 1\n",
        "  return map_1,map_2\n",
        "\n",
        "def plot_circuit(fig,map,num):\n",
        "  nRows,nCols = map.shape\n",
        "  # create discrete colormap\n",
        "  #cmap = colors.ListedColormap(['red', 'blue'])\n",
        "  cmap = colors.ListedColormap(['white','red','blue','green','black'])\n",
        "  bounds = [0,0.1,3]\n",
        "  norm = colors.BoundaryNorm(bounds, cmap.N)\n",
        "  ax = fig.add_subplot(1,2,num)\n",
        "  ax.imshow(map, cmap=cmap)#, norm=norm)\n",
        "\n",
        "  ### draw gridlines\n",
        "  # ax = plt.gca();\n",
        "  ax.set_xticks(np.arange(-0.5, nCols+0.5, 1));\n",
        "  ax.set_yticks(np.arange(-0.5, nRows+0.5, 1));\n",
        "  ax.set_xticklabels(np.arange(-0.5, nCols+0.5, 1));\n",
        "  ax.set_yticklabels(np.arange(-0.5, nRows+0.5, 1));\n",
        "  ax.grid(color='k', linestyle='-', linewidth=1)\n",
        "\n",
        "  ax.set_xticklabels([])\n",
        "  ax.set_yticklabels([])\n",
        "  ax.xaxis.set_ticks_position('none')\n",
        "  ax.yaxis.set_ticks_position('none')"
      ],
      "execution_count": 2,
      "outputs": []
    },
    {
      "cell_type": "markdown",
      "metadata": {
        "id": "NvRmT82s4hvM",
        "colab_type": "text"
      },
      "source": [
        "### Visualize Race Tracks"
      ]
    },
    {
      "cell_type": "code",
      "metadata": {
        "id": "6qyW-kHqz-Va",
        "colab_type": "code",
        "colab": {
          "base_uri": "https://localhost:8080/",
          "height": 411
        },
        "outputId": "58385614-c622-4728-c6f3-907efffa5d9f"
      },
      "source": [
        "map_1,map_2 = get_circuits()\n",
        "fig = plt.figure(figsize=(20,7))#20,7)\n",
        "plot_circuit(fig,map_1,1)\n",
        "plot_circuit(fig,map_2,2)"
      ],
      "execution_count": 3,
      "outputs": [
        {
          "output_type": "display_data",
          "data": {
            "image/png": "[encoded data removed]",
            "text/plain": [
              "<Figure size 1440x504 with 2 Axes>"
            ]
          },
          "metadata": {
            "tags": [],
            "needs_background": "light"
          }
        }
      ]
    },
    {
      "cell_type": "markdown",
      "metadata": {
        "id": "Wt-hLA3pBg74",
        "colab_type": "text"
      },
      "source": [
        "### Constants"
      ]
    },
    {
      "cell_type": "code",
      "metadata": {
        "id": "aJ43rrCTBkD6",
        "colab_type": "code",
        "colab": {}
      },
      "source": [
        "max_velocity = 5\n",
        "actions = np.array([[-1,-1],[-1,0],[-1,1],[0,-1],[0,0],[0,1],[1,-1],[1,0],[1,1]])\n",
        "gamma = 1.0\n",
        "A_mat = np.matrix([[1,0,1,0],[0,1,0,1],[0,0,1,0],[0,0,0,1]])\n",
        "B_mat = np.matrix([[1,0],[0,1],[1,0],[0,1]])"
      ],
      "execution_count": 4,
      "outputs": []
    },
    {
      "cell_type": "markdown",
      "metadata": {
        "id": "H7J-6EiFmSPr",
        "colab_type": "text"
      },
      "source": [
        "## Path Finding\n",
        "\n",
        "First, we try to solve the relax the optimal requirement in the problem statement and focus just on being able to find a feasible trajectory from the start to finish line. For this, the Monte-Carlo Off-policy control algorithm in Page-111 of the book is used.\n",
        "1. Behavior policy. The behavior policy is set up to allow exploration of all states and satisfy the problem constraints simultaneously.\n",
        "2. The behavior policy is made restrictive to satisfy the problem constraints to allow more valid control inputs through the MC simulation. This allows a greater fraction of the episodes to terminate and leads to more coverage. In addition, encoding the known constraints in the behavior policy does not hurt exploration in any way. Some of these constraints are encoded in the behavior policy are as follows: \n",
        "\n",
        "*   The path is forbidden to leave the grid from the initial state. This is redundant since the condition for out-of-bounds is checked every step, but is included to speed up convergence\n",
        "*   The velocity components cannot both be zero at any cell other than the start line. This means that any action that makes the speed zero in any valid cell is forbidden by the behavior policy\n",
        "*   The speeds in both directions cannot exceed the max speed limit of 5 units. So the acceleration inputs that increase/decrease the velocith below this threshold are forbidden.\n",
        "\n",
        ">   The behavior policy chooses the actions that satisfy the above constraints with equal probability.\n",
        "\n",
        "3. This part of the problem focusses only on path-finding, therefore the reward is therefore modified to be terminal and all states in the trajectory are given a reward of +1 on reaching the finish line and -1 for going out-of-bounds.\n",
        "\n",
        "\n",
        "\n",
        "\n",
        "\n",
        "\n",
        "\n"
      ]
    },
    {
      "cell_type": "code",
      "metadata": {
        "id": "Q-rplh5P5KOY",
        "colab_type": "code",
        "colab": {}
      },
      "source": [
        "def init_state(map):\n",
        "  find_start_line = np.where(map == START)\n",
        "  choice = np.random.choice(range(len(find_start_line[0])))\n",
        "  init = [find_start_line[0][choice],find_start_line[1][choice],0,0]\n",
        "  return init\n",
        "\n",
        "def check_termination(map,curr_state):\n",
        "  finish_line = np.where(map == FINISH)\n",
        "  return curr_state[1] >= finish_line[1][0] and curr_state[0] >= np.min(finish_line[0]) and curr_state[0] <= np.max(finish_line[0])\n",
        "\n",
        "def check_OutOfBounds(map,curr_state):\n",
        "  if min(curr_state[0],curr_state[1]) < 0:\n",
        "    return True\n",
        "  elif check_termination(map,curr_state):\n",
        "    return False\n",
        "  elif curr_state[1] >= map.shape[1] or curr_state[0] >= map.shape[0]:\n",
        "    return True\n",
        "  return map[curr_state[0],curr_state[1]] == OBSTACLE\n",
        "\n",
        "def is_init(map,state):\n",
        "  return map[state[0],state[1]] == START\n",
        "\n",
        "def move(state,input):\n",
        "  new_vel = [state[2]+input[0],state[3]+input[1]]\n",
        "  new_state = [state[0]+new_vel[0],state[1]+new_vel[1]] + new_vel\n",
        "  return new_state,new_vel\n",
        "\n",
        "def behavior_policy(map,state):\n",
        "  act_idx = np.arange(actions.shape[0])\n",
        "  prob = 1\n",
        "  if is_init(map,state):\n",
        "    idx = np.where(actions[:,0] < 0)[0]\n",
        "    prob = 1/float(len(idx))\n",
        "    act_idx = idx\n",
        "  # elif state[2]==0 and state[3] == 0:\n",
        "  #   idx = np.arange(actions.shape[0])\n",
        "  #   act_idx = np.delete(idx,[4])\n",
        "  #   prob = 1/float(len(act_idx))\n",
        "  else:\n",
        "    idx = [i for i in range(actions.shape[0]) if state[2]+actions[i,0] == 0 and state[3]+actions[i,1] == 0]\n",
        "    act_idx = np.delete(act_idx,idx)\n",
        "    prob = 1/float(len(act_idx))\n",
        "  if state[2] == max_velocity:\n",
        "    idx = np.where(actions[:,0] < 1)[0]\n",
        "    prob = 1/float(len(idx))\n",
        "    act_idx = idx\n",
        "  elif state[2] == -max_velocity:\n",
        "    idx = np.where(actions[:,0] > -1)[0]\n",
        "    prob = 1/float(len(idx))\n",
        "    act_idx = idx\n",
        "  if state[3] == max_velocity:\n",
        "    idx = np.where(actions[act_idx,1] < 1)[0]\n",
        "    prob = 1/float(len(idx))\n",
        "    act_idx = act_idx[idx]\n",
        "  elif state[3] == -max_velocity:\n",
        "    idx = np.where(actions[act_idx,1] > -1)[0]\n",
        "    prob = 1/float(len(idx))\n",
        "    act_idx = act_idx[idx]\n",
        "  if len(act_idx) == actions.shape[0]:\n",
        "    prob = 1/float(actions.shape[0])\n",
        "    act_idx = [np.random.choice(range(actions.shape[0]))]\n",
        "  return actions[np.random.choice(act_idx),:],np.round(prob,3)\n",
        "\n",
        "def get_action_idx(action):\n",
        "  return np.where(np.sum(np.abs(actions-action),1) == 0)[0][0]\n",
        "\n",
        "def play(map,init):\n",
        "  curr_state = np.copy(init)\n",
        "  reward = 0\n",
        "  traj = [curr_state]\n",
        "  action_prob = []\n",
        "  while not check_termination(map,curr_state):\n",
        "    reward -= 1\n",
        "    act,prob = behavior_policy(map,curr_state)\n",
        "    next_state,new_vel = move(curr_state,act)\n",
        "    # print(\"################\")\n",
        "    # print(curr_state)\n",
        "    # print(new_vel)\n",
        "    # print(next_state)\n",
        "    if check_OutOfBounds(map,next_state):\n",
        "      return -1,traj,action_prob\n",
        "      # curr_state = init_state(map)\n",
        "      # traj = [curr_state]\n",
        "      # action_prob = []\n",
        "      # continue\n",
        "    else:\n",
        "      curr_state = next_state\n",
        "    action_prob += [list(act) + [prob]]\n",
        "    traj += [curr_state]\n",
        "  return 1,traj,action_prob\n",
        "\n",
        "def target_policy(Q,state):\n",
        "  best_action = [np.argmax(Q[state[0],state[1],max_velocity+state[2],max_velocity+state[3],:])]\n",
        "  if len(best_action) < 1:\n",
        "    print('No Best Action')\n",
        "    print('State:',state)\n",
        "    print('Action:',Q[state[0],state[1],:])\n",
        "  return np.random.choice(best_action),np.round(1/float(len(best_action)),3)\n",
        "\n",
        "def play_target(map,Q,init):\n",
        "  curr_state = np.copy(init)\n",
        "  reward = 0\n",
        "  traj = [curr_state]\n",
        "  action_prob = []\n",
        "  while not check_termination(map,curr_state):\n",
        "    reward -= 1\n",
        "    a,prob = target_policy(Q,curr_state)\n",
        "    act = actions[a]\n",
        "    new_vel = [curr_state[2]+act[0],curr_state[3]+act[1]]\n",
        "    next_state = [curr_state[0]+new_vel[0],curr_state[1]+new_vel[1],new_vel[0],new_vel[1]] \n",
        "    if check_OutOfBounds(map,next_state):\n",
        "      # curr_state = init_state(map)\n",
        "      break\n",
        "    else:\n",
        "      curr_state = next_state\n",
        "    action_prob += [list(act) + [prob]]\n",
        "    traj += [curr_state]\n",
        "  return reward,traj,action_prob\n",
        "\n",
        "def MonteCarlo_OffPolicyControl(map,num_episodes):\n",
        "  nRows,nCols = map.shape\n",
        "  action_values  = np.zeros((nRows,nCols,2*max_velocity+1,2*max_velocity+1,len(actions)))\n",
        "  action_weights = np.zeros((nRows,nCols,2*max_velocity+1,2*max_velocity+1,len(actions)))\n",
        "\n",
        "  for episode in tqdm(range(num_episodes)):\n",
        "    init = init_state(map)\n",
        "    reward,traj,action_prob = play(map,init)\n",
        "    G = 0\n",
        "    W = 1\n",
        "    for i in range(len(traj)-2,-1,-1):\n",
        "      t = traj[i]\n",
        "      act_prob = action_prob[i]\n",
        "      G = reward#gamma*G + reward\n",
        "      act_idx = get_action_idx(np.array(act_prob[:2]))\n",
        "      action_weights[t[0],t[1],max_velocity+t[2],max_velocity+t[3],act_idx] += W\n",
        "      action_values[t[0],t[1],max_velocity+t[2],max_velocity+t[3],act_idx] += W/action_weights[t[0],t[1],max_velocity+t[2],max_velocity+t[3],act_idx]*(G-action_values[t[0],t[1],max_velocity+t[2],max_velocity+t[3],act_idx])\n",
        "      pi_t,_ = target_policy(action_values,t)\n",
        "      if pi_t != act_idx:\n",
        "        break\n",
        "      W = W/act_prob[-1]\n",
        "  return action_values\n",
        "\n",
        "def generate_path(map,Q):\n",
        "  final_map = []\n",
        "  for k in range(2):\n",
        "    init = init_state(map)\n",
        "    reward,traj,action_prob = play_target(map,Q,init)\n",
        "    print('Reward = :',reward)\n",
        "    final_map.append(np.copy(map))\n",
        "    for i,t in enumerate(traj):\n",
        "      final_map[-1][min(t[0],map.shape[0]-1),min(t[1],map.shape[1]-1)] = PATH\n",
        "  fig = plt.figure(figsize=(20,7))\n",
        "  plot_circuit(fig,final_map[0],1)\n",
        "  plot_circuit(fig,final_map[1],2)"
      ],
      "execution_count": 5,
      "outputs": []
    },
    {
      "cell_type": "markdown",
      "metadata": {
        "id": "VoMxzO-Ar5Qb",
        "colab_type": "text"
      },
      "source": [
        "## Monte-Carlo Off-Policy Control"
      ]
    },
    {
      "cell_type": "code",
      "metadata": {
        "id": "ym8vTXuD4Yta",
        "colab_type": "code",
        "colab": {
          "base_uri": "https://localhost:8080/",
          "height": 52
        },
        "outputId": "4caac7b8-0bf7-44e1-8b4f-1d7c683a55ec"
      },
      "source": [
        "num_episodes = 100000\n",
        "\n",
        "Q1 = MonteCarlo_OffPolicyControl(map_1,num_episodes)\n",
        "\n",
        "Q2 = MonteCarlo_OffPolicyControl(map_2,num_episodes)"
      ],
      "execution_count": 6,
      "outputs": [
        {
          "output_type": "stream",
          "text": [
            "100%|██████████| 100000/100000 [00:56<00:00, 1760.42it/s]\n",
            "100%|██████████| 100000/100000 [01:28<00:00, 1130.54it/s]\n"
          ],
          "name": "stderr"
        }
      ]
    },
    {
      "cell_type": "code",
      "metadata": {
        "id": "jWxqZOLa1mPI",
        "colab_type": "code",
        "colab": {
          "base_uri": "https://localhost:8080/",
          "height": 446
        },
        "outputId": "2ddf2f1a-91ba-496b-8032-5e43e559b7fb"
      },
      "source": [
        "generate_path(map_1,Q1)"
      ],
      "execution_count": 7,
      "outputs": [
        {
          "output_type": "stream",
          "text": [
            "Reward = : -12\n",
            "Reward = : -18\n"
          ],
          "name": "stdout"
        },
        {
          "output_type": "display_data",
          "data": {
            "image/png": "[encoded data removed]",
            "text/plain": [
              "<Figure size 1440x504 with 2 Axes>"
            ]
          },
          "metadata": {
            "tags": [],
            "needs_background": "light"
          }
        }
      ]
    },
    {
      "cell_type": "code",
      "metadata": {
        "id": "YLJxeHhhvavI",
        "colab_type": "code",
        "colab": {
          "base_uri": "https://localhost:8080/",
          "height": 446
        },
        "outputId": "ef8b6d72-3f7b-4cb3-c52d-d02c157b799d"
      },
      "source": [
        "generate_path(map_2,Q2)"
      ],
      "execution_count": 8,
      "outputs": [
        {
          "output_type": "stream",
          "text": [
            "Reward = : -12\n",
            "Reward = : -11\n"
          ],
          "name": "stdout"
        },
        {
          "output_type": "display_data",
          "data": {
            "image/png": "[encoded data removed]",
            "text/plain": [
              "<Figure size 1440x504 with 2 Axes>"
            ]
          },
          "metadata": {
            "tags": [],
            "needs_background": "light"
          }
        }
      ]
    },
    {
      "cell_type": "code",
      "metadata": {
        "id": "PJv5cvuGMCV3",
        "colab_type": "code",
        "colab": {}
      },
      "source": [
        "def play_opt(map,init):\n",
        "  curr_state = np.copy(init)\n",
        "  reward = 0\n",
        "  traj = [curr_state]\n",
        "  action_prob = []\n",
        "  while not check_termination(map,curr_state):\n",
        "    reward -= 1\n",
        "    act,prob = behavior_policy(map,curr_state)\n",
        "    next_state,new_vel = move(curr_state,act)\n",
        "    if check_OutOfBounds(map,next_state):\n",
        "      return -100,traj,action_prob\n",
        "    else:\n",
        "      curr_state = next_state\n",
        "    action_prob += [list(act) + [prob]]\n",
        "    traj += [curr_state]\n",
        "  return reward,traj,action_prob\n",
        "\n",
        "def generate_opt_path(map,Q):\n",
        "  final_map = []\n",
        "  for k in range(2):\n",
        "    init = init_state(map)\n",
        "    # reward,traj,action_prob = play_target(map,Q,init)\n",
        "    reward,traj,action_prob = play_opt(map,init)\n",
        "    print('Reward = :',reward)\n",
        "    final_map.append(np.copy(map))\n",
        "    for i,t in enumerate(traj):\n",
        "      final_map[-1][min(t[0],map.shape[0]-1),min(t[1],map.shape[1]-1)] = PATH\n",
        "  fig = plt.figure(figsize=(20,7))\n",
        "  plot_circuit(fig,final_map[0],1)\n",
        "  plot_circuit(fig,final_map[1],2)\n",
        "\n",
        "def MonteCarlo_OffPolicyOptimalControl(map,num_episodes):\n",
        "  nRows,nCols = map.shape\n",
        "  action_values  = np.zeros((nRows,nCols,2*max_velocity+1,2*max_velocity+1,len(actions)))\n",
        "  action_weights = np.zeros((nRows,nCols,2*max_velocity+1,2*max_velocity+1,len(actions)))\n",
        "\n",
        "  for episode in tqdm(range(num_episodes)):\n",
        "    init = init_state(map)\n",
        "    reward,traj,action_prob = play_opt(map,init)\n",
        "    G = 0\n",
        "    W = 1\n",
        "    for i in range(len(traj)-2,-1,-1):\n",
        "      t = traj[i]\n",
        "      act_prob = action_prob[i]\n",
        "      G = reward#gamma*G + reward\n",
        "      act_idx = get_action_idx(np.array(act_prob[:2]))\n",
        "      action_weights[t[0],t[1],max_velocity+t[2],max_velocity+t[3],act_idx] += W\n",
        "      action_values[t[0],t[1],max_velocity+t[2],max_velocity+t[3],act_idx] += W/action_weights[t[0],t[1],max_velocity+t[2],max_velocity+t[3],act_idx]*(G-action_values[t[0],t[1],max_velocity+t[2],max_velocity+t[3],act_idx])\n",
        "      pi_t,prob_t = target_policy(action_values,t)\n",
        "      # if pi_t != act_idx:\n",
        "      #   break\n",
        "      # print(\"out of break\")\n",
        "      W = W*prob_t/act_prob[-1]\n",
        "  return action_values\n",
        "\n",
        "def opt_target_policy(Q,state):\n",
        "  Q_val = Q[state[0],state[1],max_velocity+state[2],max_velocity+state[3],:]\n",
        "  idx = np.where(Q_val != 0)[0]\n",
        "  best_action = [idx[np.argmax(Q_val[idx])]]\n",
        "  return np.random.choice(best_action),np.round(1/float(len(best_action)),3)\n",
        "\n",
        "def play_opt_target(map,Q,init):\n",
        "  curr_state = np.copy(init)\n",
        "  reward = 0\n",
        "  traj = [curr_state]\n",
        "  action_prob = []\n",
        "  while not check_termination(map,curr_state):\n",
        "    reward -= 1\n",
        "    a,prob = opt_target_policy(Q,curr_state)\n",
        "    act = actions[a]\n",
        "    new_vel = [curr_state[2]+act[0],curr_state[3]+act[1]]\n",
        "    next_state = [curr_state[0]+new_vel[0],curr_state[1]+new_vel[1],new_vel[0],new_vel[1]] \n",
        "    if check_OutOfBounds(map,next_state):\n",
        "      # curr_state = init_state(map)\n",
        "      break\n",
        "    else:\n",
        "      curr_state = next_state\n",
        "    action_prob += [list(act) + [prob]]\n",
        "    traj += [curr_state]\n",
        "  return reward,traj,action_prob\n",
        "\n",
        "def generate_opt_path(map,Q):\n",
        "  final_map = []\n",
        "  for k in range(2):\n",
        "    init = init_state(map)\n",
        "    reward,traj,action_prob = play_opt_target(map,Q,init)\n",
        "    print('Reward = :',reward)\n",
        "    final_map.append(np.copy(map))\n",
        "    for i,t in enumerate(traj):\n",
        "      final_map[-1][min(t[0],map.shape[0]-1),min(t[1],map.shape[1]-1)] = PATH\n",
        "  fig = plt.figure(figsize=(20,7))\n",
        "  plot_circuit(fig,final_map[0],1)\n",
        "  plot_circuit(fig,final_map[1],2)"
      ],
      "execution_count": 29,
      "outputs": []
    },
    {
      "cell_type": "code",
      "metadata": {
        "id": "SXcu76mWNSO8",
        "colab_type": "code",
        "colab": {
          "base_uri": "https://localhost:8080/",
          "height": 34
        },
        "outputId": "239cbe81-41cb-40c8-aa7d-bd1b9b321e37"
      },
      "source": [
        "num_episodes = 100000\n",
        "\n",
        "Q1_opt = MonteCarlo_OffPolicyOptimalControl(map_1,num_episodes)\n",
        "\n",
        "# Q2_opt = MonteCarlo_OffPolicyOptimalControl(map_2,num_episodes)"
      ],
      "execution_count": 30,
      "outputs": [
        {
          "output_type": "stream",
          "text": [
            "100%|██████████| 100000/100000 [01:14<00:00, 1347.45it/s]\n"
          ],
          "name": "stderr"
        }
      ]
    },
    {
      "cell_type": "code",
      "metadata": {
        "id": "y8U9QbrwMyq9",
        "colab_type": "code",
        "colab": {
          "base_uri": "https://localhost:8080/",
          "height": 446
        },
        "outputId": "38130162-f9cd-4d20-b801-5b8181e23ec5"
      },
      "source": [
        "generate_opt_path(map_1,Q1_opt)"
      ],
      "execution_count": 32,
      "outputs": [
        {
          "output_type": "stream",
          "text": [
            "Reward = : -20\n",
            "Reward = : -17\n"
          ],
          "name": "stdout"
        },
        {
          "output_type": "display_data",
          "data": {
            "image/png": "[encoded data removed]",
            "text/plain": [
              "<Figure size 1440x504 with 2 Axes>"
            ]
          },
          "metadata": {
            "tags": [],
            "needs_background": "light"
          }
        }
      ]
    },
    {
      "cell_type": "code",
      "metadata": {
        "id": "xGgilY-2SjxY",
        "colab_type": "code",
        "colab": {
          "base_uri": "https://localhost:8080/",
          "height": 52
        },
        "outputId": "e6c2eafe-6700-418a-edfb-6936a3803f5d"
      },
      "source": [
        "x = 31\n",
        "y = 3\n",
        "print(Q1_opt[x,y,5,5,:])"
      ],
      "execution_count": 22,
      "outputs": [
        {
          "output_type": "stream",
          "text": [
            "[  0.         -28.2570801  -99.94927057   0.           0.\n",
            "   0.           0.           0.           0.        ]\n"
          ],
          "name": "stdout"
        }
      ]
    }
  ]
}