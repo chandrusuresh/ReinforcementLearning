{
  "nbformat": 4,
  "nbformat_minor": 0,
  "metadata": {
    "colab": {
      "name": "RaceTrack.ipynb",
      "provenance": [],
      "toc_visible": true,
      "authorship_tag": "ABX9TyOp7swGLtR7dQLx1t4wfYFM",
      "include_colab_link": true
    },
    "kernelspec": {
      "name": "python3",
      "display_name": "Python 3"
    }
  },
  "cells": [
    {
      "cell_type": "markdown",
      "metadata": {
        "id": "view-in-github",
        "colab_type": "text"
      },
      "source": [
        "<a href=\"https://colab.research.google.com/github/chandrusuresh/ReinforcementLearning/blob/master/Ch5-MonteCarloMethods/RaceTrack.ipynb\" target=\"_parent\"><img src=\"https://colab.research.google.com/assets/colab-badge.svg\" alt=\"Open In Colab\"/></a>"
      ]
    },
    {
      "cell_type": "code",
      "metadata": {
        "id": "ToJb-Y89nKVl",
        "colab_type": "code",
        "colab": {}
      },
      "source": [
        "import numpy as np\n",
        "import matplotlib.pyplot as plt\n",
        "from matplotlib import colors\n",
        "%matplotlib inline\n",
        "from tqdm import tqdm\n",
        "np.random.seed(0)"
      ],
      "execution_count": 1,
      "outputs": []
    },
    {
      "cell_type": "markdown",
      "metadata": {
        "id": "Odvgucmx4eFL",
        "colab_type": "text"
      },
      "source": [
        "### Initialize Tracks"
      ]
    },
    {
      "cell_type": "code",
      "metadata": {
        "id": "eS5tWIN7paU8",
        "colab_type": "code",
        "colab": {}
      },
      "source": [
        "def get_circuits():\n",
        "  nRows_1 = 32\n",
        "  nCols_1 = 17\n",
        "  map_1 = np.zeros((nRows_1,nCols_1))\n",
        "  map_1[-1,3:9] = 1\n",
        "  map_1[0:6,-1] = 2\n",
        "  map_1[-3:,:3] = 3\n",
        "  map_1[-10:-3:,:2] = 3\n",
        "  map_1[-18:-10:,:1] = 3\n",
        "  map_1[0,:3] = 3\n",
        "  map_1[1:3,:2] = 3\n",
        "  map_1[3,:1] = 3\n",
        "  map_1[7:,9:] = 3\n",
        "  map_1[6,10:] = 3\n",
        "\n",
        "  nRows_2 = 30\n",
        "  nCols_2 = 32\n",
        "  map_2 = np.zeros((nRows_2,nCols_2))\n",
        "  map_2[-1,:23] = 1\n",
        "  map_2[0:9,-1] = 2\n",
        "  map_2[-17:,23:] = 3\n",
        "  map_2[-18:,24:] = 3\n",
        "  map_2[-19:,26:] = 3\n",
        "  map_2[-20:,27:] = 3\n",
        "  map_2[-21:,30:] = 3\n",
        "  map_2[0,:16] = 3\n",
        "  map_2[[1,8],:13] = 3\n",
        "  map_2[[2,7],:12] = 3\n",
        "  map_2[3:7,:11] = 3\n",
        "  map_2[9:14,:14] = 3\n",
        "  c = 1\n",
        "  for i in range(14,nRows_2-2):\n",
        "    map_2[i,:14-c] = 3\n",
        "    c += 1\n",
        "  return map_1,map_2\n",
        "\n",
        "def plot_circuit(fig,map,num):\n",
        "  nRows,nCols = map.shape\n",
        "  # create discrete colormap\n",
        "  #cmap = colors.ListedColormap(['red', 'blue'])\n",
        "  cmap = colors.ListedColormap(['white','red','green','black'])\n",
        "  bounds = [0,0.1,3]\n",
        "  norm = colors.BoundaryNorm(bounds, cmap.N)\n",
        "  ax = fig.add_subplot(1,2,num)\n",
        "  ax.imshow(map, cmap=cmap)#, norm=norm)\n",
        "\n",
        "  ### draw gridlines\n",
        "  # ax = plt.gca();\n",
        "  ax.set_xticks(np.arange(-0.5, nCols+0.5, 1));\n",
        "  ax.set_yticks(np.arange(-0.5, nRows+0.5, 1));\n",
        "  ax.set_xticklabels(np.arange(-0.5, nCols+0.5, 1));\n",
        "  ax.set_yticklabels(np.arange(-0.5, nRows+0.5, 1));\n",
        "  ax.grid(color='k', linestyle='-', linewidth=1)\n",
        "\n",
        "  ax.set_xticklabels([])\n",
        "  ax.set_yticklabels([])\n",
        "  ax.xaxis.set_ticks_position('none')\n",
        "  ax.yaxis.set_ticks_position('none')"
      ],
      "execution_count": 2,
      "outputs": []
    },
    {
      "cell_type": "markdown",
      "metadata": {
        "id": "NvRmT82s4hvM",
        "colab_type": "text"
      },
      "source": [
        "### Visualize Race Tracks"
      ]
    },
    {
      "cell_type": "code",
      "metadata": {
        "id": "6qyW-kHqz-Va",
        "colab_type": "code",
        "colab": {
          "base_uri": "https://localhost:8080/",
          "height": 411
        },
        "outputId": "b32a282e-2855-4a3d-a164-b37567e2fbce"
      },
      "source": [
        "map_1,map_2 = get_circuits()\n",
        "fig = plt.figure(figsize=(20,7))#20,7)\n",
        "plot_circuit(fig,map_1,1)\n",
        "plot_circuit(fig,map_2,2)"
      ],
      "execution_count": 3,
      "outputs": [
        {
          "output_type": "display_data",
          "data": {
            "image/png": "[encoded data removed]",
            "text/plain": [
              "<Figure size 1440x504 with 2 Axes>"
            ]
          },
          "metadata": {
            "tags": [],
            "needs_background": "light"
          }
        }
      ]
    },
    {
      "cell_type": "code",
      "metadata": {
        "id": "Q-rplh5P5KOY",
        "colab_type": "code",
        "colab": {}
      },
      "source": [
        "max_velocity = 5\n",
        "actions = np.array([[-1,-1],[-1,0],[-1,1],[0,-1],[0,0],[0,1],[1,-1],[1,0],[1,1]])\n",
        "gamma = 1.0\n",
        "\n",
        "def init_state(map):\n",
        "  find_start_line = np.where(map == 1)\n",
        "  start_line = np.array(list(zip(find_start_line[0],find_start_line[1])))\n",
        "  choice = np.random.choice(range(start_line.shape[0]))\n",
        "  init = [start_line[choice,0],start_line[choice,1],0,0]\n",
        "  ## print('Start Line Coordinates:',start_line)\n",
        "  ## print(choice,init)\n",
        "  return init\n",
        "\n",
        "def check_termination(map,curr_state):\n",
        "  finish_line = np.where(map == 2)\n",
        "  return curr_state[1] > finish_line[1][0] and curr_state[0] >= np.min(finish_line[0]) and curr_state[0] <= np.max(finish_line[0])\n",
        "\n",
        "def check_OutOfBounds(map,curr_state):\n",
        "  if min(curr_state[0],curr_state[1]) < 0:\n",
        "    return True\n",
        "  elif check_termination(map,curr_state):\n",
        "    return False\n",
        "  elif curr_state[1] > map.shape[1] or curr_state[0] >= map.shape[0]:\n",
        "    return True\n",
        "  return map[curr_state[0],curr_state[1]] == 3\n",
        "\n",
        "def is_init(map,state):\n",
        "  return map[state[0],state[1]] == 1\n",
        "\n",
        "def behavior_policy(map,state):\n",
        "  act_idx = list(range(actions.shape[0]))\n",
        "  prob = 1/float(len(act_idx))\n",
        "  if is_init(map,state):\n",
        "    idx = np.where(actions[:,0] < 0)[0]\n",
        "    prob = 1/float(len(idx))\n",
        "    act_idx = [np.random.choice(idx)]\n",
        "  if state[2] == 5:\n",
        "    idx = np.where(actions[:,0] < 1)[0]\n",
        "    prob = 1/float(len(idx))\n",
        "    act_idx = [np.random.choice(idx)]\n",
        "  if state[3] == 5:\n",
        "    idx = act_idx[np.where(actions[act_idx,1] < 1)[0]]\n",
        "    prob = 1/float(len(idx))\n",
        "    act_idx = [np.random.choice(idx)]\n",
        "  if len(act_idx) == actions.shape[0]:\n",
        "    act_idx = [np.random.choice(range(actions.shape[0]))]\n",
        "  return actions[act_idx[0],:],np.round(prob,3)\n",
        "\n",
        "def play(map,init):\n",
        "  curr_state = np.copy(init)\n",
        "  reward = 0\n",
        "  traj = [curr_state]\n",
        "  while not check_termination(map,curr_state):\n",
        "    reward -= 1\n",
        "    act,prob = behavior_policy(map,curr_state)\n",
        "    new_vel = [curr_state[2]+act[0],curr_state[3]+act[1]]\n",
        "    next_state = [curr_state[0]+new_vel[0],curr_state[1]+new_vel[1],new_vel[0],new_vel[1]] \n",
        "    # print(\"################\")\n",
        "    # print(curr_state)\n",
        "    # print(new_vel)\n",
        "    # print(next_state)\n",
        "    if check_OutOfBounds(map,next_state):\n",
        "      curr_state = init_state(map)\n",
        "      traj = [curr_state]\n",
        "      continue\n",
        "    curr_state = next_state\n",
        "    traj += [curr_state]\n",
        "  return reward,traj"
      ],
      "execution_count": 4,
      "outputs": []
    },
    {
      "cell_type": "code",
      "metadata": {
        "id": "Cmtg80zpGukd",
        "colab_type": "code",
        "colab": {
          "base_uri": "https://localhost:8080/",
          "height": 802
        },
        "outputId": "9d39f811-21bd-4fed-9e30-d83bd7b60131"
      },
      "source": [
        "map = np.copy(map_1)\n",
        "init = init_state(map)\n",
        "reward,traj = play(map,init)\n",
        "print('Reward = :',reward)\n",
        "final_map = np.copy(map)\n",
        "for t in traj:\n",
        "  final_map[min(t[0],map.shape[0]-1),min(t[1],map.shape[1]-1)] = 1.5\n",
        "  print(t)\n",
        "\n",
        "fig = plt.figure(figsize=(20,7))\n",
        "plot_circuit(fig,final_map,1)"
      ],
      "execution_count": 5,
      "outputs": [
        {
          "output_type": "stream",
          "text": [
            "Reward = : -9194\n",
            "[31, 7, 0, 0]\n",
            "[30, 7, -1, 0]\n",
            "[28, 6, -2, -1]\n",
            "[25, 6, -3, 0]\n",
            "[22, 6, -3, 0]\n",
            "[19, 5, -3, -1]\n",
            "[15, 5, -4, 0]\n",
            "[12, 4, -3, -1]\n",
            "[10, 4, -2, 0]\n",
            "[9, 3, -1, -1]\n",
            "[8, 3, -1, 0]\n",
            "[7, 4, -1, 1]\n",
            "[6, 6, -1, 2]\n",
            "[4, 8, -2, 2]\n",
            "[3, 9, -1, 1]\n",
            "[3, 10, 0, 1]\n",
            "[2, 11, -1, 1]\n",
            "[2, 12, 0, 1]\n",
            "[2, 14, 0, 2]\n",
            "[3, 15, 1, 1]\n",
            "[5, 17, 2, 2]\n"
          ],
          "name": "stdout"
        },
        {
          "output_type": "display_data",
          "data": {
            "image/png": "[encoded data removed]",
            "text/plain": [
              "<Figure size 1440x504 with 1 Axes>"
            ]
          },
          "metadata": {
            "tags": [],
            "needs_background": "light"
          }
        }
      ]
    }
  ]
}