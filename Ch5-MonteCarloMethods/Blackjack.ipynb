{
  "nbformat": 4,
  "nbformat_minor": 0,
  "metadata": {
    "colab": {
      "name": "Blackjack.ipynb",
      "provenance": [],
      "collapsed_sections": [],
      "toc_visible": true,
      "authorship_tag": "ABX9TyPWHU1SV8O9EWyVwlO4UbaM",
      "include_colab_link": true
    },
    "kernelspec": {
      "name": "python3",
      "display_name": "Python 3"
    }
  },
  "cells": [
    {
      "cell_type": "markdown",
      "metadata": {
        "id": "view-in-github",
        "colab_type": "text"
      },
      "source": [
        "<a href=\"https://colab.research.google.com/github/chandrusuresh/ReinforcementLearning/blob/master/Ch5-MonteCarloMethods/Blackjack.ipynb\" target=\"_parent\"><img src=\"https://colab.research.google.com/assets/colab-badge.svg\" alt=\"Open In Colab\"/></a>"
      ]
    },
    {
      "cell_type": "code",
      "metadata": {
        "id": "uPe0PIYucq3B",
        "colab_type": "code",
        "colab": {
          "base_uri": "https://localhost:8080/",
          "height": 35
        },
        "outputId": "455e24a1-3ced-46f9-e32a-28787478cc38"
      },
      "source": [
        "import numpy as np\n",
        "import matplotlib.pyplot as plt\n",
        "from scipy import stats\n",
        "%matplotlib inline\n",
        "import scipy.io as sio\n",
        "import time\n",
        "from google.colab import drive\n",
        "drive.mount('/content/gdrive')"
      ],
      "execution_count": 1,
      "outputs": [
        {
          "output_type": "stream",
          "text": [
            "Drive already mounted at /content/gdrive; to attempt to forcibly remount, call drive.mount(\"/content/gdrive\", force_remount=True).\n"
          ],
          "name": "stdout"
        }
      ]
    },
    {
      "cell_type": "markdown",
      "metadata": {
        "id": "yLi9aGbuiddz",
        "colab_type": "text"
      },
      "source": [
        "## Approach with State Value Function\n",
        "1. We assume MonteCarlo approach with exploring starts to simulate many trials of episodes. This way we can guarantee that all states are visited as long as the probability of initial condition for all states is non-zero. The probabilities of drawing cards is described below.\n",
        "\n",
        "Card | Count | Probability | Score\n",
        "--- | --- | --- | ---\n",
        "Ace | 1 | $\\frac{4}{52}$ | 1/11\n",
        "2-9 | 8 | $\\frac{4}{52}$ | 2-9\n",
        "10,J,Q,K|4|$\\frac{4}{52}$ | 10\n",
        "\n",
        "Total Probability = $\\frac{4}{52} + 8\\times\\frac{4}{52} + 4\\times\\frac{4}{52} = 1$\n",
        "\n",
        "2. The reward is applied at the end of each episode with discount rate, $\\gamma = 1$.\n",
        "\n",
        "Outcome | Reward\n",
        "--- | --- \n",
        "Player wins | 1 \n",
        "Draw | 0 \n",
        "Player loses|-1\n",
        "\n",
        "3. The state values are the concatenated values of the following:\n",
        "\n",
        "> *   Presence of atleast one useable Ace. This state has cardinality = 2 (presence/absence of useable ace). The player could be drawing aces at any of his \"hits\", so the checkUsableAce function below checks for his current hand, latest draw and determines if any aces in his hand can be made useable. If this can be made useable, then the state value is set to 0, else it assumes the value 1.\n",
        "> *   Current sum for the player (12-21). Sum of 22 leads to loss which is reflected in the reward, so this value is ignored. Sum less than 12 is a trivial case where the player has to hit to have some probability of winning.\n",
        "> *   Dealer's open card value. This state assumes values (A-10) where the face cards are clubbed into the category for the card valued 10 as shown in the probability table above.\n",
        "\n",
        "\n",
        "\n",
        "4. The make_policy function below makes the policy based on the condition for sticks for each player. For the first example, the dealer sticks when his total is 17 or more and the player sticks if his total is 20 or 21. The fuction initializes the policy as follows:\n",
        "\n",
        "$$\\begin{align*} \\pi(\\text{stick}) =& \\Bigg\\{ \\begin{matrix} 1 & \\text{if total} \\ge \\text{stick value} \\\\ 0 & \\text{otherwise} \\end{matrix} \\\\\n",
        "\\pi(\\text{hit}) =& 1-\\pi(\\text{stick})\\end{align*}$$\n",
        "\n",
        "5. Both first-visit and every-visit MC methods for his problem are identical since all cards have are non-zero i.e., the transition probability from a state to itself is zero for all actions in all states.\n",
        "\n",
        "$$ P(s_{k+1}=s_k|s_k,a_k) = 0$$\n"
      ]
    },
    {
      "cell_type": "markdown",
      "metadata": {
        "id": "vl7Fsgi-n-Dy",
        "colab_type": "text"
      },
      "source": [
        "### Code"
      ]
    },
    {
      "cell_type": "code",
      "metadata": {
        "id": "tlc_xWrdc1ha",
        "colab_type": "code",
        "colab": {}
      },
      "source": [
        "cards = np.array(range(1,11))\n",
        "prob_cards = 4/52*np.ones(cards.shape)\n",
        "prob_cards[-1] = 1-np.sum(prob_cards[:-1])\n",
        "draw_distribution = stats.rv_discrete(name='custm', values=(cards, prob_cards))\n",
        "\n",
        "max_score = 22\n",
        "def make_policy(stick):\n",
        "  pi = np.zeros((2,10,10))\n",
        "  for i in range(12,max_score):\n",
        "    if i < stick:\n",
        "      pi[:,i-12,:] = 0\n",
        "    else:\n",
        "      pi[:,i-12,:] = 1\n",
        "  return pi\n",
        "\n",
        "def card_draw(distribution,num=1):\n",
        "  return list(distribution.rvs(size=num))\n",
        "\n",
        "def checkUsableAce(hand,current):\n",
        "  total = np.sum(hand)\n",
        "  new_total = total + current\n",
        "  if len(hand) == 0 and current == 1:\n",
        "    ### usable ace\n",
        "    return [11]\n",
        "  elif current == 1:\n",
        "    if new_total+10 <= max_score-1:\n",
        "      ### usable ace\n",
        "      return hand + [11]\n",
        "  if new_total >= max_score and 11 in hand[1:]:\n",
        "    idx = hand[1:].index(11)\n",
        "    hand[idx+1] = 1\n",
        "  return hand + [current]\n",
        "\n",
        "def testUsableAce():\n",
        "  test_cases = [[1,4],[4,1],[5,4],[10,1],[1],[11,1],[5,4,5,1],[11,2,2,2,2,2,2,2]]\n",
        "  for hand in test_cases:\n",
        "    print(\"Test case: \")\n",
        "    print('Current = ', hand[:-1])\n",
        "    print('New = ', hand[-1])\n",
        "    print(checkUsableAce(hand[:-1],hand[-1]))\n",
        "    print()\n",
        "\n",
        "def computeReward(player_total,dealer_total):\n",
        "  reward = 0\n",
        "  if player_total == max_score:\n",
        "    reward = -1\n",
        "  elif (player_total == max_score-1 and dealer_total != max_score-1):\n",
        "    reward = 1\n",
        "  elif player_total < max_score-1:\n",
        "    if dealer_total == max_score:\n",
        "      reward = 1\n",
        "    elif dealer_total == max_score-1:\n",
        "      reward = -1\n",
        "    elif player_total > dealer_total:\n",
        "      reward = 1\n",
        "    elif player_total < dealer_total:\n",
        "      reward = -1\n",
        "  return reward\n",
        "\n",
        "def simulate_turn(draw_distribution,current,dealer_card,pi,flipHidden=False):\n",
        "  if dealer_card == 11:\n",
        "    dealer_card = 1\n",
        "  final_sum = min(max_score,np.sum(current))\n",
        "  hand = current\n",
        "  row = 0\n",
        "  if 11 in hand:\n",
        "    row = 1\n",
        "  hit_prob = np.random.uniform(0,1,1)[0]\n",
        "  hit_cond = True\n",
        "  if final_sum >= 12 and final_sum < max_score-1:\n",
        "    hit_cond = hit_prob > pi[row,final_sum-12,dealer_card-1]\n",
        "\n",
        "  while final_sum < max_score-1 and hit_cond:\n",
        "    hand = checkUsableAce(hand,card_draw(draw_distribution,1)[0])\n",
        "    final_sum = min(max_score,np.sum(hand))\n",
        "    if 11 in hand:\n",
        "      row = 1\n",
        "    hit_prob = np.random.uniform(0,1,1)[0]\n",
        "    hit_cond = True\n",
        "    if final_sum >= 12 and final_sum < max_score-1:\n",
        "      hit_cond = hit_prob > pi[row,final_sum-12,dealer_card-1]\n",
        "\n",
        "  if flipHidden:\n",
        "    # print('Before:',hand)\n",
        "    hand = checkUsableAce(hand,card_draw(draw_distribution,1)[0])\n",
        "    # print('After:',hand)\n",
        "    final_sum = min(max_score,np.sum(hand))\n",
        "  return final_sum,hand\n",
        "\n",
        "def simulate_game(draw_distribution,pi_dealer,pi_player,init_player=-1):\n",
        "  player_cards = []\n",
        "  for i in range(2):\n",
        "    if init_player != -1 and i == 0:\n",
        "      player_cards.append(init_player)\n",
        "      continue\n",
        "    player_cards = checkUsableAce(player_cards,card_draw(draw_distribution,1)[0])\n",
        "  dealer_card = checkUsableAce([],card_draw(draw_distribution,1)[0])\n",
        "\n",
        "  player_total,player_hand = simulate_turn(draw_distribution,player_cards,dealer_card[0],pi_player)\n",
        "  dealer_total,dealer_hand = simulate_turn(draw_distribution,dealer_card,player_hand[0],pi_dealer,flipHidden=True)\n",
        "\n",
        "  reward = computeReward(player_total,dealer_total)\n",
        "  \n",
        "  # print(\"Player:\",player_cards,player_total)\n",
        "  # print(player_hand)\n",
        "  # print(\"Dealer:\",dealer_card,dealer_total)\n",
        "  # print(dealer_hand)\n",
        "  # print(\"Reward:\",reward)\n",
        "  \n",
        "  player_cumTotal = np.cumsum(player_hand)\n",
        "  idx1 = np.where(player_cumTotal >= 12)[0]\n",
        "  idx = idx1[np.where(player_cumTotal[idx1] < 22)[0]]\n",
        "\n",
        "  row = 0\n",
        "  if 11 in player_hand:\n",
        "    row = 1\n",
        "\n",
        "  jj = dealer_hand[0]-1\n",
        "  if dealer_hand[0] == 11:\n",
        "    jj = 0\n",
        "\n",
        "  for i in idx:\n",
        "    ii = player_cumTotal[i]-12\n",
        "    val_func[row,ii,jj] = val_func[row,ii,jj] + reward\n",
        "    val_count[row,ii,jj] = val_count[row,ii,jj] + 1.0\n",
        "\n",
        "# testUsableAce()"
      ],
      "execution_count": 2,
      "outputs": []
    },
    {
      "cell_type": "code",
      "metadata": {
        "id": "SJdxkYhIha5k",
        "colab_type": "code",
        "colab": {}
      },
      "source": [
        "pi_dealer = make_policy(17)\n",
        "pi_player = make_policy(20)\n",
        "\n",
        "load_result = False"
      ],
      "execution_count": 3,
      "outputs": []
    },
    {
      "cell_type": "code",
      "metadata": {
        "id": "MDuddXsgLYae",
        "colab_type": "code",
        "colab": {
          "base_uri": "https://localhost:8080/",
          "height": 467
        },
        "outputId": "9190f2bc-fa0e-4099-8f9b-1f132a41549c"
      },
      "source": [
        "if load_result:\n",
        "  mat_dict = sio.loadmat(\"/content/gdrive/My Drive/Colab Notebooks/Blackjack.mat\")\n",
        "  val_func = mat_dict['val_func']\n",
        "  val_count = mat_dict['val_count']\n",
        "  num_trials = mat_dict['num_trials']\n",
        "else:\n",
        "  start_time = time.time()\n",
        "  num_trials = 100000\n",
        "  val_func = np.zeros((2,10,10))\n",
        "  val_count = np.zeros((2,10,10))\n",
        "  for i in range(num_trials):\n",
        "    simulate_game(draw_distribution,pi_dealer,pi_player,-1)\n",
        "    if i%5 == 0:\n",
        "      simulate_game(draw_distribution,pi_dealer,pi_player,11)\n",
        "  print('Time Elapsed = ',time.time()-start_time)\n",
        "  sio.savemat(\"/content/gdrive/My Drive/Colab Notebooks/Blackjack.mat\",{'val_func':val_func,'val_count':val_count,'num_trials':num_trials})"
      ],
      "execution_count": 4,
      "outputs": [
        {
          "output_type": "error",
          "ename": "KeyboardInterrupt",
          "evalue": "ignored",
          "traceback": [
            "\u001b[0;31m---------------------------------------------------------------------------\u001b[0m",
            "\u001b[0;31mKeyboardInterrupt\u001b[0m                         Traceback (most recent call last)",
            "\u001b[0;32m<ipython-input-4-0d62f49a9795>\u001b[0m in \u001b[0;36m<module>\u001b[0;34m()\u001b[0m\n\u001b[1;32m     10\u001b[0m   \u001b[0mval_count\u001b[0m \u001b[0;34m=\u001b[0m \u001b[0mnp\u001b[0m\u001b[0;34m.\u001b[0m\u001b[0mzeros\u001b[0m\u001b[0;34m(\u001b[0m\u001b[0;34m(\u001b[0m\u001b[0;36m2\u001b[0m\u001b[0;34m,\u001b[0m\u001b[0;36m10\u001b[0m\u001b[0;34m,\u001b[0m\u001b[0;36m10\u001b[0m\u001b[0;34m)\u001b[0m\u001b[0;34m)\u001b[0m\u001b[0;34m\u001b[0m\u001b[0;34m\u001b[0m\u001b[0m\n\u001b[1;32m     11\u001b[0m   \u001b[0;32mfor\u001b[0m \u001b[0mi\u001b[0m \u001b[0;32min\u001b[0m \u001b[0mrange\u001b[0m\u001b[0;34m(\u001b[0m\u001b[0mnum_trials\u001b[0m\u001b[0;34m)\u001b[0m\u001b[0;34m:\u001b[0m\u001b[0;34m\u001b[0m\u001b[0;34m\u001b[0m\u001b[0m\n\u001b[0;32m---> 12\u001b[0;31m     \u001b[0msimulate_game\u001b[0m\u001b[0;34m(\u001b[0m\u001b[0mdraw_distribution\u001b[0m\u001b[0;34m,\u001b[0m\u001b[0mpi_dealer\u001b[0m\u001b[0;34m,\u001b[0m\u001b[0mpi_player\u001b[0m\u001b[0;34m,\u001b[0m\u001b[0;34m-\u001b[0m\u001b[0;36m1\u001b[0m\u001b[0;34m)\u001b[0m\u001b[0;34m\u001b[0m\u001b[0;34m\u001b[0m\u001b[0m\n\u001b[0m\u001b[1;32m     13\u001b[0m     \u001b[0;32mif\u001b[0m \u001b[0mi\u001b[0m\u001b[0;34m%\u001b[0m\u001b[0;36m5\u001b[0m \u001b[0;34m==\u001b[0m \u001b[0;36m0\u001b[0m\u001b[0;34m:\u001b[0m\u001b[0;34m\u001b[0m\u001b[0;34m\u001b[0m\u001b[0m\n\u001b[1;32m     14\u001b[0m       \u001b[0msimulate_game\u001b[0m\u001b[0;34m(\u001b[0m\u001b[0mdraw_distribution\u001b[0m\u001b[0;34m,\u001b[0m\u001b[0mpi_dealer\u001b[0m\u001b[0;34m,\u001b[0m\u001b[0mpi_player\u001b[0m\u001b[0;34m,\u001b[0m\u001b[0;36m11\u001b[0m\u001b[0;34m)\u001b[0m\u001b[0;34m\u001b[0m\u001b[0;34m\u001b[0m\u001b[0m\n",
            "\u001b[0;32m<ipython-input-2-3691b5202aa4>\u001b[0m in \u001b[0;36msimulate_game\u001b[0;34m(draw_distribution, pi_dealer, pi_player, init_player)\u001b[0m\n\u001b[1;32m     98\u001b[0m \u001b[0;34m\u001b[0m\u001b[0m\n\u001b[1;32m     99\u001b[0m   \u001b[0mplayer_total\u001b[0m\u001b[0;34m,\u001b[0m\u001b[0mplayer_hand\u001b[0m \u001b[0;34m=\u001b[0m \u001b[0msimulate_turn\u001b[0m\u001b[0;34m(\u001b[0m\u001b[0mdraw_distribution\u001b[0m\u001b[0;34m,\u001b[0m\u001b[0mplayer_cards\u001b[0m\u001b[0;34m,\u001b[0m\u001b[0mdealer_card\u001b[0m\u001b[0;34m[\u001b[0m\u001b[0;36m0\u001b[0m\u001b[0;34m]\u001b[0m\u001b[0;34m,\u001b[0m\u001b[0mpi_player\u001b[0m\u001b[0;34m)\u001b[0m\u001b[0;34m\u001b[0m\u001b[0;34m\u001b[0m\u001b[0m\n\u001b[0;32m--> 100\u001b[0;31m   \u001b[0mdealer_total\u001b[0m\u001b[0;34m,\u001b[0m\u001b[0mdealer_hand\u001b[0m \u001b[0;34m=\u001b[0m \u001b[0msimulate_turn\u001b[0m\u001b[0;34m(\u001b[0m\u001b[0mdraw_distribution\u001b[0m\u001b[0;34m,\u001b[0m\u001b[0mdealer_card\u001b[0m\u001b[0;34m,\u001b[0m\u001b[0mplayer_hand\u001b[0m\u001b[0;34m[\u001b[0m\u001b[0;36m0\u001b[0m\u001b[0;34m]\u001b[0m\u001b[0;34m,\u001b[0m\u001b[0mpi_dealer\u001b[0m\u001b[0;34m,\u001b[0m\u001b[0mflipHidden\u001b[0m\u001b[0;34m=\u001b[0m\u001b[0;32mTrue\u001b[0m\u001b[0;34m)\u001b[0m\u001b[0;34m\u001b[0m\u001b[0;34m\u001b[0m\u001b[0m\n\u001b[0m\u001b[1;32m    101\u001b[0m \u001b[0;34m\u001b[0m\u001b[0m\n\u001b[1;32m    102\u001b[0m   \u001b[0mreward\u001b[0m \u001b[0;34m=\u001b[0m \u001b[0mcomputeReward\u001b[0m\u001b[0;34m(\u001b[0m\u001b[0mplayer_total\u001b[0m\u001b[0;34m,\u001b[0m\u001b[0mdealer_total\u001b[0m\u001b[0;34m)\u001b[0m\u001b[0;34m\u001b[0m\u001b[0;34m\u001b[0m\u001b[0m\n",
            "\u001b[0;32m<ipython-input-2-3691b5202aa4>\u001b[0m in \u001b[0;36msimulate_turn\u001b[0;34m(draw_distribution, current, dealer_card, pi, flipHidden)\u001b[0m\n\u001b[1;32m     72\u001b[0m \u001b[0;34m\u001b[0m\u001b[0m\n\u001b[1;32m     73\u001b[0m   \u001b[0;32mwhile\u001b[0m \u001b[0mfinal_sum\u001b[0m \u001b[0;34m<\u001b[0m \u001b[0mmax_score\u001b[0m\u001b[0;34m-\u001b[0m\u001b[0;36m1\u001b[0m \u001b[0;32mand\u001b[0m \u001b[0mhit_cond\u001b[0m\u001b[0;34m:\u001b[0m\u001b[0;34m\u001b[0m\u001b[0;34m\u001b[0m\u001b[0m\n\u001b[0;32m---> 74\u001b[0;31m     \u001b[0mhand\u001b[0m \u001b[0;34m=\u001b[0m \u001b[0mcheckUsableAce\u001b[0m\u001b[0;34m(\u001b[0m\u001b[0mhand\u001b[0m\u001b[0;34m,\u001b[0m\u001b[0mcard_draw\u001b[0m\u001b[0;34m(\u001b[0m\u001b[0mdraw_distribution\u001b[0m\u001b[0;34m,\u001b[0m\u001b[0;36m1\u001b[0m\u001b[0;34m)\u001b[0m\u001b[0;34m[\u001b[0m\u001b[0;36m0\u001b[0m\u001b[0;34m]\u001b[0m\u001b[0;34m)\u001b[0m\u001b[0;34m\u001b[0m\u001b[0;34m\u001b[0m\u001b[0m\n\u001b[0m\u001b[1;32m     75\u001b[0m     \u001b[0mfinal_sum\u001b[0m \u001b[0;34m=\u001b[0m \u001b[0mmin\u001b[0m\u001b[0;34m(\u001b[0m\u001b[0mmax_score\u001b[0m\u001b[0;34m,\u001b[0m\u001b[0mnp\u001b[0m\u001b[0;34m.\u001b[0m\u001b[0msum\u001b[0m\u001b[0;34m(\u001b[0m\u001b[0mhand\u001b[0m\u001b[0;34m)\u001b[0m\u001b[0;34m)\u001b[0m\u001b[0;34m\u001b[0m\u001b[0;34m\u001b[0m\u001b[0m\n\u001b[1;32m     76\u001b[0m     \u001b[0;32mif\u001b[0m \u001b[0;36m11\u001b[0m \u001b[0;32min\u001b[0m \u001b[0mhand\u001b[0m\u001b[0;34m:\u001b[0m\u001b[0;34m\u001b[0m\u001b[0;34m\u001b[0m\u001b[0m\n",
            "\u001b[0;32m<ipython-input-2-3691b5202aa4>\u001b[0m in \u001b[0;36mcard_draw\u001b[0;34m(distribution, num)\u001b[0m\n\u001b[1;32m     15\u001b[0m \u001b[0;34m\u001b[0m\u001b[0m\n\u001b[1;32m     16\u001b[0m \u001b[0;32mdef\u001b[0m \u001b[0mcard_draw\u001b[0m\u001b[0;34m(\u001b[0m\u001b[0mdistribution\u001b[0m\u001b[0;34m,\u001b[0m\u001b[0mnum\u001b[0m\u001b[0;34m=\u001b[0m\u001b[0;36m1\u001b[0m\u001b[0;34m)\u001b[0m\u001b[0;34m:\u001b[0m\u001b[0;34m\u001b[0m\u001b[0;34m\u001b[0m\u001b[0m\n\u001b[0;32m---> 17\u001b[0;31m   \u001b[0;32mreturn\u001b[0m \u001b[0mlist\u001b[0m\u001b[0;34m(\u001b[0m\u001b[0mdistribution\u001b[0m\u001b[0;34m.\u001b[0m\u001b[0mrvs\u001b[0m\u001b[0;34m(\u001b[0m\u001b[0msize\u001b[0m\u001b[0;34m=\u001b[0m\u001b[0mnum\u001b[0m\u001b[0;34m)\u001b[0m\u001b[0;34m)\u001b[0m\u001b[0;34m\u001b[0m\u001b[0;34m\u001b[0m\u001b[0m\n\u001b[0m\u001b[1;32m     18\u001b[0m \u001b[0;34m\u001b[0m\u001b[0m\n\u001b[1;32m     19\u001b[0m \u001b[0;32mdef\u001b[0m \u001b[0mcheckUsableAce\u001b[0m\u001b[0;34m(\u001b[0m\u001b[0mhand\u001b[0m\u001b[0;34m,\u001b[0m\u001b[0mcurrent\u001b[0m\u001b[0;34m)\u001b[0m\u001b[0;34m:\u001b[0m\u001b[0;34m\u001b[0m\u001b[0;34m\u001b[0m\u001b[0m\n",
            "\u001b[0;32m/usr/local/lib/python3.6/dist-packages/scipy/stats/_distn_infrastructure.py\u001b[0m in \u001b[0;36mrvs\u001b[0;34m(self, *args, **kwargs)\u001b[0m\n\u001b[1;32m   2967\u001b[0m         \"\"\"\n\u001b[1;32m   2968\u001b[0m         \u001b[0mkwargs\u001b[0m\u001b[0;34m[\u001b[0m\u001b[0;34m'discrete'\u001b[0m\u001b[0;34m]\u001b[0m \u001b[0;34m=\u001b[0m \u001b[0;32mTrue\u001b[0m\u001b[0;34m\u001b[0m\u001b[0;34m\u001b[0m\u001b[0m\n\u001b[0;32m-> 2969\u001b[0;31m         \u001b[0;32mreturn\u001b[0m \u001b[0msuper\u001b[0m\u001b[0;34m(\u001b[0m\u001b[0mrv_discrete\u001b[0m\u001b[0;34m,\u001b[0m \u001b[0mself\u001b[0m\u001b[0;34m)\u001b[0m\u001b[0;34m.\u001b[0m\u001b[0mrvs\u001b[0m\u001b[0;34m(\u001b[0m\u001b[0;34m*\u001b[0m\u001b[0margs\u001b[0m\u001b[0;34m,\u001b[0m \u001b[0;34m**\u001b[0m\u001b[0mkwargs\u001b[0m\u001b[0;34m)\u001b[0m\u001b[0;34m\u001b[0m\u001b[0;34m\u001b[0m\u001b[0m\n\u001b[0m\u001b[1;32m   2970\u001b[0m \u001b[0;34m\u001b[0m\u001b[0m\n\u001b[1;32m   2971\u001b[0m     \u001b[0;32mdef\u001b[0m \u001b[0mpmf\u001b[0m\u001b[0;34m(\u001b[0m\u001b[0mself\u001b[0m\u001b[0;34m,\u001b[0m \u001b[0mk\u001b[0m\u001b[0;34m,\u001b[0m \u001b[0;34m*\u001b[0m\u001b[0margs\u001b[0m\u001b[0;34m,\u001b[0m \u001b[0;34m**\u001b[0m\u001b[0mkwds\u001b[0m\u001b[0;34m)\u001b[0m\u001b[0;34m:\u001b[0m\u001b[0;34m\u001b[0m\u001b[0;34m\u001b[0m\u001b[0m\n",
            "\u001b[0;32m/usr/local/lib/python3.6/dist-packages/scipy/stats/_distn_infrastructure.py\u001b[0m in \u001b[0;36mrvs\u001b[0;34m(self, *args, **kwds)\u001b[0m\n\u001b[1;32m    961\u001b[0m         \u001b[0mdiscrete\u001b[0m \u001b[0;34m=\u001b[0m \u001b[0mkwds\u001b[0m\u001b[0;34m.\u001b[0m\u001b[0mpop\u001b[0m\u001b[0;34m(\u001b[0m\u001b[0;34m'discrete'\u001b[0m\u001b[0;34m,\u001b[0m \u001b[0;32mNone\u001b[0m\u001b[0;34m)\u001b[0m\u001b[0;34m\u001b[0m\u001b[0;34m\u001b[0m\u001b[0m\n\u001b[1;32m    962\u001b[0m         \u001b[0mrndm\u001b[0m \u001b[0;34m=\u001b[0m \u001b[0mkwds\u001b[0m\u001b[0;34m.\u001b[0m\u001b[0mpop\u001b[0m\u001b[0;34m(\u001b[0m\u001b[0;34m'random_state'\u001b[0m\u001b[0;34m,\u001b[0m \u001b[0;32mNone\u001b[0m\u001b[0;34m)\u001b[0m\u001b[0;34m\u001b[0m\u001b[0;34m\u001b[0m\u001b[0m\n\u001b[0;32m--> 963\u001b[0;31m         \u001b[0margs\u001b[0m\u001b[0;34m,\u001b[0m \u001b[0mloc\u001b[0m\u001b[0;34m,\u001b[0m \u001b[0mscale\u001b[0m\u001b[0;34m,\u001b[0m \u001b[0msize\u001b[0m \u001b[0;34m=\u001b[0m \u001b[0mself\u001b[0m\u001b[0;34m.\u001b[0m\u001b[0m_parse_args_rvs\u001b[0m\u001b[0;34m(\u001b[0m\u001b[0;34m*\u001b[0m\u001b[0margs\u001b[0m\u001b[0;34m,\u001b[0m \u001b[0;34m**\u001b[0m\u001b[0mkwds\u001b[0m\u001b[0;34m)\u001b[0m\u001b[0;34m\u001b[0m\u001b[0;34m\u001b[0m\u001b[0m\n\u001b[0m\u001b[1;32m    964\u001b[0m         \u001b[0mcond\u001b[0m \u001b[0;34m=\u001b[0m \u001b[0mlogical_and\u001b[0m\u001b[0;34m(\u001b[0m\u001b[0mself\u001b[0m\u001b[0;34m.\u001b[0m\u001b[0m_argcheck\u001b[0m\u001b[0;34m(\u001b[0m\u001b[0;34m*\u001b[0m\u001b[0margs\u001b[0m\u001b[0;34m)\u001b[0m\u001b[0;34m,\u001b[0m \u001b[0;34m(\u001b[0m\u001b[0mscale\u001b[0m \u001b[0;34m>=\u001b[0m \u001b[0;36m0\u001b[0m\u001b[0;34m)\u001b[0m\u001b[0;34m)\u001b[0m\u001b[0;34m\u001b[0m\u001b[0;34m\u001b[0m\u001b[0m\n\u001b[1;32m    965\u001b[0m         \u001b[0;32mif\u001b[0m \u001b[0;32mnot\u001b[0m \u001b[0mnp\u001b[0m\u001b[0;34m.\u001b[0m\u001b[0mall\u001b[0m\u001b[0;34m(\u001b[0m\u001b[0mcond\u001b[0m\u001b[0;34m)\u001b[0m\u001b[0;34m:\u001b[0m\u001b[0;34m\u001b[0m\u001b[0;34m\u001b[0m\u001b[0m\n",
            "\u001b[0;32m<string>\u001b[0m in \u001b[0;36m_parse_args_rvs\u001b[0;34m(self, loc, size)\u001b[0m\n",
            "\u001b[0;32m/usr/local/lib/python3.6/dist-packages/scipy/stats/_distn_infrastructure.py\u001b[0m in \u001b[0;36m_argcheck_rvs\u001b[0;34m(self, *args, **kwargs)\u001b[0m\n\u001b[1;32m    800\u001b[0m         \u001b[0;31m# The only keyword argument expected is 'size'.\u001b[0m\u001b[0;34m\u001b[0m\u001b[0;34m\u001b[0m\u001b[0;34m\u001b[0m\u001b[0m\n\u001b[1;32m    801\u001b[0m         \u001b[0msize\u001b[0m \u001b[0;34m=\u001b[0m \u001b[0mkwargs\u001b[0m\u001b[0;34m.\u001b[0m\u001b[0mget\u001b[0m\u001b[0;34m(\u001b[0m\u001b[0;34m'size'\u001b[0m\u001b[0;34m,\u001b[0m \u001b[0;32mNone\u001b[0m\u001b[0;34m)\u001b[0m\u001b[0;34m\u001b[0m\u001b[0;34m\u001b[0m\u001b[0m\n\u001b[0;32m--> 802\u001b[0;31m         \u001b[0mall_bcast\u001b[0m \u001b[0;34m=\u001b[0m \u001b[0mnp\u001b[0m\u001b[0;34m.\u001b[0m\u001b[0mbroadcast_arrays\u001b[0m\u001b[0;34m(\u001b[0m\u001b[0;34m*\u001b[0m\u001b[0margs\u001b[0m\u001b[0;34m)\u001b[0m\u001b[0;34m\u001b[0m\u001b[0;34m\u001b[0m\u001b[0m\n\u001b[0m\u001b[1;32m    803\u001b[0m \u001b[0;34m\u001b[0m\u001b[0m\n\u001b[1;32m    804\u001b[0m         \u001b[0;32mdef\u001b[0m \u001b[0msqueeze_left\u001b[0m\u001b[0;34m(\u001b[0m\u001b[0ma\u001b[0m\u001b[0;34m)\u001b[0m\u001b[0;34m:\u001b[0m\u001b[0;34m\u001b[0m\u001b[0;34m\u001b[0m\u001b[0m\n",
            "\u001b[0;32m<__array_function__ internals>\u001b[0m in \u001b[0;36mbroadcast_arrays\u001b[0;34m(*args, **kwargs)\u001b[0m\n",
            "\u001b[0;32m/usr/local/lib/python3.6/dist-packages/numpy/lib/stride_tricks.py\u001b[0m in \u001b[0;36mbroadcast_arrays\u001b[0;34m(*args, **kwargs)\u001b[0m\n\u001b[1;32m    260\u001b[0m         raise TypeError('broadcast_arrays() got an unexpected keyword '\n\u001b[1;32m    261\u001b[0m                         'argument {!r}'.format(list(kwargs.keys())[0]))\n\u001b[0;32m--> 262\u001b[0;31m     \u001b[0margs\u001b[0m \u001b[0;34m=\u001b[0m \u001b[0;34m[\u001b[0m\u001b[0mnp\u001b[0m\u001b[0;34m.\u001b[0m\u001b[0marray\u001b[0m\u001b[0;34m(\u001b[0m\u001b[0m_m\u001b[0m\u001b[0;34m,\u001b[0m \u001b[0mcopy\u001b[0m\u001b[0;34m=\u001b[0m\u001b[0;32mFalse\u001b[0m\u001b[0;34m,\u001b[0m \u001b[0msubok\u001b[0m\u001b[0;34m=\u001b[0m\u001b[0msubok\u001b[0m\u001b[0;34m)\u001b[0m \u001b[0;32mfor\u001b[0m \u001b[0m_m\u001b[0m \u001b[0;32min\u001b[0m \u001b[0margs\u001b[0m\u001b[0;34m]\u001b[0m\u001b[0;34m\u001b[0m\u001b[0;34m\u001b[0m\u001b[0m\n\u001b[0m\u001b[1;32m    263\u001b[0m \u001b[0;34m\u001b[0m\u001b[0m\n\u001b[1;32m    264\u001b[0m     \u001b[0mshape\u001b[0m \u001b[0;34m=\u001b[0m \u001b[0m_broadcast_shape\u001b[0m\u001b[0;34m(\u001b[0m\u001b[0;34m*\u001b[0m\u001b[0margs\u001b[0m\u001b[0;34m)\u001b[0m\u001b[0;34m\u001b[0m\u001b[0;34m\u001b[0m\u001b[0m\n",
            "\u001b[0;32m/usr/local/lib/python3.6/dist-packages/numpy/lib/stride_tricks.py\u001b[0m in \u001b[0;36m<listcomp>\u001b[0;34m(.0)\u001b[0m\n\u001b[1;32m    260\u001b[0m         raise TypeError('broadcast_arrays() got an unexpected keyword '\n\u001b[1;32m    261\u001b[0m                         'argument {!r}'.format(list(kwargs.keys())[0]))\n\u001b[0;32m--> 262\u001b[0;31m     \u001b[0margs\u001b[0m \u001b[0;34m=\u001b[0m \u001b[0;34m[\u001b[0m\u001b[0mnp\u001b[0m\u001b[0;34m.\u001b[0m\u001b[0marray\u001b[0m\u001b[0;34m(\u001b[0m\u001b[0m_m\u001b[0m\u001b[0;34m,\u001b[0m \u001b[0mcopy\u001b[0m\u001b[0;34m=\u001b[0m\u001b[0;32mFalse\u001b[0m\u001b[0;34m,\u001b[0m \u001b[0msubok\u001b[0m\u001b[0;34m=\u001b[0m\u001b[0msubok\u001b[0m\u001b[0;34m)\u001b[0m \u001b[0;32mfor\u001b[0m \u001b[0m_m\u001b[0m \u001b[0;32min\u001b[0m \u001b[0margs\u001b[0m\u001b[0;34m]\u001b[0m\u001b[0;34m\u001b[0m\u001b[0;34m\u001b[0m\u001b[0m\n\u001b[0m\u001b[1;32m    263\u001b[0m \u001b[0;34m\u001b[0m\u001b[0m\n\u001b[1;32m    264\u001b[0m     \u001b[0mshape\u001b[0m \u001b[0;34m=\u001b[0m \u001b[0m_broadcast_shape\u001b[0m\u001b[0;34m(\u001b[0m\u001b[0;34m*\u001b[0m\u001b[0margs\u001b[0m\u001b[0;34m)\u001b[0m\u001b[0;34m\u001b[0m\u001b[0;34m\u001b[0m\u001b[0m\n",
            "\u001b[0;31mKeyboardInterrupt\u001b[0m: "
          ]
        }
      ]
    },
    {
      "cell_type": "code",
      "metadata": {
        "id": "LeXQU8up2Kcy",
        "colab_type": "code",
        "colab": {}
      },
      "source": [
        "fig = plt.figure(figsize=(12,7))\n",
        "y = list(range(12,22))\n",
        "x = list(range(10))\n",
        "X,Y = np.meshgrid(x,y)\n",
        "title = ['No Usable Ace', 'Usable Ace']\n",
        "for i in range(2):\n",
        "  ax = fig.add_subplot(1, 2, i+1, projection='3d')\n",
        "  ax.set_title(title[i])\n",
        "  ax.plot_wireframe(X, Y, val_func[i,:,:]/val_count[i,:,:],rstride=1,cstride=1)\n",
        "  ax.set_xlabel('Dealer Showing')\n",
        "  ax.set_ylabel('Player Sum')\n",
        "  # ax.view_init(elev=50., azim=-60)"
      ],
      "execution_count": null,
      "outputs": []
    },
    {
      "cell_type": "markdown",
      "metadata": {
        "id": "I8kRbL1OoLKo",
        "colab_type": "text"
      },
      "source": [
        "## Generalized Value Iteration using MonteCarlo ES"
      ]
    },
    {
      "cell_type": "code",
      "metadata": {
        "id": "B_QlY5HsrxFO",
        "colab_type": "code",
        "colab": {}
      },
      "source": [
        "pi_player_action = [make_policy(20),make_policy(20)]"
      ],
      "execution_count": null,
      "outputs": []
    },
    {
      "cell_type": "code",
      "metadata": {
        "id": "U4pKtnu6pDKY",
        "colab_type": "code",
        "colab": {}
      },
      "source": [
        "def simulate_game_wAction(draw_distribution,pi_dealer,pi_player,init_player=-1):\n",
        "  player_cards = []\n",
        "  for i in range(2):\n",
        "    if init_player != -1 and i == 0:\n",
        "      player_cards.append(init_player)\n",
        "      continue\n",
        "    player_cards = checkUsableAce(player_cards,card_draw(draw_distribution,1)[0])\n",
        "  dealer_card = checkUsableAce([],card_draw(draw_distribution,1)[0])\n",
        "\n",
        "  player_total,player_hand = simulate_turn(draw_distribution,player_cards,dealer_card[0],pi_player)\n",
        "  dealer_total,dealer_hand = simulate_turn(draw_distribution,dealer_card,player_hand[0],pi_dealer,flipHidden=True)\n",
        "  \n",
        "  reward = computeReward(player_total,dealer_total)\n",
        "  \n",
        "  # print(\"Player:\",player_cards,player_total)\n",
        "  # print(player_hand)\n",
        "  # print(\"Dealer:\",dealer_card,dealer_total)\n",
        "  # print(dealer_hand)\n",
        "  # print(\"Reward:\",reward)\n",
        "  \n",
        "  player_cumTotal = np.cumsum(player_hand)\n",
        "  idx1 = np.where(player_cumTotal >= 12)[0]\n",
        "  idx = idx1[np.where(player_cumTotal[idx1] < 22)[0]]\n",
        "  # print(player_cumTotal)\n",
        "  # print(idx1)\n",
        "  # print(idx)\n",
        "  row = 0\n",
        "  if 11 in player_hand:\n",
        "    row = 1\n",
        "\n",
        "  jj = dealer_hand[0]-1\n",
        "  if dealer_hand[0] == 11:\n",
        "    jj = 0\n",
        "  \n",
        "  for ix,i in enumerate(idx):\n",
        "    ii = player_cumTotal[i]-12\n",
        "    kk = 0 #hit\n",
        "    action = \"hit\"\n",
        "    if ix == len(idx)-1 and i == len(player_cumTotal)-1:\n",
        "      kk = 1 #stick\n",
        "      action = \"stick\"\n",
        "    # print(\"Hit/Stick:\",kk)\n",
        "    # print(\"Dealer hand:\",row,ii+12,jj,kk,action,reward)\n",
        "    reward = computeReward(player_cumTotal[i],dealer_total)\n",
        "    action_val_func[row,ii,jj,kk]  = action_val_func[row,ii,jj,kk] + reward\n",
        "    action_val_count[row,ii,jj,kk] = action_val_count[row,ii,jj,kk] + 1.0\n",
        "    hit_val = action_val_func[row,ii,jj,0]/max(1,action_val_count[row,ii,jj,0])\n",
        "    stick_val = action_val_func[row,ii,jj,1]/max(1,action_val_count[row,ii,jj,1])\n",
        "    if  hit_val > stick_val:\n",
        "      pi_player[row,ii,jj] = 0.0\n",
        "    elif  hit_val < stick_val:\n",
        "      pi_player[row,ii,jj] = 1.0\n",
        "    else:\n",
        "      pi_player[row,ii,jj] = 0.5\n",
        "\n",
        "  return row,pi_player\n",
        "\n",
        "def improve_policy(pi_current,usableAce=False):\n",
        "  # pi_new = np.copy(pi_current)\n",
        "  pi_new = np.zeros(pi_current.shape)\n",
        "  item = 0\n",
        "  if usableAce:\n",
        "    item = 1\n",
        "    pi_new[0,:,:] = np.copy(pi_current[0,:,:])\n",
        "  else:\n",
        "    pi_new[1,:,:] = np.copy(pi_current[1,:,:])\n",
        "\n",
        "  act = action_val_func[item,:,:,:]/np.maximum(1,action_val_count[item,:,:,:])\n",
        "  count = np.zeros((act.shape[1],act.shape[2],2))\n",
        "  for ii in range(act.shape[0]):\n",
        "      for jj in range(act.shape[1]):\n",
        "        prob = 0.5\n",
        "        if act[ii,jj,0] > act[ii,jj,1]:\n",
        "          ## hit\n",
        "          prob = 0\n",
        "        elif act[ii,jj,0] < act[ii,jj,1]:\n",
        "          ## stick\n",
        "          prob = 1\n",
        "        pi_new[item,ii,jj] = prob\n",
        "  return pi_new\n"
      ],
      "execution_count": null,
      "outputs": []
    },
    {
      "cell_type": "code",
      "metadata": {
        "id": "OnSwk7WUp70g",
        "colab_type": "code",
        "colab": {}
      },
      "source": [
        "# load_result = False\n",
        "action_val_func = np.zeros((2,10,10,2))\n",
        "action_val_count = np.zeros((2,10,10,2))\n",
        "if load_result:\n",
        "  mat_dict = sio.loadmat(\"/content/gdrive/My Drive/Colab Notebooks/Blackjack.mat\")\n",
        "  action_val_func = mat_dict['action_val_func']\n",
        "  action_val_count = mat_dict['action_val_count']\n",
        "else:\n",
        "  start_time = time.time()\n",
        "  # num_trials = 10000\n",
        "  pi_player_current = make_policy(20)\n",
        "  for i in range(num_trials):\n",
        "    row,pi_player_current = simulate_game_wAction(draw_distribution,pi_dealer,pi_player_current)\n",
        "    # usableAce = False\n",
        "    # if row == 1:\n",
        "    #   usableAce = True\n",
        "    # pi_player_new = improve_policy(pi_player_current,usableAce)\n",
        "    # pi_player_current = np.copy(pi_player_new)\n",
        "  print('Time Elapsed = ',time.time()-start_time)\n",
        "  sio.savemat(\"/content/gdrive/My Drive/Colab Notebooks/Blackjack.mat\",{'val_func':val_func,'val_count':val_count,'num_trials':num_trials,'action_val_func':action_val_func,'action_val_count':action_val_count,})"
      ],
      "execution_count": null,
      "outputs": []
    },
    {
      "cell_type": "code",
      "metadata": {
        "id": "gvT4g0Fit68c",
        "colab_type": "code",
        "colab": {}
      },
      "source": [
        "fig = plt.figure(figsize=(12,7))\n",
        "for i in range(2):\n",
        "  ax = fig.add_subplot(1, 2, i+1)\n",
        "  ax.matshow(pi_player_current[i,:,:],cmap='gray',vmin=0,vmax=1)\n",
        "  ax.invert_yaxis()\n",
        "  ax.set_xlabel('Dealer Showing')\n",
        "  ax.set_ylabel('Player Sum')\n",
        "# print(pi_player_current[0,:,:])"
      ],
      "execution_count": null,
      "outputs": []
    },
    {
      "cell_type": "code",
      "metadata": {
        "id": "-nJM6ILgGBdX",
        "colab_type": "code",
        "colab": {}
      },
      "source": [
        "ii = 20\n",
        "jj = 3\n",
        "act = action_val_func[0,:,:,:]/np.maximum(1,action_val_count[0,:,:,:])\n",
        "print(act[ii-12,jj,:])\n",
        "print(act[ii-12,jj,0]>act[ii-12,jj,1])\n",
        "print(pi_player_current[0,ii-12,jj])"
      ],
      "execution_count": null,
      "outputs": []
    },
    {
      "cell_type": "code",
      "metadata": {
        "id": "MypkBD1d1VYB",
        "colab_type": "code",
        "colab": {}
      },
      "source": [
        "print(pi_player_current[0,20-12,9])\n",
        "print(pi_player_current[1,20-12,9])"
      ],
      "execution_count": null,
      "outputs": []
    },
    {
      "cell_type": "code",
      "metadata": {
        "id": "3gwFLYIpApDe",
        "colab_type": "code",
        "colab": {}
      },
      "source": [
        "print(np.round(action_val_func[0,:,:,0]/np.maximum(1.0,action_val_count[0,:,:,0]),3))\n",
        "print(np.round(action_val_func[0,:,:,1]/np.maximum(1.0,action_val_count[0,:,:,1]),3))"
      ],
      "execution_count": null,
      "outputs": []
    },
    {
      "cell_type": "code",
      "metadata": {
        "id": "nYQp5YefIPC-",
        "colab_type": "code",
        "colab": {}
      },
      "source": [
        "print(pi_player_current[0,:,:])\n",
        "print(pi_player_current[1,:,:])"
      ],
      "execution_count": null,
      "outputs": []
    },
    {
      "cell_type": "code",
      "metadata": {
        "id": "e_0vzdbOmYeF",
        "colab_type": "code",
        "colab": {}
      },
      "source": [
        "# row = simulate_game_wAction(draw_distribution,pi_dealer,pi_player_current)"
      ],
      "execution_count": null,
      "outputs": []
    },
    {
      "cell_type": "code",
      "metadata": {
        "id": "4xx_Y9-uqMqE",
        "colab_type": "code",
        "colab": {}
      },
      "source": [
        "# testUsableAce()"
      ],
      "execution_count": null,
      "outputs": []
    }
  ]
}