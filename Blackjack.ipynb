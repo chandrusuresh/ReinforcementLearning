{
  "nbformat": 4,
  "nbformat_minor": 0,
  "metadata": {
    "colab": {
      "name": "Blackjack_Final.ipynb",
      "provenance": [],
      "collapsed_sections": [],
      "authorship_tag": "ABX9TyMK2zOo0urDep+1bHPxtnsZ",
      "include_colab_link": true
    },
    "kernelspec": {
      "name": "python3",
      "display_name": "Python 3"
    }
  },
  "cells": [
    {
      "cell_type": "markdown",
      "metadata": {
        "id": "view-in-github",
        "colab_type": "text"
      },
      "source": [
        "<a href=\"https://colab.research.google.com/github/chandrusuresh/ReinforcementLearning/blob/Blackjack_MonteCarloES/Blackjack.ipynb\" target=\"_parent\"><img src=\"https://colab.research.google.com/assets/colab-badge.svg\" alt=\"Open In Colab\"/></a>"
      ]
    },
    {
      "cell_type": "code",
      "metadata": {
        "id": "dkTwK7Nxem-Z",
        "colab_type": "code",
        "colab": {}
      },
      "source": [
        "import numpy as np\n",
        "import matplotlib.pyplot as plt\n",
        "%matplotlib inline\n",
        "from tqdm import tqdm\n",
        "# np.random.seed(0)"
      ],
      "execution_count": 1,
      "outputs": []
    },
    {
      "cell_type": "markdown",
      "metadata": {
        "id": "DezxzT_wWX4l",
        "colab_type": "text"
      },
      "source": [
        "## Monte-Carlo with Exploring Starts\n",
        "This solution is inspired by solutions from [ShangtongZhang](https://github.com/ShangtongZhang/reinforcement-learning-an-introduction/blob/master/chapter05/blackjack.py) and [hollygrimm](https://github.com/hollygrimm/blackjack-montecarlo).\n",
        "\n",
        "To be able to solve this problem, the entire trajectory of every episode needs to be stored and the returns for each action taken at each state in every episode is updated at the end of the episode.\n",
        "I felt the problem statement is ambiguous and needed the above resources to fully understand the problem. I felt that the following points could have been elaborated in the problem statement:\n",
        "\n",
        "\n",
        "*   Usable ace is not set per episode, but set per move. Suppose the user has a usable ace and decides to \"hit\" which brings the total to more than 21, the first state would have an usable ace and the 2nd would not. This is kinda mentioned but I did not understand it well.\n",
        "*   The problem could have been started by assigning random initial states. My initial code contained generating the initial states and this took a lot of time.\n",
        "*   The policy function can be defined within the monte-carlo approach and this would eliminate the need to copy the entire policy array at each episode/update\n",
        "*   This is a random process, so to ensure each state is visited roughly the same number of times, the initial action is also set randomly regardless of the behavior (fixed) policy. If the initial action is not set, some states are reached too few times and this skews the greedy action at these states. The statistical properties of Monte-Carlo break down due to the lower sample sizes at these states without this condition.\n",
        "\n"
      ]
    },
    {
      "cell_type": "code",
      "metadata": {
        "id": "y2c8p6VJd_H9",
        "colab_type": "code",
        "colab": {}
      },
      "source": [
        "min_score = 12\n",
        "max_score = 21\n",
        "max_card_value = 10\n",
        "dealer_stick_val = 17\n",
        "\n",
        "def draw_card():\n",
        "  card = np.random.randint(1,14)\n",
        "  return min(max_card_value,card)\n",
        "\n",
        "def fixed_policy(value,stick_val):\n",
        "  return value >= stick_val\n",
        "\n",
        "def MonteCarlo_ES(first_visit_mc,num_episodes):\n",
        "  action_value_reward = np.zeros((2,10,10,2))\n",
        "  action_value_count = np.ones((2,10,10,2))\n",
        "  action_value = action_value_reward/action_value_count\n",
        "\n",
        "  def player_policy(state):\n",
        "    val = action_value[state[0],state[1]-min_score,state[2]-1,:]\n",
        "    max_val = np.max(val)\n",
        "    best_actions = [a for a,v in enumerate(val) if v == max_val]\n",
        "    return np.random.choice(best_actions)\n",
        "\n",
        "  def play(player_policy,init_state,init_action=None):\n",
        "    dealer_open = init_state[2]\n",
        "    dealer_card2 = draw_card()\n",
        "    ## Player's turn\n",
        "    if init_action == None:\n",
        "      action = player_policy(init_state)\n",
        "    else:\n",
        "      action = init_action\n",
        "    trajectory = [init_state+[action]]\n",
        "    \n",
        "    while action == 0:\n",
        "      card = draw_card()\n",
        "      new_sum = min(max_score+1,trajectory[-1][1] + card)\n",
        "      new_state = [trajectory[-1][0],new_sum,dealer_open]\n",
        "      if new_state[1] > max_score:\n",
        "        if trajectory[-1][0] == 1:\n",
        "          new_state = [0,new_sum-10,dealer_open]\n",
        "        else:\n",
        "          trajectory += [new_state + [-1]]\n",
        "          break\n",
        "      action = player_policy(new_state)\n",
        "      trajectory += [new_state+[action]]\n",
        "    \n",
        "    if trajectory[-1][1] > max_score:\n",
        "      return -1,trajectory\n",
        "\n",
        "    ## Dealer's turn\n",
        "    dealer_card = [dealer_open,dealer_card2]\n",
        "    dealer_sum = min(max_score+1,np.sum(dealer_card))\n",
        "    if 1 in dealer_card:\n",
        "      idx = dealer_card.index(1)\n",
        "      dealer_card[idx] = 11\n",
        "      dealer_sum += 10\n",
        "\n",
        "    while dealer_sum < max_score and not bool(fixed_policy(dealer_sum,dealer_stick_val)):\n",
        "      card = draw_card()\n",
        "      dealer_card += [card]\n",
        "      dealer_sum = min(max_score+1,np.sum(dealer_card))\n",
        "      if dealer_sum > max_score and 11 in dealer_card:\n",
        "        idx = dealer_card.index(11)\n",
        "        dealer_card[idx] = 1\n",
        "        dealer_sum -= 10\n",
        "\n",
        "    if dealer_sum > max_score:\n",
        "      reward = 1\n",
        "    elif trajectory[-1][1] > dealer_sum:\n",
        "      reward = 1\n",
        "    elif trajectory[-1][1] == dealer_sum:\n",
        "      reward = 0\n",
        "    else:\n",
        "      reward = -1\n",
        "    return reward,trajectory\n",
        "\n",
        "  def get_state_value():\n",
        "    pass\n",
        "\n",
        "  def plot_policy():\n",
        "    xlabels = [str(i+1) for i in range(10)];\n",
        "    xlabels[0] = 'A';\n",
        "\n",
        "    fig,ax = plt.subplots(2,2)\n",
        "    ax[0,0].matshow(np.argmax(action_value[0,:,:,:],axis=-1),cmap='binary')\n",
        "    ax[0,1].matshow(np.argmax(action_value[1,:,:,:],axis=-1),cmap='binary')\n",
        "\n",
        "    ax[0,0].set_xticks(list(range(0,10)))\n",
        "    ax[0,0].set_yticks(list(range(-1,10)))\n",
        "\n",
        "    ax[0,1].set_xticks(list(range(0,10)))\n",
        "    ax[0,1].set_yticks(list(range(-1,10)))\n",
        "\n",
        "    ax[0,0].set_title('No Usable Ace')\n",
        "    ax[0,0].invert_yaxis()\n",
        "    ax[0,0].set_xticklabels(xlabels)\n",
        "    ax[0,0].xaxis.set_ticks_position('bottom')\n",
        "    ax[0,0].set_yticklabels(list(range(11,22)));\n",
        "\n",
        "    ax[0,1].set_title('Usable Ace')\n",
        "    ax[0,1].invert_yaxis()\n",
        "    ax[0,1].set_xticklabels(xlabels)\n",
        "    ax[0,1].xaxis.set_ticks_position('bottom')\n",
        "    ax[0,1].set_yticklabels(list(range(11,22)));\n",
        "\n",
        "  for episode in tqdm(range(num_episodes)):\n",
        "    initial_state = [np.random.choice([0, 1]),\n",
        "                    np.random.choice(range(12, 22)),\n",
        "                    np.random.choice(range(1, 11))]\n",
        "    initial_action = np.random.choice([0,1])\n",
        "    reward,trajectory = play(player_policy,initial_state,initial_action)\n",
        "    unique_traj = set()  \n",
        "    for t in trajectory:\n",
        "      state = (t[0],t[1],t[2])\n",
        "      action = t[3]\n",
        "      if state[1] <= max_score:\n",
        "        if state in unique_traj and first_visit_mc:\n",
        "          continue\n",
        "        unique_traj.add(state)\n",
        "        action_value_reward[state[0],state[1]-min_score,state[2]-1,action] += reward\n",
        "        action_value_count[state[0],state[1]-min_score,state[2]-1,action] += 1\n",
        "        action_value[state[0],state[1]-min_score,state[2]-1,action] = action_value_reward[state[0],state[1]-min_score,state[2]-1,action]/action_value_count[state[0],state[1]-min_score,state[2]-1,action]\n",
        "  print()\n",
        "  print()\n",
        "  plot_policy()"
      ],
      "execution_count": 2,
      "outputs": []
    },
    {
      "cell_type": "code",
      "metadata": {
        "id": "VpKSPcGXgQiX",
        "colab_type": "code",
        "colab": {
          "base_uri": "https://localhost:8080/",
          "height": 337
        },
        "outputId": "eb770225-fe3d-419c-c7fd-fa9d572662a3"
      },
      "source": [
        "first_visit_mc = True\n",
        "num_episodes = 500000\n",
        "MonteCarlo_ES(first_visit_mc,num_episodes)    "
      ],
      "execution_count": 3,
      "outputs": [
        {
          "output_type": "stream",
          "text": [
            "100%|██████████| 500000/500000 [01:03<00:00, 7822.77it/s]\n"
          ],
          "name": "stderr"
        },
        {
          "output_type": "stream",
          "text": [
            "\n",
            "\n"
          ],
          "name": "stdout"
        },
        {
          "output_type": "display_data",
          "data": {
            "image/png": "[encoded data removed]",
            "text/plain": [
              "<Figure size 432x288 with 4 Axes>"
            ]
          },
          "metadata": {
            "tags": [],
            "needs_background": "light"
          }
        }
      ]
    },
    {
      "cell_type": "code",
      "metadata": {
        "id": "lQI996V_sT4A",
        "colab_type": "code",
        "colab": {}
      },
      "source": [
        "\n"
      ],
      "execution_count": 3,
      "outputs": []
    }
  ]
}