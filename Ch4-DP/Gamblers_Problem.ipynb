{
  "nbformat": 4,
  "nbformat_minor": 0,
  "metadata": {
    "colab": {
      "name": "Untitled2.ipynb",
      "provenance": [],
      "authorship_tag": "ABX9TyMqB6AL/ll/qtfTJG8qqZ86",
      "include_colab_link": true
    },
    "kernelspec": {
      "name": "python3",
      "display_name": "Python 3"
    }
  },
  "cells": [
    {
      "cell_type": "markdown",
      "metadata": {
        "id": "view-in-github",
        "colab_type": "text"
      },
      "source": [
        "<a href=\"https://colab.research.google.com/github/chandrusuresh/ReinforcementLearning/blob/master/Ch4-DP/Gamblers_Problem.ipynb\" target=\"_parent\"><img src=\"https://colab.research.google.com/assets/colab-badge.svg\" alt=\"Open In Colab\"/></a>"
      ]
    },
    {
      "cell_type": "code",
      "metadata": {
        "id": "-kYGKNaSYotF",
        "colab_type": "code",
        "colab": {}
      },
      "source": [
        "import numpy as np\n",
        "from scipy.special import factorial\n",
        "import matplotlib.pyplot as plt\n",
        "%matplotlib inline"
      ],
      "execution_count": 0,
      "outputs": []
    },
    {
      "cell_type": "markdown",
      "metadata": {
        "id": "SNhM1_VjjlvG",
        "colab_type": "text"
      },
      "source": [
        "# Gambler's Problem"
      ]
    },
    {
      "cell_type": "markdown",
      "metadata": {
        "id": "rVWwPlarjyUR",
        "colab_type": "text"
      },
      "source": [
        "A Gambler makes bets on the outcomes of a sequency of coin flips. If the coin comes up heads, he wins as much money has he as staked on that flip; if its tails he loses his stake. Gambler wins by reaching his goal of $100 or loses by running out of money.\n",
        "\n",
        "**State:** Amount of money gambler currently has. i.e. $s \\in \\{1,2,...,99\\}$\n",
        "\n",
        "**Action:** Amount gambler stakes in each round. i.e. $a \\in \\{0,1,2,...,min(s,100-s)\\}$\n",
        "\n",
        "**Problem type:** Undiscounted ($\\gamma = 1$) and episodic (reward = 0 for all transitions except when the game terminates) finite MDP. State & action are integers"
      ]
    },
    {
      "cell_type": "markdown",
      "metadata": {
        "id": "KUpmgyeFl43b",
        "colab_type": "text"
      },
      "source": [
        "## Approach"
      ]
    },
    {
      "cell_type": "markdown",
      "metadata": {
        "id": "B4N85dhtl62g",
        "colab_type": "text"
      },
      "source": [
        "1.   State is the earnings $s \\in \\{1,2,...,99\\}$\n",
        "2.   Action is the amount to be staked i.e. $a \\in \\{0,1,2,...,min(s,100-s)\\}$. The min function indicates that if the gambler has \\\\$60 in his pot, he needs to stake a minimum of \\\\$40 (=\\\\$100-\\\\$60) to be able to win the game. While the minimum function is not necessary, it does not affect the solution in any way because of the assumption in (3) below.\n",
        "3.   Probability of landing heads, $p_h = 0.4$ is a constant and is independent of the action/states.\n",
        "4.   The next state $s_{k+1}$ can take 2 values $s_{k+1} = \\Bigg\\{\\begin{matrix}s_k + a_k & \\text{with } probability = P_h \\\\ s_k - a_k & \\text{with } probability = 1-P_h\\end{matrix}$\n",
        "5.   Reward at step $k$ is give by: $r_k = \\Bigg\\{\\begin{matrix} 1 & \\text{if } s_k >= 100 \\\\ 0 & otherwise \\end{matrix}$\n",
        "6.   From (4) above, the transition probability is defined as follows:\n",
        "      $$ \\begin{align*}P(s_{k+1} = s_k + a_k|a=a_k) &= P_h \\\\ P(s_{k+1} = s_k - a_k|a=a_k) &= 1-P_h \\end{align*}$$\n",
        "7.    Initial Policy - Define initial policy as an equi-probable density for all possible actions\n",
        "\n",
        "\n",
        "\n"
      ]
    },
    {
      "cell_type": "markdown",
      "metadata": {
        "id": "6PlFHeE0rxxS",
        "colab_type": "text"
      },
      "source": [
        "## Parameters"
      ]
    },
    {
      "cell_type": "code",
      "metadata": {
        "id": "7AqsgL9WrzAO",
        "colab_type": "code",
        "colab": {}
      },
      "source": [
        "p_h = 0.4\n",
        "maxEarnings = 100\n",
        "minEarnings = 0\n",
        "gamma = 1."
      ],
      "execution_count": 0,
      "outputs": []
    },
    {
      "cell_type": "markdown",
      "metadata": {
        "id": "H3oThHZVrgrp",
        "colab_type": "text"
      },
      "source": [
        "## Code"
      ]
    },
    {
      "cell_type": "code",
      "metadata": {
        "id": "YnATATm_joIU",
        "colab_type": "code",
        "colab": {}
      },
      "source": [
        "p_coin = [p_h,1-p_h]\n",
        "def get_actions(s):\n",
        "  return np.array(list(range(1,min(s+1,maxEarnings+1-s))))\n",
        "\n",
        "def getInitPolicy():\n",
        "  pi = [[]]\n",
        "  for i in range(minEarnings+1,maxEarnings):\n",
        "    a = get_actions(i)\n",
        "    pi.append(np.ones((len(a),))/float(len(a)))\n",
        "  return pi\n",
        "\n",
        "def evaluate_policy(v_s,pi):\n",
        "  vs = np.copy(v_s)\n",
        "  for i in range(maxEarnings-1,minEarnings,-1):\n",
        "  # for i in range(minEarnings+1,maxEarnings):\n",
        "    total_val = 0\n",
        "    act = get_actions(i)\n",
        "    for ii,a in enumerate(act):\n",
        "      val = 0\n",
        "      for k in range(2):\n",
        "        next = max(0,min(maxEarnings,i+(-1)**k*(a)))\n",
        "        if next == maxEarnings:\n",
        "          val = val + p_coin[k]*1\n",
        "        elif next > 0:\n",
        "          val = val + p_coin[k]*(0 + gamma*vs[next])\n",
        "      total_val = total_val + pi[i][ii]*val\n",
        "    vs[i] = total_val    \n",
        "  return vs\n",
        "\n",
        "def improve_policy(v_s):\n",
        "  pi = []\n",
        "  for i in range(minEarnings+1,maxEarnings):\n",
        "    act = get_actions(i)\n",
        "    act_val = np.zeros((len(act),))\n",
        "    act_prob = np.zeros((len(act),))\n",
        "    for ii,a in enumerate(act):\n",
        "      val = 0\n",
        "      for k in range(2):\n",
        "        next = max(0,min(maxEarnings,i+(-1)**k*(a)))\n",
        "        if next == maxEarnings:\n",
        "          val = val + p_coin[k]*1\n",
        "        elif next > 0:\n",
        "          val = val + p_coin[k]*(0 + gamma*vs[next])\n",
        "      act_val[ii] = val\n",
        "    max_val = np.max(act_val)\n",
        "    max_a = np.where(act_val == max_val)[0]\n",
        "    if len(max_a) > 1:\n",
        "      pass\n",
        "    act_prob[max_a[0]] = 1\n",
        "    pi.append(act_prob)\n",
        "  return pi\n",
        "\n",
        "def getBestAction(pi):\n",
        "  action = []\n",
        "  # print(\"Size of action:\",len(action))\n",
        "  for i,p in enumerate(pi):\n",
        "    # print('Best Action:',i,np.where(p == np.max(p))[0][0])\n",
        "    action.append(1+np.where(p == np.max(p))[0][0])\n",
        "  return action"
      ],
      "execution_count": 0,
      "outputs": []
    },
    {
      "cell_type": "code",
      "metadata": {
        "id": "VfmmuJihyHdO",
        "colab_type": "code",
        "colab": {
          "base_uri": "https://localhost:8080/",
          "height": 51
        },
        "outputId": "8b40c6aa-47ef-423d-beaf-78d081fa045b"
      },
      "source": [
        "v_s = np.zeros((maxEarnings,))\n",
        "pi_init = getInitPolicy()\n",
        "\n",
        "s = 1\n",
        "print(pi_init[s])\n",
        "print(get_actions(s))\n",
        "# print(list(range(maxEarnings-1,0,-1)))"
      ],
      "execution_count": 22,
      "outputs": [
        {
          "output_type": "stream",
          "text": [
            "[1.]\n",
            "[1]\n"
          ],
          "name": "stdout"
        }
      ]
    },
    {
      "cell_type": "code",
      "metadata": {
        "id": "d3_amu714KZg",
        "colab_type": "code",
        "colab": {
          "base_uri": "https://localhost:8080/",
          "height": 778
        },
        "outputId": "e750eee0-2961-43a9-93bd-a7ccacef0aa4"
      },
      "source": [
        "iter = 0\n",
        "iter_max = 2\n",
        "\n",
        "fig,ax = plt.subplots(1,2,figsize=(10,7))\n",
        "vs_prev = np.copy(v_s)\n",
        "pi_prev = np.copy(pi_init)\n",
        "exitFlag = False\n",
        "while iter < iter_max and not exitFlag:\n",
        "  vs = evaluate_policy(vs_prev,pi_prev)\n",
        "  pi = improve_policy(vs)\n",
        "  if np.max(np.abs(vs-vs_prev)) < 0.001 and np.max(np.abs(pi-pi_prev)) < 1E-2:\n",
        "    exitFlag = True\n",
        "  vs_prev = np.copy(vs)\n",
        "  pi_prev = np.copy(pi)\n",
        "  print(iter,np.sum(vs))\n",
        "  # print(np.round(vs,3))\n",
        "  # print(\"######\")\n",
        "  \n",
        "  iter = iter + 1\n",
        "  ax[0].plot(range(len(vs)),vs)\n",
        "  ax[1].plot(range(len(pi)),getBestAction(pi))\n",
        "\n"
      ],
      "execution_count": 24,
      "outputs": [
        {
          "output_type": "stream",
          "text": [
            "0 4.923267539405236\n"
          ],
          "name": "stdout"
        },
        {
          "output_type": "error",
          "ename": "IndexError",
          "evalue": "ignored",
          "traceback": [
            "\u001b[0;31m---------------------------------------------------------------------------\u001b[0m",
            "\u001b[0;31mIndexError\u001b[0m                                Traceback (most recent call last)",
            "\u001b[0;32m<ipython-input-24-85733021536b>\u001b[0m in \u001b[0;36m<module>\u001b[0;34m()\u001b[0m\n\u001b[1;32m      7\u001b[0m \u001b[0mexitFlag\u001b[0m \u001b[0;34m=\u001b[0m \u001b[0;32mFalse\u001b[0m\u001b[0;34m\u001b[0m\u001b[0;34m\u001b[0m\u001b[0m\n\u001b[1;32m      8\u001b[0m \u001b[0;32mwhile\u001b[0m \u001b[0miter\u001b[0m \u001b[0;34m<\u001b[0m \u001b[0miter_max\u001b[0m \u001b[0;32mand\u001b[0m \u001b[0;32mnot\u001b[0m \u001b[0mexitFlag\u001b[0m\u001b[0;34m:\u001b[0m\u001b[0;34m\u001b[0m\u001b[0;34m\u001b[0m\u001b[0m\n\u001b[0;32m----> 9\u001b[0;31m   \u001b[0mvs\u001b[0m \u001b[0;34m=\u001b[0m \u001b[0mevaluate_policy\u001b[0m\u001b[0;34m(\u001b[0m\u001b[0mvs_prev\u001b[0m\u001b[0;34m,\u001b[0m\u001b[0mpi_prev\u001b[0m\u001b[0;34m)\u001b[0m\u001b[0;34m\u001b[0m\u001b[0;34m\u001b[0m\u001b[0m\n\u001b[0m\u001b[1;32m     10\u001b[0m   \u001b[0mpi\u001b[0m \u001b[0;34m=\u001b[0m \u001b[0mimprove_policy\u001b[0m\u001b[0;34m(\u001b[0m\u001b[0mvs\u001b[0m\u001b[0;34m)\u001b[0m\u001b[0;34m\u001b[0m\u001b[0;34m\u001b[0m\u001b[0m\n\u001b[1;32m     11\u001b[0m   \u001b[0;32mif\u001b[0m \u001b[0mnp\u001b[0m\u001b[0;34m.\u001b[0m\u001b[0mmax\u001b[0m\u001b[0;34m(\u001b[0m\u001b[0mnp\u001b[0m\u001b[0;34m.\u001b[0m\u001b[0mabs\u001b[0m\u001b[0;34m(\u001b[0m\u001b[0mvs\u001b[0m\u001b[0;34m-\u001b[0m\u001b[0mvs_prev\u001b[0m\u001b[0;34m)\u001b[0m\u001b[0;34m)\u001b[0m \u001b[0;34m<\u001b[0m \u001b[0;36m0.001\u001b[0m \u001b[0;32mand\u001b[0m \u001b[0mnp\u001b[0m\u001b[0;34m.\u001b[0m\u001b[0mmax\u001b[0m\u001b[0;34m(\u001b[0m\u001b[0mnp\u001b[0m\u001b[0;34m.\u001b[0m\u001b[0mabs\u001b[0m\u001b[0;34m(\u001b[0m\u001b[0mpi\u001b[0m\u001b[0;34m-\u001b[0m\u001b[0mpi_prev\u001b[0m\u001b[0;34m)\u001b[0m\u001b[0;34m)\u001b[0m \u001b[0;34m<\u001b[0m \u001b[0;36m1E-2\u001b[0m\u001b[0;34m:\u001b[0m\u001b[0;34m\u001b[0m\u001b[0;34m\u001b[0m\u001b[0m\n",
            "\u001b[0;32m<ipython-input-21-1e5302cde135>\u001b[0m in \u001b[0;36mevaluate_policy\u001b[0;34m(v_s, pi)\u001b[0m\n\u001b[1;32m     24\u001b[0m         \u001b[0;32melif\u001b[0m \u001b[0mnext\u001b[0m \u001b[0;34m>\u001b[0m \u001b[0;36m0\u001b[0m\u001b[0;34m:\u001b[0m\u001b[0;34m\u001b[0m\u001b[0;34m\u001b[0m\u001b[0m\n\u001b[1;32m     25\u001b[0m           \u001b[0mval\u001b[0m \u001b[0;34m=\u001b[0m \u001b[0mval\u001b[0m \u001b[0;34m+\u001b[0m \u001b[0mp_coin\u001b[0m\u001b[0;34m[\u001b[0m\u001b[0mk\u001b[0m\u001b[0;34m]\u001b[0m\u001b[0;34m*\u001b[0m\u001b[0;34m(\u001b[0m\u001b[0;36m0\u001b[0m \u001b[0;34m+\u001b[0m \u001b[0mgamma\u001b[0m\u001b[0;34m*\u001b[0m\u001b[0mvs\u001b[0m\u001b[0;34m[\u001b[0m\u001b[0mnext\u001b[0m\u001b[0;34m]\u001b[0m\u001b[0;34m)\u001b[0m\u001b[0;34m\u001b[0m\u001b[0;34m\u001b[0m\u001b[0m\n\u001b[0;32m---> 26\u001b[0;31m       \u001b[0mtotal_val\u001b[0m \u001b[0;34m=\u001b[0m \u001b[0mtotal_val\u001b[0m \u001b[0;34m+\u001b[0m \u001b[0mpi\u001b[0m\u001b[0;34m[\u001b[0m\u001b[0mi\u001b[0m\u001b[0;34m]\u001b[0m\u001b[0;34m[\u001b[0m\u001b[0mii\u001b[0m\u001b[0;34m]\u001b[0m\u001b[0;34m*\u001b[0m\u001b[0mval\u001b[0m\u001b[0;34m\u001b[0m\u001b[0;34m\u001b[0m\u001b[0m\n\u001b[0m\u001b[1;32m     27\u001b[0m     \u001b[0mvs\u001b[0m\u001b[0;34m[\u001b[0m\u001b[0mi\u001b[0m\u001b[0;34m]\u001b[0m \u001b[0;34m=\u001b[0m \u001b[0mtotal_val\u001b[0m\u001b[0;34m\u001b[0m\u001b[0;34m\u001b[0m\u001b[0m\n\u001b[1;32m     28\u001b[0m   \u001b[0;32mreturn\u001b[0m \u001b[0mvs\u001b[0m\u001b[0;34m\u001b[0m\u001b[0;34m\u001b[0m\u001b[0m\n",
            "\u001b[0;31mIndexError\u001b[0m: index 99 is out of bounds for axis 0 with size 99"
          ]
        },
        {
          "output_type": "display_data",
          "data": {
            "image/png": "[encoded data removed]",
            "text/plain": [
              "<Figure size 720x504 with 2 Axes>"
            ]
          },
          "metadata": {
            "tags": [],
            "needs_background": "light"
          }
        }
      ]
    },
    {
      "cell_type": "code",
      "metadata": {
        "id": "AVGMsxkWe0gw",
        "colab_type": "code",
        "colab": {
          "base_uri": "https://localhost:8080/",
          "height": 1000
        },
        "outputId": "1ba1fbaa-5572-4d48-e18b-21f9055d98e2"
      },
      "source": [
        "# print(getBestAction(pi))\n",
        "print(len(pi))\n",
        "action = np.zeros((len(pi),))\n",
        "pi_mat = getBestAction(pi_prev)"
      ],
      "execution_count": 20,
      "outputs": [
        {
          "output_type": "stream",
          "text": [
            "99\n",
            "Best Action: 0 0\n",
            "Best Action: 1 1\n",
            "Best Action: 2 2\n",
            "Best Action: 3 3\n",
            "Best Action: 4 4\n",
            "Best Action: 5 5\n",
            "Best Action: 6 6\n",
            "Best Action: 7 7\n",
            "Best Action: 8 8\n",
            "Best Action: 9 9\n",
            "Best Action: 10 10\n",
            "Best Action: 11 11\n",
            "Best Action: 12 12\n",
            "Best Action: 13 13\n",
            "Best Action: 14 14\n",
            "Best Action: 15 15\n",
            "Best Action: 16 16\n",
            "Best Action: 17 17\n",
            "Best Action: 18 18\n",
            "Best Action: 19 19\n",
            "Best Action: 20 20\n",
            "Best Action: 21 21\n",
            "Best Action: 22 22\n",
            "Best Action: 23 23\n",
            "Best Action: 24 24\n",
            "Best Action: 25 25\n",
            "Best Action: 26 26\n",
            "Best Action: 27 27\n",
            "Best Action: 28 28\n",
            "Best Action: 29 29\n",
            "Best Action: 30 30\n",
            "Best Action: 31 31\n",
            "Best Action: 32 32\n",
            "Best Action: 33 33\n",
            "Best Action: 34 34\n",
            "Best Action: 35 35\n",
            "Best Action: 36 36\n",
            "Best Action: 37 37\n",
            "Best Action: 38 38\n",
            "Best Action: 39 39\n",
            "Best Action: 40 40\n",
            "Best Action: 41 41\n",
            "Best Action: 42 42\n",
            "Best Action: 43 43\n",
            "Best Action: 44 44\n",
            "Best Action: 45 45\n",
            "Best Action: 46 46\n",
            "Best Action: 47 47\n",
            "Best Action: 48 48\n",
            "Best Action: 49 49\n",
            "Best Action: 50 48\n",
            "Best Action: 51 47\n",
            "Best Action: 52 46\n",
            "Best Action: 53 45\n",
            "Best Action: 54 44\n",
            "Best Action: 55 43\n",
            "Best Action: 56 42\n",
            "Best Action: 57 41\n",
            "Best Action: 58 40\n",
            "Best Action: 59 39\n",
            "Best Action: 60 38\n",
            "Best Action: 61 37\n",
            "Best Action: 62 36\n",
            "Best Action: 63 35\n",
            "Best Action: 64 34\n",
            "Best Action: 65 33\n",
            "Best Action: 66 32\n",
            "Best Action: 67 31\n",
            "Best Action: 68 30\n",
            "Best Action: 69 29\n",
            "Best Action: 70 28\n",
            "Best Action: 71 27\n",
            "Best Action: 72 26\n",
            "Best Action: 73 25\n",
            "Best Action: 74 24\n",
            "Best Action: 75 23\n",
            "Best Action: 76 22\n",
            "Best Action: 77 21\n",
            "Best Action: 78 20\n",
            "Best Action: 79 19\n",
            "Best Action: 80 18\n",
            "Best Action: 81 17\n",
            "Best Action: 82 16\n",
            "Best Action: 83 15\n",
            "Best Action: 84 14\n",
            "Best Action: 85 13\n",
            "Best Action: 86 12\n",
            "Best Action: 87 11\n",
            "Best Action: 88 10\n",
            "Best Action: 89 9\n",
            "Best Action: 90 8\n",
            "Best Action: 91 7\n",
            "Best Action: 92 6\n",
            "Best Action: 93 5\n",
            "Best Action: 94 4\n",
            "Best Action: 95 3\n",
            "Best Action: 96 2\n",
            "Best Action: 97 1\n",
            "Best Action: 98 0\n"
          ],
          "name": "stdout"
        }
      ]
    }
  ]
}