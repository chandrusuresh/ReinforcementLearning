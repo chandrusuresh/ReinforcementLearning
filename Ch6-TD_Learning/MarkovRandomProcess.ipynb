{
  "nbformat": 4,
  "nbformat_minor": 0,
  "metadata": {
    "colab": {
      "name": "MarkovRandomProcess.ipynb",
      "provenance": [],
      "authorship_tag": "ABX9TyMTJ6r9widlav/sGFce40Wd",
      "include_colab_link": true
    },
    "kernelspec": {
      "name": "python3",
      "display_name": "Python 3"
    }
  },
  "cells": [
    {
      "cell_type": "markdown",
      "metadata": {
        "id": "view-in-github",
        "colab_type": "text"
      },
      "source": [
        "<a href=\"https://colab.research.google.com/github/chandrusuresh/ReinforcementLearning/blob/master/Ch6-TD_Learning/MarkovRandomProcess.ipynb\" target=\"_parent\"><img src=\"https://colab.research.google.com/assets/colab-badge.svg\" alt=\"Open In Colab\"/></a>"
      ]
    },
    {
      "cell_type": "code",
      "metadata": {
        "id": "0gKzFnNkdB--",
        "colab_type": "code",
        "colab": {}
      },
      "source": [
        "import numpy as np\n",
        "import matplotlib.pyplot as plt\n",
        "%matplotlib inline\n",
        "from tqdm import tqdm"
      ],
      "execution_count": 1,
      "outputs": []
    },
    {
      "cell_type": "markdown",
      "metadata": {
        "id": "wWgmpEM4eTQj",
        "colab_type": "text"
      },
      "source": [
        "## Markov Random Process\n",
        "\n",
        "This is an example of the markov random process Example 6.2 in page-125 from the book [\"Reinforcement Learning\" by Barto, Sutton](http://incompleteideas.net/sutton/book/the-book.html).\n",
        "\n",
        "Given a markov random process given by the following image. There are 5 states and the transitions happen to neighboring states at every step with equal probability. The probability of making a transition to the right from state $E$ has a reward of 1 and terminates the process while all other transitions have a zero reward. A transition to the left from state $A$ also terminates the process but with zero reward\n",
        "\n",
        "![image.png](data:image/png;base64,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)"
      ]
    },
    {
      "cell_type": "markdown",
      "metadata": {
        "id": "5mr0uWKrkxM8",
        "colab_type": "text"
      },
      "source": [
        "### True State Value Function\n",
        "\n",
        "This section solves Exercise 6.6 from the book where the true values of the states of the above process is computed. Two approaches are discussed."
      ]
    },
    {
      "cell_type": "markdown",
      "metadata": {
        "id": "NyGQuG_Di4-5",
        "colab_type": "text"
      },
      "source": [
        "#### Linear Algebra Approach\n",
        "In this approach, the state value function is computed through the adjacency matrix of the above network and solved using the state dynamics. The state dynamics is described below:\n",
        "$$ \\begin{align*} \\left[ \\begin{matrix} V_A \\\\ V_B \\\\ V_C \\\\ V_D \\\\ V_E   \\end{matrix} \\right] &= \\left[ \\begin{matrix} 0 && 0.5 && 0 && 0 && 0 \\\\ 0.5 && 0 && 0.5 && 0 && 0 \\\\ 0 && 0.5 && 0 && 0.5 && 0 \\\\ 0 && 0 && 0.5 && 0 && 0.5 \\\\ 0 && 0 && 0 && 0.5 && 0  \\end{matrix} \\right] \\left[ \\begin{matrix} V_A \\\\ V_B \\\\ V_C \\\\ V_D \\\\ V_E   \\end{matrix} \\right] + \\left[ \\begin{matrix} 0 \\\\ 0 \\\\ 0 \\\\ 0 \\\\ 0.5   \\end{matrix} \\right] \\\\ V &= A V + b \\\\ \\Rightarrow (I&-A)V = b \\\\ \\Rightarrow V &= (I-A)^{-1} b\\end{align*} $$\n"
      ]
    },
    {
      "cell_type": "code",
      "metadata": {
        "id": "mV4CktHOi27r",
        "colab_type": "code",
        "colab": {
          "base_uri": "https://localhost:8080/",
          "height": 52
        },
        "outputId": "ee09a60e-50b9-442f-80bb-73cd4aa7b4f3"
      },
      "source": [
        "nodes = 5\n",
        "A = np.matrix(np.zeros((nodes,nodes)))\n",
        "b = np.matrix(np.zeros((nodes,1)))\n",
        "b[-1,-1] = 0.5\n",
        "for i in range(nodes-1):\n",
        "  A[i,i+1] = 0.5\n",
        "  A[i+1,i] = 0.5\n",
        "\n",
        "V_linalg = np.matmul(np.linalg.inv(np.eye(nodes)-A),b).T\n",
        "print('Solution using Linear Algebra approach')\n",
        "print(V_linalg)"
      ],
      "execution_count": 2,
      "outputs": [
        {
          "output_type": "stream",
          "text": [
            "Solution using Linear Algebra approach\n",
            "[[0.16666667 0.33333333 0.5        0.66666667 0.83333333]]\n"
          ],
          "name": "stdout"
        }
      ]
    },
    {
      "cell_type": "markdown",
      "metadata": {
        "id": "-rcV9ZRTjCgk",
        "colab_type": "text"
      },
      "source": [
        "#### Dynamic Programming Approach\n",
        "This approach is similar to the approach discussed in Chapter-4 pertaining to iterative policy evaluation where the value for each state in the current iteration is calculated from the values of the neighboring states from the previous iteration based on the state transition dynamics. "
      ]
    },
    {
      "cell_type": "code",
      "metadata": {
        "id": "-xkj3dN4jB4D",
        "colab_type": "code",
        "colab": {
          "base_uri": "https://localhost:8080/",
          "height": 52
        },
        "outputId": "aa6eec78-91dd-4463-b935-4f17ef11dbbd"
      },
      "source": [
        "num_iters = 100\n",
        "V_dp = np.zeros((nodes+1,))\n",
        "V_dp[-1] = 1\n",
        "for n in range(num_iters):\n",
        "  for i in range(nodes): \n",
        "    V_dp[i] = 0\n",
        "    if i > 0:\n",
        "      V_dp[i] = 0.5*V_dp[i-1]\n",
        "    V_dp[i] += 0.5*V_dp[i+1]\n",
        "\n",
        "print('Solution using Dynamic Programming approach')\n",
        "print(V_dp[:-1])"
      ],
      "execution_count": 3,
      "outputs": [
        {
          "output_type": "stream",
          "text": [
            "Solution using Dynamic Programming approach\n",
            "[0.16666667 0.33333333 0.5        0.66666667 0.83333333]\n"
          ],
          "name": "stdout"
        }
      ]
    }
  ]
}