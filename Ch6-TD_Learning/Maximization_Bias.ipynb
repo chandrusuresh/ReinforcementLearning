{
  "nbformat": 4,
  "nbformat_minor": 0,
  "metadata": {
    "colab": {
      "name": "Maximization_Bias.ipynb",
      "provenance": [],
      "authorship_tag": "ABX9TyMhTffiwQfVmTeN5JlxP1Tb",
      "include_colab_link": true
    },
    "kernelspec": {
      "name": "python3",
      "display_name": "Python 3"
    }
  },
  "cells": [
    {
      "cell_type": "markdown",
      "metadata": {
        "id": "view-in-github",
        "colab_type": "text"
      },
      "source": [
        "<a href=\"https://colab.research.google.com/github/chandrusuresh/ReinforcementLearning/blob/master/Ch6-TD_Learning/Maximization_Bias.ipynb\" target=\"_parent\"><img src=\"https://colab.research.google.com/assets/colab-badge.svg\" alt=\"Open In Colab\"/></a>"
      ]
    },
    {
      "cell_type": "code",
      "metadata": {
        "id": "quKs1JoF_f3g",
        "colab_type": "code",
        "colab": {}
      },
      "source": [
        "import numpy as np\n",
        "import matplotlib.pyplot as plt\n",
        "from tqdm import tqdm\n",
        "%matplotlib inline"
      ],
      "execution_count": 1,
      "outputs": []
    },
    {
      "cell_type": "markdown",
      "metadata": {
        "id": "LZqfTwf4_uMv",
        "colab_type": "text"
      },
      "source": [
        "## Maximization Bias in Q Learning"
      ]
    },
    {
      "cell_type": "markdown",
      "metadata": {
        "id": "BBg57fgS_xy6",
        "colab_type": "text"
      },
      "source": [
        "This is an example of the markov random process Example 6.7 in page-134 from the book [\"Reinforcement Learning\" by Barto, Sutton](http://incompleteideas.net/sutton/book/the-book.html).\n",
        "\n",
        "![image.png](data:image/png;base64,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)"
      ]
    },
    {
      "cell_type": "code",
      "metadata": {
        "id": "8lXtmxp2_tz3",
        "colab_type": "code",
        "colab": {}
      },
      "source": [
        "nodes = 4\n",
        "actions = [-1,1]\n",
        "num_actions = 2\n",
        "start = 2"
      ],
      "execution_count": 2,
      "outputs": []
    },
    {
      "cell_type": "code",
      "metadata": {
        "id": "hs3yP8U8_p1N",
        "colab_type": "code",
        "colab": {}
      },
      "source": [
        "def gaussian_reward():\n",
        "  return np.random.normal(-0.1,1)\n",
        "\n",
        "def target_policy(Q,current,epsilon):\n",
        "  action_prob = epsilon/float(num_actions)*np.ones((num_actions,))\n",
        "\n",
        "  maxQ = np.max(Q[current,:])\n",
        "  idx = np.where(Q[current,:] == maxQ)[0]\n",
        "\n",
        "  action_prob[idx] += (1-epsilon)/float(len(idx))\n",
        "  return np.random.choice(range(num_actions),p=action_prob)\n",
        "\n",
        "def step(current,action):\n",
        "  next_state = current + action\n",
        "  reward = 0\n",
        "  if next_state == 0:\n",
        "    reward = gaussian_reward()\n",
        "  return next_state,reward \n",
        "\n",
        "def QLearning(num_episodes,alpha,epsilon,gamma):\n",
        "  Q = np.zeros((nodes,num_actions))\n",
        "  stats = np.zeros((num_episodes,3))\n",
        "  for episode in range(num_episodes):\n",
        "    current = start\n",
        "    stats[episode,0] = episode+1\n",
        "    while current in [1,2]:\n",
        "      act_idx = target_policy(Q,current,epsilon)\n",
        "      a = actions[act_idx]\n",
        "      next_state,reward = step(current,a)\n",
        "      if current == start:\n",
        "        stats[episode,2] += 1.0\n",
        "        if next_state == start-1:\n",
        "          stats[episode,1] += 1.0\n",
        "      Q[current,a] += alpha*(reward + gamma*np.max(Q[next_state,:]) - Q[current,a])\n",
        "      current = next_state\n",
        "  return Q,stats"
      ],
      "execution_count": 3,
      "outputs": []
    },
    {
      "cell_type": "code",
      "metadata": {
        "id": "M1d-myZ7Au-z",
        "colab_type": "code",
        "colab": {
          "base_uri": "https://localhost:8080/",
          "height": 300
        },
        "outputId": "7b92418e-7626-4e21-9cfa-22e0ad72b56b"
      },
      "source": [
        "num_episodes = 300\n",
        "num_runs = 1000#00\n",
        "epsilon = 0.1\n",
        "alpha = 0.1\n",
        "gamma = 1\n",
        "\n",
        "total_stats = np.zeros((num_episodes,2))\n",
        "for run in tqdm(range(num_runs)):\n",
        "  Q,stats = QLearning(num_episodes,alpha,epsilon,gamma)\n",
        "  total_stats[:,1] += stats[:,1]/stats[:,2]*100\n",
        "total_stats[:,0] = stats[:,0]\n",
        "avg = total_stats[:,1]/float(num_runs)\n",
        "plt.plot(total_stats[:,0],avg)"
      ],
      "execution_count": 10,
      "outputs": [
        {
          "output_type": "stream",
          "text": [
            "100%|██████████| 1000/1000 [00:34<00:00, 29.21it/s]\n"
          ],
          "name": "stderr"
        },
        {
          "output_type": "execute_result",
          "data": {
            "text/plain": [
              "[<matplotlib.lines.Line2D at 0x7fce98ced7b8>]"
            ]
          },
          "metadata": {
            "tags": []
          },
          "execution_count": 10
        },
        {
          "output_type": "display_data",
          "data": {
            "image/png": "[encoded data removed]",
            "text/plain": [
              "<Figure size 432x288 with 1 Axes>"
            ]
          },
          "metadata": {
            "tags": [],
            "needs_background": "light"
          }
        }
      ]
    }
  ]
}