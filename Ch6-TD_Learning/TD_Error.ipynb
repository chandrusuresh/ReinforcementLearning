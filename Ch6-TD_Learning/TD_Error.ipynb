{
  "nbformat": 4,
  "nbformat_minor": 0,
  "metadata": {
    "colab": {
      "name": "TD_Error.ipynb",
      "provenance": [],
      "authorship_tag": "ABX9TyOKBvE1bkaoYcYVuCXabFIW",
      "include_colab_link": true
    },
    "kernelspec": {
      "name": "python3",
      "display_name": "Python 3"
    }
  },
  "cells": [
    {
      "cell_type": "markdown",
      "metadata": {
        "id": "view-in-github",
        "colab_type": "text"
      },
      "source": [
        "<a href=\"https://colab.research.google.com/github/chandrusuresh/ReinforcementLearning/blob/master/Ch6-TD_Learning/TD_Error.ipynb\" target=\"_parent\"><img src=\"https://colab.research.google.com/assets/colab-badge.svg\" alt=\"Open In Colab\"/></a>"
      ]
    },
    {
      "cell_type": "markdown",
      "metadata": {
        "id": "3H9SBBx1cuC6",
        "colab_type": "text"
      },
      "source": [
        "# Solution to Exercise 6.1\n"
      ]
    },
    {
      "cell_type": "markdown",
      "metadata": {
        "id": "vDHtW7BvDWDx",
        "colab_type": "text"
      },
      "source": [
        "## Monte-Carlo Error\n",
        "\n",
        "This is the error in the estimate at each episode when the values are updated at the end of the episode after the reward is known.\n",
        "\n",
        "The Monte-Carlo Error is given by $G_t - V(S_t)$ which simplifies to:\n",
        "$$ \\begin{align*} G_t - V(S_t) &= R_{t+1} + \\gamma G_{t+1} - V(S_t)\\\\\n",
        "&= R_{t+1} + \\gamma G_{t+1} - V(S_t) + \\gamma V(S_{t+1}) -  \\gamma V(S_{t+1}) \\end{align*}$$\n",
        "\n",
        "Given, $\\delta_t = R_{t+1} + \\gamma V(S_{t+1}) - V(S_t)$\n",
        "\n",
        "$$ \\begin{align*} G_t - V(S_t) &= \\delta_t + \\gamma (G_{t+1} - V(S_{t+1})) \\\\ \n",
        "&= \\delta_t + \\gamma \\delta_{t+1} + \\gamma^2 (G_{t+2} - V(S_{t+2})) \\\\\n",
        "&= \\delta_t + \\gamma \\delta_{t+1} + \\ldots + \\gamma^{T-t} (G_T - V(S_T)) \\end{align*}$$\n",
        "\n",
        "Since $G_T = V(S_T)$, we have the final simplified term for MC error as:\n",
        "\n",
        "$$ G_t - V(S_t) = \\sum_{k=t}^{T} \\gamma^{k-t} \\delta_k $$"
      ]
    },
    {
      "cell_type": "markdown",
      "metadata": {
        "id": "1wuryBFcFiRc",
        "colab_type": "text"
      },
      "source": [
        "## Bootstrap Error\n",
        "This is the error in the estimate at each episode when the values are updated at each step of the episode before the (final/terminal) reward is known.\n",
        "\n",
        "The update at time $t$ for a $TD(0)$ update is given as:\n",
        "$ V_{t}(S_t) = V_{t-1}(S_t) + \\alpha (R_{t+1} + \\gamma V_{t-1}(S_{t+1}) - V_{t-1}(S_t))$\n",
        "\n",
        "The Bootstrap Error is given by $G_t - V(S_t)$ which simplifies to:\n",
        "$$ \\begin{align*} G_{t} - V_{t}(S_t) &= R_{t+1} + \\gamma G_{t+1} - V_t(S_t)\\\\\n",
        "&= R_{t+1} + \\gamma G_{t+1} - V_{t-1}(S_t) - \\alpha (R_{t+1} + \\gamma V_{t-1}(S_{t+1}) - V_{t-1}(S_t)) \\\\\n",
        "&= R_{t+1} + \\gamma G_{t+1} - V_{t-1}(S_t) - \\alpha (R_{t+1} + \\gamma V_{t-1}(S_{t+1}) - V_{t-1}(S_t)) + \\gamma V_{t-1}(S_{t+1}) -  \\gamma V_{t-1}(S_{t+1}) \\\\\n",
        "&= (1-\\alpha)R_{t+1} - (1-\\alpha)V_{t-1}(S_t) + \\gamma (G_{t+1} - V_{t-1}(S_{t+1})) + (1-\\alpha) \\gamma V_{t-1}(S_{t+1})  + \\gamma V_{t}(S_{t+1}) -  \\gamma V_{t}(S_{t+1})\\\\\n",
        "&= (1-\\alpha)\\delta_t + \\gamma (G_{t+1} - V_{t}(S_{t+1})) + \\gamma (V_{t}(S_{t+1}) - V_{t-1}(S_{t+1}))\\\\ \n",
        "&= (1-\\alpha)\\delta_t + \\gamma ((1-\\alpha)\\delta_{t+1} + \\gamma (G_{t+2} - V_{t}(S_{t+2})) + \\gamma \\alpha \\delta_{t+2}) + \\gamma \\alpha \\delta_{t+1}\\\\\n",
        "&= (1-\\alpha) \\delta_t + \\gamma \\delta_{t+1} + \\ldots + \\gamma^{T-t} (G_T - V(S_T))\\\\\n",
        "&= (1-\\alpha) \\delta_t + \\sum_{k=t+1}^{T} \\gamma^{k-t} \\delta_k \\\\\n",
        "&= \\sum_{k=t}^{T} \\gamma^{k-t} \\delta_k - \\alpha \\delta_t \\end{align*}$$\n"
      ]
    },
    {
      "cell_type": "markdown",
      "metadata": {
        "id": "GQyWVzOd3WFe",
        "colab_type": "text"
      },
      "source": [
        "# Solution to Exercice 7.1"
      ]
    },
    {
      "cell_type": "markdown",
      "metadata": {
        "colab_type": "text",
        "id": "PFxvqsEE0sOz"
      },
      "source": [
        "## $n$-step TD Bootstrap Error\n",
        "\n",
        "The above 2 derivations show the expression for the bootstrapping error for MonteCarlo and $1$-step TD methods. The following derivation is a more general derivation for the $n$-step TD Bootstrap error with the $1$-step method ($n=0$) & the Monte-Carlo method ($n=\\infty$) in opposite extremes.\n",
        "\n",
        "![image.png](data:image/png;base64,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)\n"
      ]
    },
    {
      "cell_type": "markdown",
      "metadata": {
        "id": "dKE6AvMD2Bba",
        "colab_type": "text"
      },
      "source": [
        "This is the error in the estimate at each episode when the values are updated at each step of the episode before the (final/terminal) reward is known.\n",
        "\n",
        "The update at time $t$ for an $n$-step update is given by:\n",
        "$$ V_{t}(S_t) = V_{t-1}(S_t) + \\alpha \\left(\\sum_{k=t+1}^{t+n} R_{k} + \\gamma^n V_{t+n-1}(S_{t+n}) - V_{t-1}(S_t) \\right)$$\n",
        "\n"
      ]
    },
    {
      "cell_type": "markdown",
      "metadata": {
        "id": "bKQDG_RNr3e8",
        "colab_type": "text"
      },
      "source": [
        "The Bootstrap Error is given by $G_t - V(S_t)$ is given by:\n",
        "$$ \\begin{align} G_t - V_t(S_t) &= R_{t+1} + \\gamma G_{t+1} - V_{t-1}(S_t)-\\alpha \\left (\\sum_{k=t+1}^{t+n} \\gamma^{k-t-1} R_k + \\gamma^n V_{t+n-1}(S_{t+n}) - V_{t-1}(S_t) \\right) \\\\ \n",
        "&= (1-\\alpha) \\left(\\sum_{k=t+1}^{t+n} \\gamma^{k-t-1} R_k - V_{t-1}(S_t) \\right) + \\left(\\sum_{k=t+n+1}^{T} \\gamma^{k-t-1} R_k - \\alpha \\gamma^n V_{t+n-1}(S_{t+n}) \\right) + \\gamma^n V_{t+n-1}(S_{t+n}) - \\gamma^n V_{t+n-1}(S_{t+n}) \\\\ \n",
        "&= (1-\\alpha) \\delta_t + \\left(\\sum_{k=t+n+1}^{T} \\gamma^{k-t-1} R_k - \\gamma^n V_{t+n-1}(S_{t+n}) \\right) + \\gamma^n V_{t+n}(S_{t+n}) - \\gamma^n V_{t+n}(S_{t+n})\\\\ \n",
        "&= (1-\\alpha) \\delta_t + \\left(\\sum_{k=t+n+1}^{T} \\gamma^{k-t-1} R_k - \\gamma^n V_{t+n}(S_{t+n})\\right) + \\alpha \\gamma^n \\delta_{t+n} \\\\ \n",
        "&= (1-\\alpha) \\delta_t + \\gamma^n (G_{t+n} - V_{t+n}(S_{t+n})) + \\alpha \\gamma^n \\delta_{t+n} \\\\\n",
        "&= (1-\\alpha) \\delta_t + \\gamma^n  \\left( (1-\\alpha) \\delta_{t+n} + \\gamma^n (G_{t+2n} - V_{t+2n}(S_{t+2n}) + \\alpha \\gamma^n \\delta_{t+2n}) \\right) + \\alpha \\gamma^n \\delta_{t+n} \\\\ \n",
        "&= (1-\\alpha) \\delta_t + \\gamma^n \\delta_{t+n} + \\gamma^{2n} \\left( (1-\\alpha) \\delta_{t+2n} + \\gamma^n (G_{t+3n} - V_{t+3n}(S_{t+3n}) + \\alpha \\gamma^n \\delta_{t+3n}) \\right) + \\alpha \\gamma^{2n} \\delta_{t+2n} \\\\\n",
        "&= (1-\\alpha) \\delta_t + \\sum_{k=1}^{T-n} \\gamma^{kn} \\delta_{t+kn}  \\end{align}$$"
      ]
    },
    {
      "cell_type": "markdown",
      "metadata": {
        "colab_type": "text",
        "id": "-xUbRUK4-oil"
      },
      "source": [
        "# Solution to Exercice 7.4\n"
      ]
    },
    {
      "cell_type": "markdown",
      "metadata": {
        "id": "052dElxC-tjh",
        "colab_type": "text"
      },
      "source": [
        "Novel TD-Error with $n$-step SARSA"
      ]
    },
    {
      "cell_type": "markdown",
      "metadata": {
        "id": "ds8yZgyz-yDC",
        "colab_type": "text"
      },
      "source": [
        "The $n$-step returns with SARSA is given by,\n",
        "$$ \\begin{align*} G_{t:t+n} &= R_{t+1} + \\gamma R_{t+2} + \\ldots + \\gamma^{n-1} R_{t+n} + \\gamma^n Q_{t+n-1}(S_{t+n},A_{t+n}) \\\\\n",
        "&= R_{t+1} + \\gamma R_{t+2} + \\ldots + \\gamma^{n-1} R_{t+n} + Q_{t-1}(S_t,A_t) + \\sum_{1}^{n}\\gamma^{k-1} (\\gamma Q_{t+k-1}(S_{t+k},A_{t+k}) - Q_{t+k-2}(S_{t+k-1},A_{t+k-1}))  \\\\ \n",
        "&= Q_{t-1}(S_t,A_t) + \\sum_{k=t}^{t+n-1} \\gamma^{k-t} (R_k + \\gamma Q_{k}(S_{k+1},A_{k+1})-Q_{k-1}(S_k,A_k))\\end{align*} $$"
      ]
    }
  ]
}