{
  "nbformat": 4,
  "nbformat_minor": 0,
  "metadata": {
    "colab": {
      "name": "WindyGridworld.ipynb",
      "provenance": [],
      "authorship_tag": "ABX9TyNJxUGIjs+yZ6uP5/4qPVBi",
      "include_colab_link": true
    },
    "kernelspec": {
      "name": "python3",
      "display_name": "Python 3"
    }
  },
  "cells": [
    {
      "cell_type": "markdown",
      "metadata": {
        "id": "view-in-github",
        "colab_type": "text"
      },
      "source": [
        "<a href=\"https://colab.research.google.com/github/chandrusuresh/ReinforcementLearning/blob/master/Ch6-TD_Learning/WindyGridworld.ipynb\" target=\"_parent\"><img src=\"https://colab.research.google.com/assets/colab-badge.svg\" alt=\"Open In Colab\"/></a>"
      ]
    },
    {
      "cell_type": "code",
      "metadata": {
        "id": "D48hxJdMW9Es",
        "colab_type": "code",
        "colab": {}
      },
      "source": [
        "import numpy as np\n",
        "import matplotlib.pyplot as plt\n",
        "from matplotlib import colors\n",
        "from tqdm import tqdm\n",
        "%matplotlib inline"
      ],
      "execution_count": 1,
      "outputs": []
    },
    {
      "cell_type": "markdown",
      "metadata": {
        "id": "d1ww0MayZ1Oj",
        "colab_type": "text"
      },
      "source": [
        "## Windy Grid"
      ]
    },
    {
      "cell_type": "markdown",
      "metadata": {
        "id": "DGOVLoHYaAhf",
        "colab_type": "text"
      },
      "source": [
        "This is the solution to Exercise-6.5 in Page-130 of the book [\"Reinforcement Learning\" by Barto, Sutton](http://incompleteideas.net/sutton/book/the-book.html).\n",
        "\n",
        "![image.png](data:image/png;base64,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)\n",
        "\n",
        "The summary of the problem is as follows:\n",
        "1. Given the grid above, we need to find an optimal path from the start 'S' to the goal 'G' using the SARSA algorithm.\n",
        "2. The grid also has a wind blowing from the bottom to the top. The speed of the wind serves to push the path in its direction by the intensity shown at the bottom of the grid above.\n",
        "3. The first part of the problem focusses on finding a path using only horizontal & vertical moves as allowed actions.\n",
        "4. The second part of the problem allows diagonal moves as part of the actions set.\n",
        "5. The third part of the problem allows no moves in addition to the King's moves in Step-4 above."
      ]
    },
    {
      "cell_type": "code",
      "metadata": {
        "id": "BzHJwN0QAauU",
        "colab_type": "code",
        "colab": {}
      },
      "source": [
        "grid_rows = 7\n",
        "grid_cols = 10\n",
        "start = [3,0]\n",
        "goal  = [3,7]\n",
        "hv_actions = [[-1,0],[0,1],[1,0],[0,-1]]"
      ],
      "execution_count": 2,
      "outputs": []
    },
    {
      "cell_type": "markdown",
      "metadata": {
        "id": "BHl60ajqBCFW",
        "colab_type": "text"
      },
      "source": [
        "###Code"
      ]
    },
    {
      "cell_type": "code",
      "metadata": {
        "id": "qZWfgiQKBCPf",
        "colab_type": "code",
        "colab": {}
      },
      "source": [
        "def getWind(pos):\n",
        "  if pos[1] < 3 or pos[1] > 8:\n",
        "    return [0,0]\n",
        "  elif pos[1] in [6,7]:\n",
        "    return [-2,0]\n",
        "  return [-1,0]\n",
        "\n",
        "def step(pos,act):\n",
        "  wind = getWind(pos)\n",
        "  next_pos = [min(grid_rows-1,max(0,pos[0]+act[0]+wind[0])),min(grid_cols-1,max(0,pos[1]+act[1]+wind[1]))]\n",
        "  reward = -1\n",
        "  return next_pos,reward\n",
        "\n",
        "def target_policy(Q,pos,actions,epsilon):\n",
        "  nA = len(actions)\n",
        "  action_prob = epsilon/float(nA)*np.ones((nA,))\n",
        "  maxQ = np.max(Q[pos[0],pos[1],:])\n",
        "  idx = np.where(Q[pos[0],pos[1],:] == maxQ)[0]\n",
        "  action_prob[idx] += (1-epsilon)/float(len(idx))\n",
        "  return np.random.choice(range(nA),p=action_prob)\n",
        "\n",
        "def play_back(Q,actions):\n",
        "  pos = start\n",
        "  traj = []\n",
        "  while pos[0] != goal[0] or pos[1] != goal[1]:\n",
        "    act_idx = target_policy(Q,pos,actions,0.0)\n",
        "    next_pos,_ = step(pos,actions[act_idx])\n",
        "    traj += [pos+[act_idx]]\n",
        "    pos = next_pos\n",
        "  return traj\n",
        "\n",
        "def init_Q(actions):\n",
        "  Q = np.zeros((grid_rows,grid_cols,len(actions)))\n",
        "  for i in [0,grid_rows-1]:\n",
        "    for j in range(grid_cols):\n",
        "      for ia,a in enumerate(actions):\n",
        "        if i+a[0] not in range(grid_rows) or j+a[1] not in range(grid_cols):\n",
        "          Q[i,j,ia] = -np.inf\n",
        "  for j in [0,grid_cols-1]:\n",
        "    for i in range(grid_rows):\n",
        "      for ia,a in enumerate(actions):\n",
        "        if i+a[0] not in range(grid_rows) or j+a[1] not in range(grid_cols):\n",
        "          Q[i,j,ia] = -np.inf\n",
        "  return Q\n",
        "\n",
        "def SARSA(num_episodes,actions,alpha,gamma,epsilon):\n",
        "  nA = len(actions)\n",
        "  Q = np.zeros((grid_rows,grid_cols,nA))\n",
        "  stats = []\n",
        "  for episode in range(num_episodes):#tqdm(range(num_episodes)):\n",
        "    pos = start\n",
        "    act_idx = target_policy(Q,pos,actions,epsilon)\n",
        "    steps = 0\n",
        "    rewards = 0\n",
        "    while pos[0] != goal[0] or pos[1] != goal[1]:\n",
        "      next_pos,reward = step(pos,actions[act_idx])\n",
        "      rewards += reward\n",
        "      next_act_idx = target_policy(Q,next_pos,actions,epsilon)\n",
        "      Q[pos[0],pos[1],act_idx] += alpha*(reward + gamma*Q[next_pos[0],next_pos[1],next_act_idx] - Q[pos[0],pos[1],act_idx])\n",
        "      pos = next_pos\n",
        "      act_idx = next_act_idx\n",
        "      steps += 1\n",
        "    if len(stats) > 1:\n",
        "      stats += [[episode+1,steps,stats[-1][-1]+steps]]\n",
        "    else:\n",
        "      stats += [[episode+1,steps,steps]]\n",
        "  return Q,np.array(stats)\n",
        "\n",
        "def plot_grid(ax,traj):\n",
        "  # create discrete colormap\n",
        "  cmap = colors.ListedColormap(['white','red','blue','green'])\n",
        "  bounds = [0,0.1,3]\n",
        "  norm = colors.BoundaryNorm(bounds, cmap.N)\n",
        "  map = np.zeros((grid_rows,grid_cols))\n",
        "  map[start[0],start[1]] = 1\n",
        "  map[goal[0],goal[1]] = 3\n",
        "  for i,t in enumerate(traj):\n",
        "    if i == 0:\n",
        "      continue\n",
        "    map[t[0],t[1]] = 2\n",
        "  ax.imshow(map, cmap=cmap)#, norm=norm)\n",
        "  ### draw gridlines\n",
        "  # ax = plt.gca();\n",
        "  ax.set_xticks(np.arange(-0.5, grid_cols+0.5, 1));\n",
        "  ax.set_yticks(np.arange(-0.5, grid_rows+0.5, 1));\n",
        "  ax.set_xticklabels(np.arange(-0.5, grid_cols+0.5, 1));\n",
        "  ax.set_yticklabels(np.arange(-0.5, grid_rows+0.5, 1));\n",
        "  ax.grid(color='k', linestyle='-', linewidth=1)\n",
        "\n",
        "  ax.set_xticklabels([])\n",
        "  ax.set_yticklabels([])\n",
        "  ax.xaxis.set_ticks_position('none')\n",
        "  ax.yaxis.set_ticks_position('none')"
      ],
      "execution_count": 3,
      "outputs": []
    },
    {
      "cell_type": "markdown",
      "metadata": {
        "id": "9quNKkeEFeYC",
        "colab_type": "text"
      },
      "source": [
        "## TD On-Policy Control with SARSA"
      ]
    },
    {
      "cell_type": "code",
      "metadata": {
        "id": "nL9ZA8ZWFehX",
        "colab_type": "code",
        "colab": {
          "base_uri": "https://localhost:8080/",
          "height": 34
        },
        "outputId": "9b4d2e2d-160d-410b-91d2-b90f220c76d5"
      },
      "source": [
        "num_runs = 50\n",
        "num_episodes = 1000\n",
        "alpha = 0.5\n",
        "gamma = 1\n",
        "epsilon = 0.1\n",
        "# np.random.seed(0)\n",
        "Q_avg = np.zeros((grid_rows,grid_cols,len(hv_actions)))\n",
        "stats_avg = np.zeros((num_episodes,3))\n",
        "for i in tqdm(range(num_runs)):\n",
        "  Q,stats = SARSA(num_episodes,hv_actions,alpha,gamma,epsilon)\n",
        "  Q_avg += Q/float(num_runs)\n",
        "  stats_avg[:,1:] += stats[:,1:]/float(num_runs)\n",
        "stats_avg[:,0] = stats[:,0]"
      ],
      "execution_count": 4,
      "outputs": [
        {
          "output_type": "stream",
          "text": [
            "100%|██████████| 50/50 [01:34<00:00,  1.89s/it]\n"
          ],
          "name": "stderr"
        }
      ]
    },
    {
      "cell_type": "code",
      "metadata": {
        "id": "0maHWvPT4zsI",
        "colab_type": "code",
        "colab": {
          "base_uri": "https://localhost:8080/",
          "height": 158
        },
        "outputId": "9857dc23-9033-43a7-f272-6563d34fc2ed"
      },
      "source": [
        "act_code = ['U','R','D','L']\n",
        "print('Optimal Actions')\n",
        "for i in range(grid_rows):\n",
        "  print_str = ''\n",
        "  for j in range(grid_cols):\n",
        "    pos = [i,j]\n",
        "    act_idx = target_policy(Q_avg,pos,hv_actions,0.0)\n",
        "    print_str += act_code[act_idx] + ' , '\n",
        "  print(print_str)"
      ],
      "execution_count": 5,
      "outputs": [
        {
          "output_type": "stream",
          "text": [
            "Optimal Actions\n",
            "R , R , R , R , R , R , R , R , R , D , \n",
            "R , R , R , R , R , R , R , R , R , D , \n",
            "R , R , R , R , R , R , R , R , R , D , \n",
            "R , R , R , R , R , R , R , L , R , D , \n",
            "R , R , R , R , R , R , D , D , L , L , \n",
            "R , R , R , R , R , U , U , D , L , L , \n",
            "R , R , R , R , L , D , D , R , U , L , \n"
          ],
          "name": "stdout"
        }
      ]
    },
    {
      "cell_type": "code",
      "metadata": {
        "id": "2LXCjf-jMRDv",
        "colab_type": "code",
        "colab": {
          "base_uri": "https://localhost:8080/",
          "height": 318
        },
        "outputId": "190c3a7d-faed-4fc4-ab00-7e8113bd265d"
      },
      "source": [
        "traj = play_back(Q_avg,hv_actions)\n",
        "print('Trajectory Length:', len(traj))\n",
        "print(traj)\n",
        "fig,ax = plt.subplots(1,3,figsize=(12,4))\n",
        "ax[0].plot(stats_avg[:,2],stats_avg[:,0])\n",
        "ax[0].set_xlabel('# Steps')\n",
        "ax[0].set_ylabel('# Episodes')\n",
        "ax[1].plot(stats_avg[:,0],stats_avg[:,1])\n",
        "ax[1].set_ylabel('Steps/episode')\n",
        "ax[1].set_xlabel('# Episodes')\n",
        "ax[1].set_ylim([5,50])\n",
        "plot_grid(ax[2],traj)\n",
        "ax[2].set_title('Grid Map');"
      ],
      "execution_count": 19,
      "outputs": [
        {
          "output_type": "stream",
          "text": [
            "Trajectory Length: 15\n",
            "[[3, 0, 1], [3, 1, 1], [3, 2, 1], [3, 3, 1], [1, 4, 1], [1, 5, 1], [0, 6, 1], [0, 7, 1], [0, 8, 1], [0, 9, 2], [0, 9, 2], [2, 9, 2], [3, 9, 2], [4, 9, 3], [4, 8, 3]]\n"
          ],
          "name": "stdout"
        },
        {
          "output_type": "display_data",
          "data": {
            "image/png": "[encoded data removed]",
            "text/plain": [
              "<Figure size 864x288 with 3 Axes>"
            ]
          },
          "metadata": {
            "tags": [],
            "needs_background": "light"
          }
        }
      ]
    },
    {
      "cell_type": "markdown",
      "metadata": {
        "id": "fNrmSReJcwoa",
        "colab_type": "text"
      },
      "source": [
        "## Kings Moves"
      ]
    },
    {
      "cell_type": "code",
      "metadata": {
        "id": "Twf8hV3ZcwxO",
        "colab_type": "code",
        "colab": {
          "base_uri": "https://localhost:8080/",
          "height": 34
        },
        "outputId": "dcb2c13e-acaf-44cc-d5d3-d8b758cabac2"
      },
      "source": [
        "kings_moves = hv_actions + [[-1,-1],[-1,1],[1,-1],[1,1]]\n",
        "# np.random.seed(0)\n",
        "Q_kings = np.zeros((grid_rows,grid_cols,len(kings_moves)))\n",
        "stats_kings = np.zeros((num_episodes,3))\n",
        "for i in tqdm(range(num_runs)):\n",
        "  Q,stats = SARSA(num_episodes,kings_moves,alpha,gamma,epsilon)\n",
        "  Q_kings += Q/float(num_runs)\n",
        "  stats_kings[:,1:] += stats[:,1:]/float(num_runs)\n",
        "stats_kings[:,0] = stats[:,0]"
      ],
      "execution_count": 7,
      "outputs": [
        {
          "output_type": "stream",
          "text": [
            "100%|██████████| 50/50 [01:05<00:00,  1.31s/it]\n"
          ],
          "name": "stderr"
        }
      ]
    },
    {
      "cell_type": "code",
      "metadata": {
        "id": "bydGDmuInNnP",
        "colab_type": "code",
        "colab": {
          "base_uri": "https://localhost:8080/",
          "height": 158
        },
        "outputId": "b687031a-e2b1-4acb-b998-1eac98366c00"
      },
      "source": [
        "act_code = ['U','R','D','L','UL','UR','DL','DR']\n",
        "print('Optimal Actions')\n",
        "for i in range(grid_rows):\n",
        "  print_str = ''\n",
        "  for j in range(grid_cols):\n",
        "    pos = [i,j]\n",
        "    act_idx = target_policy(Q_kings,pos,kings_moves,0.0)\n",
        "    print_str += act_code[act_idx]\n",
        "    if len(act_code[act_idx]) == 1:\n",
        "       print_str += '  , '\n",
        "    else:\n",
        "      print_str += ' , '\n",
        "  print(print_str)"
      ],
      "execution_count": 8,
      "outputs": [
        {
          "output_type": "stream",
          "text": [
            "Optimal Actions\n",
            "DR , UL , D  , UL , UR , DR , DR , DR , UR , D  , \n",
            "DR , DR , D  , DL , DR , R  , UR , DR , DR , D  , \n",
            "DR , DR , D  , DL , DR , DR , DR , DR , DR , DL , \n",
            "DR , DR , DR , DL , DR , DR , DR , R  , DL , DL , \n",
            "DR , DR , DR , DR , DR , DR , DR , D  , L  , DL , \n",
            "DR , DR , DR , DR , DR , DR , R  , DR , UL , DL , \n",
            "R  , DR , DR , DR , DR , DR , UR , U  , DL , L  , \n"
          ],
          "name": "stdout"
        }
      ]
    },
    {
      "cell_type": "code",
      "metadata": {
        "id": "Bb4kk_7RcyuX",
        "colab_type": "code",
        "colab": {
          "base_uri": "https://localhost:8080/",
          "height": 330
        },
        "outputId": "4fb44725-0fa3-47d8-f70b-e2d78681578e"
      },
      "source": [
        "traj_kings = play_back(Q_kings,kings_moves)\n",
        "print('Trajectory:',len(traj_kings))\n",
        "print(traj_kings)\n",
        "fig,ax = plt.subplots(1,3,figsize=(12,4))\n",
        "ax[0].plot(stats_kings[:,2],stats_kings[:,0])\n",
        "ax[0].set_xlabel('# Steps')\n",
        "ax[0].set_ylabel('# Episodes')\n",
        "ax[0].set_title('Path with kings moves')\n",
        "ax[1].plot(stats_kings[:,0],stats_kings[:,1])\n",
        "ax[1].set_ylabel('Steps/episode')\n",
        "ax[1].set_xlabel('# Episodes')\n",
        "ax[1].set_ylim([5,50])\n",
        "plot_grid(ax[2],traj_kings)\n",
        "ax[1].set_title('Grid Map - Kings Moves');"
      ],
      "execution_count": 9,
      "outputs": [
        {
          "output_type": "stream",
          "text": [
            "Trajectory: 7\n",
            "[[3, 0, 7], [4, 1, 7], [5, 2, 7], [6, 3, 7], [6, 4, 7], [6, 5, 7], [6, 6, 5]]\n"
          ],
          "name": "stdout"
        },
        {
          "output_type": "display_data",
          "data": {
            "image/png": "[encoded data removed]",
            "text/plain": [
              "<Figure size 864x288 with 3 Axes>"
            ]
          },
          "metadata": {
            "tags": [],
            "needs_background": "light"
          }
        }
      ]
    },
    {
      "cell_type": "markdown",
      "metadata": {
        "id": "qqzQo2C7dVJ3",
        "colab_type": "text"
      },
      "source": [
        "## Kings Moves with Stationary Option"
      ]
    },
    {
      "cell_type": "code",
      "metadata": {
        "id": "2O8TyyaVdVV4",
        "colab_type": "code",
        "colab": {
          "base_uri": "https://localhost:8080/",
          "height": 34
        },
        "outputId": "709c8e1e-5e88-4a7a-b0a2-0ff205b7a76f"
      },
      "source": [
        "kings_wStationary = kings_moves + [[0,0]]\n",
        "Q_stationary = np.zeros((grid_rows,grid_cols,len(kings_wStationary)))\n",
        "stats_stationary = np.zeros((num_episodes,3))\n",
        "for i in tqdm(range(num_runs)):\n",
        "  Q,stats = SARSA(num_episodes,kings_wStationary,alpha,gamma,epsilon)\n",
        "  Q_stationary += Q/float(num_runs)\n",
        "  stats_stationary[:,1:] += stats[:,1:]/float(num_runs)\n",
        "stats_stationary[:,0] = stats[:,0]"
      ],
      "execution_count": 10,
      "outputs": [
        {
          "output_type": "stream",
          "text": [
            "100%|██████████| 50/50 [01:08<00:00,  1.38s/it]\n"
          ],
          "name": "stderr"
        }
      ]
    },
    {
      "cell_type": "code",
      "metadata": {
        "id": "JjxDDjbOn4vv",
        "colab_type": "code",
        "colab": {
          "base_uri": "https://localhost:8080/",
          "height": 158
        },
        "outputId": "aa90b5c3-9983-44ea-ffb3-29d9e0eaed4b"
      },
      "source": [
        "act_code = ['U','R','D','L','UL','UR','DL','DR','S']\n",
        "print('Optimal Actions')\n",
        "for i in range(grid_rows):\n",
        "  print_str = ''\n",
        "  for j in range(grid_cols):\n",
        "    pos = [i,j]\n",
        "    act_idx = target_policy(Q_stationary,pos,kings_wStationary,0.0)\n",
        "    print_str += act_code[act_idx]\n",
        "    if len(act_code[act_idx]) == 1:\n",
        "       print_str += '  , '\n",
        "    else:\n",
        "      print_str += ' , '\n",
        "  print(print_str)"
      ],
      "execution_count": 11,
      "outputs": [
        {
          "output_type": "stream",
          "text": [
            "Optimal Actions\n",
            "DR , DR , D  , L  , UR , R  , DR , UR , DR , D  , \n",
            "DR , DR , D  , DR , DR , DR , R  , DR , DR , DR , \n",
            "DR , DR , D  , DL , DR , DR , DR , DR , DR , DL , \n",
            "DR , DR , DR , DL , DR , DR , DR , D  , DL , DL , \n",
            "DR , DR , DR , DR , DR , DR , DR , D  , L  , DL , \n",
            "DR , DR , DR , DR , DR , DR , R  , S  , UL , DL , \n",
            "R  , R  , R  , DR , DR , DR , UR , UR , DL , L  , \n"
          ],
          "name": "stdout"
        }
      ]
    },
    {
      "cell_type": "code",
      "metadata": {
        "id": "as7JJJnkdk4k",
        "colab_type": "code",
        "colab": {
          "base_uri": "https://localhost:8080/",
          "height": 330
        },
        "outputId": "4f4d4836-ea9a-429c-d006-8813c7d94f83"
      },
      "source": [
        "traj_stationary = play_back(Q_stationary,kings_wStationary)\n",
        "print('Trajectory Length:', len(traj_stationary))\n",
        "print(traj_stationary)\n",
        "fig,ax = plt.subplots(1,3,figsize=(12,4))\n",
        "ax[0].plot(stats_stationary[:,2],stats_stationary[:,0])\n",
        "ax[0].set_xlabel('# Steps')\n",
        "ax[0].set_ylabel('# Episodes')\n",
        "ax[0].set_title('Path with kings moves & stationary')\n",
        "ax[1].plot(stats_stationary[:,0],stats_stationary[:,1])\n",
        "ax[1].set_ylabel('Steps/episode')\n",
        "ax[1].set_xlabel('# Episodes')\n",
        "ax[1].set_ylim([5,50])\n",
        "ax[0].set_title('Path with kings moves & stationary')\n",
        "plot_grid(ax[2],traj_stationary)\n",
        "ax[1].set_title('Grid Map - Kings Moves & stationary');"
      ],
      "execution_count": 12,
      "outputs": [
        {
          "output_type": "stream",
          "text": [
            "Trajectory Length: 7\n",
            "[[3, 0, 7], [4, 1, 7], [5, 2, 7], [6, 3, 7], [6, 4, 7], [6, 5, 7], [6, 6, 5]]\n"
          ],
          "name": "stdout"
        },
        {
          "output_type": "display_data",
          "data": {
            "image/png": "[encoded data removed]",
            "text/plain": [
              "<Figure size 864x288 with 3 Axes>"
            ]
          },
          "metadata": {
            "tags": [],
            "needs_background": "light"
          }
        }
      ]
    },
    {
      "cell_type": "markdown",
      "metadata": {
        "id": "Q7fGor1RqKrZ",
        "colab_type": "text"
      },
      "source": [
        "## Stochastic Wind"
      ]
    },
    {
      "cell_type": "code",
      "metadata": {
        "id": "oHz40rh7qMSa",
        "colab_type": "code",
        "colab": {}
      },
      "source": [
        "def getWind(pos):\n",
        "  ## Stochastic\n",
        "  w = np.random.choice([-1,0,1])\n",
        "  if pos[1] < 3 or pos[1] > 8:\n",
        "    return [0+w,0]\n",
        "  elif pos[1] in [6,7]:\n",
        "    return [-2+w,0]\n",
        "  return [-1+w,0]"
      ],
      "execution_count": 13,
      "outputs": []
    },
    {
      "cell_type": "code",
      "metadata": {
        "colab_type": "code",
        "id": "NpUVZc8Uq2Bl",
        "colab": {
          "base_uri": "https://localhost:8080/",
          "height": 34
        },
        "outputId": "6e384fad-aaa2-4e99-b7b1-a473bb62915d"
      },
      "source": [
        "Q_stochastic = np.zeros((grid_rows,grid_cols,len(hv_actions)))\n",
        "stats_stochastic = np.zeros((num_episodes,3))\n",
        "for i in tqdm(range(num_runs)):\n",
        "  Q,stats = SARSA(num_episodes,hv_actions,alpha,gamma,epsilon)\n",
        "  Q_stochastic += Q/float(num_runs)\n",
        "  stats_stochastic[:,1:] += stats[:,1:]/float(num_runs)\n",
        "stats_stochastic[:,0] = stats[:,0]"
      ],
      "execution_count": 14,
      "outputs": [
        {
          "output_type": "stream",
          "text": [
            "100%|██████████| 50/50 [04:40<00:00,  5.60s/it]\n"
          ],
          "name": "stderr"
        }
      ]
    },
    {
      "cell_type": "code",
      "metadata": {
        "colab_type": "code",
        "id": "0BKCLKI0q2B3",
        "colab": {
          "base_uri": "https://localhost:8080/",
          "height": 158
        },
        "outputId": "4fb8030d-7a42-419a-9949-69820cacc9f8"
      },
      "source": [
        "act_code = ['U','R','D','L']\n",
        "print('Optimal Actions')\n",
        "for i in range(grid_rows):\n",
        "  print_str = ''\n",
        "  for j in range(grid_cols):\n",
        "    pos = [i,j]\n",
        "    act_idx = target_policy(Q_stochastic,pos,hv_actions,0.0)\n",
        "    print_str += act_code[act_idx] + ' , '\n",
        "  print(print_str)"
      ],
      "execution_count": 15,
      "outputs": [
        {
          "output_type": "stream",
          "text": [
            "Optimal Actions\n",
            "R , R , R , R , R , R , R , R , R , D , \n",
            "R , R , R , R , R , R , R , R , R , D , \n",
            "R , R , R , R , R , R , R , R , R , D , \n",
            "R , R , R , R , R , R , R , D , R , D , \n",
            "R , R , R , R , R , R , R , D , L , D , \n",
            "R , R , R , R , R , R , R , D , L , L , \n",
            "R , R , R , R , R , R , R , D , L , L , \n"
          ],
          "name": "stdout"
        }
      ]
    },
    {
      "cell_type": "code",
      "metadata": {
        "colab_type": "code",
        "id": "oaBbTKuTq2B-",
        "colab": {
          "base_uri": "https://localhost:8080/",
          "height": 314
        },
        "outputId": "cc83d225-bb7f-46a5-e92b-80e3b90bea03"
      },
      "source": [
        "traj = play_back(Q_stochastic,hv_actions)\n",
        "print('Trajectory Length:', len(traj))\n",
        "print(traj)\n",
        "fig,ax = plt.subplots(1,3,figsize=(12,4))\n",
        "ax[0].plot(stats_stochastic[:,2],stats_stochastic[:,0])\n",
        "ax[0].set_xlabel('# Steps')\n",
        "ax[0].set_ylabel('# Episodes')\n",
        "ax[1].plot(stats_stochastic[:,0],stats_stochastic[:,1])\n",
        "ax[1].set_ylabel('Steps/episode')\n",
        "ax[1].set_xlabel('# Episodes')\n",
        "# ax[1].set_ylim([5,50])\n",
        "plot_grid(ax[2],traj)\n",
        "ax[2].set_title('Grid Map');"
      ],
      "execution_count": 18,
      "outputs": [
        {
          "output_type": "stream",
          "text": [
            "Trajectory Length: 19\n",
            "[[3, 0, 1], [4, 1, 1], [4, 2, 1], [3, 3, 1], [3, 4, 1], [1, 5, 1], [0, 6, 1], [0, 7, 1], [0, 8, 1], [0, 9, 2], [2, 9, 2], [3, 9, 2], [4, 9, 2], [4, 9, 2], [4, 9, 2], [6, 9, 3], [6, 8, 3], [5, 7, 2], [4, 7, 2]]\n"
          ],
          "name": "stdout"
        },
        {
          "output_type": "display_data",
          "data": {
            "image/png": "[encoded data removed]",
            "text/plain": [
              "<Figure size 864x288 with 3 Axes>"
            ]
          },
          "metadata": {
            "tags": [],
            "needs_background": "light"
          }
        }
      ]
    }
  ]
}