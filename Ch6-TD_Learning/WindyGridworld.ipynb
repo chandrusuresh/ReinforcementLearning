{
  "nbformat": 4,
  "nbformat_minor": 0,
  "metadata": {
    "colab": {
      "name": "WindyGridworld.ipynb",
      "provenance": [],
      "authorship_tag": "ABX9TyOWVwbCTEIpc3IkwYGSQKok",
      "include_colab_link": true
    },
    "kernelspec": {
      "name": "python3",
      "display_name": "Python 3"
    }
  },
  "cells": [
    {
      "cell_type": "markdown",
      "metadata": {
        "id": "view-in-github",
        "colab_type": "text"
      },
      "source": [
        "<a href=\"https://colab.research.google.com/github/chandrusuresh/ReinforcementLearning/blob/master/Ch6-TD_Learning/WindyGridworld.ipynb\" target=\"_parent\"><img src=\"https://colab.research.google.com/assets/colab-badge.svg\" alt=\"Open In Colab\"/></a>"
      ]
    },
    {
      "cell_type": "code",
      "metadata": {
        "id": "D48hxJdMW9Es",
        "colab_type": "code",
        "colab": {}
      },
      "source": [
        "import numpy as np\n",
        "import matplotlib.pyplot as plt\n",
        "from matplotlib import colors\n",
        "from tqdm import tqdm\n",
        "%matplotlib inline"
      ],
      "execution_count": 1,
      "outputs": []
    },
    {
      "cell_type": "markdown",
      "metadata": {
        "id": "d1ww0MayZ1Oj",
        "colab_type": "text"
      },
      "source": [
        "## Windy Grid"
      ]
    },
    {
      "cell_type": "markdown",
      "metadata": {
        "id": "DGOVLoHYaAhf",
        "colab_type": "text"
      },
      "source": [
        "This is the solution to Exercise-6.5 in Page-130 of the book [\"Reinforcement Learning\" by Barto, Sutton](http://incompleteideas.net/sutton/book/the-book.html).\n",
        "\n",
        "![image.png](data:image/png;base64,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)\n",
        "\n",
        "The summary of the problem is as follows:\n",
        "1. Given the grid above, we need to find an optimal path from the start 'S' to the goal 'G' using the SARSA algorithm.\n",
        "2. The grid also has a wind blowing from the bottom to the top. The speed of the wind serves to push the path in its direction by the intensity shown at the bottom of the grid above.\n",
        "3. The first part of the problem focusses on finding a path using only horizontal & vertical moves as allowed actions.\n",
        "4. The second part of the problem allows diagonal moves as part of the actions set.\n",
        "5. The third part of the problem allows no moves in addition to the King's moves in Step-4 above."
      ]
    },
    {
      "cell_type": "code",
      "metadata": {
        "id": "BzHJwN0QAauU",
        "colab_type": "code",
        "colab": {}
      },
      "source": [
        "grid_rows = 7\n",
        "grid_cols = 10\n",
        "start = [3,0]\n",
        "goal  = [3,7]\n",
        "actions = [[-1,0],[0,1],[1,0],[0,-1]]"
      ],
      "execution_count": 2,
      "outputs": []
    },
    {
      "cell_type": "markdown",
      "metadata": {
        "id": "BHl60ajqBCFW",
        "colab_type": "text"
      },
      "source": [
        ""
      ]
    },
    {
      "cell_type": "code",
      "metadata": {
        "id": "qZWfgiQKBCPf",
        "colab_type": "code",
        "colab": {}
      },
      "source": [
        "def getWind(pos):\n",
        "  if pos[1] < 3 or pos[1] >= 9:\n",
        "    return [0,0]\n",
        "  elif pos[1] in [6,7]:\n",
        "    return [-2,0]\n",
        "  return [-1,0]\n",
        "\n",
        "def getPossibleActions(actions,pos):\n",
        "  new_pos = [[pos[0]+a[0],pos[1]+a[1]] for a in actions]\n",
        "  act_idx = [i for i in range(len(actions)) if new_pos[i][0] in range(grid_rows) and new_pos[i][1] in range(grid_cols)]\n",
        "  return np.array(act_idx)\n",
        "\n",
        "def target_policy(Q,epsilon,actions,pos):\n",
        "  idx = getPossibleActions(actions,pos)\n",
        "  random_action_flag = np.random.choice([0,1],p=[1-epsilon,epsilon])\n",
        "  if random_action_flag:\n",
        "    return np.random.choice(idx)\n",
        "  maxQ = np.max(Q[pos[0],pos[1],idx])\n",
        "  best_actions = idx[np.where(Q[pos[0],pos[1],idx] == maxQ)[0]]\n",
        "  choice = np.random.choice(best_actions)\n",
        "  return choice\n",
        "\n",
        "def play_back(Q,actions):\n",
        "  pos = start\n",
        "  traj = []\n",
        "  while pos[0] != goal[0] or pos[1] != goal[1]:\n",
        "    act_idx = target_policy(Q,0.0,actions,pos)\n",
        "    a = actions[act_idx]\n",
        "    traj += [pos+[act_idx]]\n",
        "    wind = getWind(pos)\n",
        "    pos = [pos[0]+a[0]+wind[0],pos[1]+a[1]+wind[1]]\n",
        "    pos = [max(0,min(grid_rows-1,pos[0])),max(0,min(grid_cols-1,pos[1]))]\n",
        "  return traj\n",
        "\n",
        "def plot_grid(ax,traj):\n",
        "  # create discrete colormap\n",
        "  cmap = colors.ListedColormap(['white','red','blue','green'])\n",
        "  bounds = [0,0.1,3]\n",
        "  norm = colors.BoundaryNorm(bounds, cmap.N)\n",
        "  map = np.zeros((grid_rows,grid_cols))\n",
        "  map[start[0],start[1]] = 1\n",
        "  map[goal[0],goal[1]] = 3\n",
        "  for i,t in enumerate(traj):\n",
        "    if i == 0:\n",
        "      continue\n",
        "    map[t[0],t[1]] = 2\n",
        "  ax.imshow(map, cmap=cmap)#, norm=norm)\n",
        "  ### draw gridlines\n",
        "  # ax = plt.gca();\n",
        "  ax.set_xticks(np.arange(-0.5, grid_cols+0.5, 1));\n",
        "  ax.set_yticks(np.arange(-0.5, grid_rows+0.5, 1));\n",
        "  ax.set_xticklabels(np.arange(-0.5, grid_cols+0.5, 1));\n",
        "  ax.set_yticklabels(np.arange(-0.5, grid_rows+0.5, 1));\n",
        "  ax.grid(color='k', linestyle='-', linewidth=1)\n",
        "\n",
        "  ax.set_xticklabels([])\n",
        "  ax.set_yticklabels([])\n",
        "  ax.xaxis.set_ticks_position('none')\n",
        "  ax.yaxis.set_ticks_position('none')\n",
        "\n",
        "def SARSA(num_episodes,actions,epsilon,alpha,gamma):\n",
        "  Q = np.zeros((grid_rows,grid_cols,len(actions)))\n",
        "  stats = dict()\n",
        "  steps = 0\n",
        "  for episode in tqdm(range(num_episodes)):\n",
        "    stats[episode] = steps\n",
        "    pos = start\n",
        "    init = True\n",
        "    traj = []\n",
        "    while pos[0] != goal[0] or pos[1] != goal[1]:\n",
        "      steps += 1\n",
        "      act_idx = target_policy(Q,epsilon,actions,pos)\n",
        "      a = actions[act_idx]\n",
        "      traj += [pos+[act_idx]]\n",
        "      wind = getWind(pos)\n",
        "      if init:\n",
        "        init = False\n",
        "        continue\n",
        "      old_state = traj[-2]\n",
        "      prev_state = traj[-1]\n",
        "      Q[old_state[0],old_state[1],old_state[2]] += alpha*(-1 + gamma*Q[prev_state[0],prev_state[1],prev_state[2]] - Q[old_state[0],old_state[1],old_state[2]])\n",
        "      pos = [pos[0]+a[0]+wind[0],pos[1]+a[1]+wind[1]]\n",
        "      pos = [max(0,min(grid_rows-1,pos[0])),max(0,min(grid_cols-1,pos[1]))]\n",
        "  return Q,stats\n",
        "\n"
      ],
      "execution_count": 6,
      "outputs": []
    },
    {
      "cell_type": "markdown",
      "metadata": {
        "id": "9quNKkeEFeYC",
        "colab_type": "text"
      },
      "source": [
        ""
      ]
    },
    {
      "cell_type": "code",
      "metadata": {
        "id": "nL9ZA8ZWFehX",
        "colab_type": "code",
        "colab": {
          "base_uri": "https://localhost:8080/",
          "height": 34
        },
        "outputId": "158a2572-7ebe-4fde-aa30-039779f58bf6"
      },
      "source": [
        "num_episodes = 180\n",
        "alpha = 0.5\n",
        "gamma = 1\n",
        "epsilon = 0.1\n",
        "\n",
        "Q,stats = SARSA(num_episodes,actions,epsilon,alpha,gamma)\n",
        "traj = play_back(Q,actions)"
      ],
      "execution_count": 11,
      "outputs": [
        {
          "output_type": "stream",
          "text": [
            "100%|██████████| 180/180 [00:00<00:00, 341.09it/s]\n"
          ],
          "name": "stderr"
        }
      ]
    },
    {
      "cell_type": "code",
      "metadata": {
        "id": "2LXCjf-jMRDv",
        "colab_type": "code",
        "colab": {
          "base_uri": "https://localhost:8080/",
          "height": 293
        },
        "outputId": "93ef9403-96c7-4b18-c123-2848715c618d"
      },
      "source": [
        "fig,ax = plt.subplots(1,2,figsize=(12,4))\n",
        "ax[0].plot(list(stats.values()),list(stats.keys()))\n",
        "ax[0].set_xlabel('# Steps')\n",
        "ax[0].set_ylabel('# Episodes')\n",
        "plot_grid(ax[1],traj)\n",
        "ax[1].set_title('Grid Map');"
      ],
      "execution_count": 12,
      "outputs": [
        {
          "output_type": "display_data",
          "data": {
            "image/png": "[encoded data removed]",
            "text/plain": [
              "<Figure size 864x288 with 2 Axes>"
            ]
          },
          "metadata": {
            "tags": [],
            "needs_background": "light"
          }
        }
      ]
    }
  ]
}