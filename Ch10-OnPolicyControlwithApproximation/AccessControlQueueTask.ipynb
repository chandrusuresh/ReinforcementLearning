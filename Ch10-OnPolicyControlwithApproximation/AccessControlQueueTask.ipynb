{
  "nbformat": 4,
  "nbformat_minor": 0,
  "metadata": {
    "colab": {
      "name": "AccessControlQueueTask.ipynb",
      "provenance": [],
      "collapsed_sections": [],
      "authorship_tag": "ABX9TyOPTrooleHTfehff/B6P4K1",
      "include_colab_link": true
    },
    "kernelspec": {
      "name": "python3",
      "display_name": "Python 3"
    },
    "widgets": {
      "application/vnd.jupyter.widget-state+json": {
        "cd280f164505453389b19f9fd11e62bc": {
          "model_module": "@jupyter-widgets/controls",
          "model_name": "HBoxModel",
          "state": {
            "_view_name": "HBoxView",
            "_dom_classes": [],
            "_model_name": "HBoxModel",
            "_view_module": "@jupyter-widgets/controls",
            "_model_module_version": "1.5.0",
            "_view_count": null,
            "_view_module_version": "1.5.0",
            "box_style": "",
            "layout": "IPY_MODEL_2c65f3b9423b480499b702f76ebd9094",
            "_model_module": "@jupyter-widgets/controls",
            "children": [
              "IPY_MODEL_35950f51a1f84cd4a10a776a9d312b08",
              "IPY_MODEL_5614342d33794162b96d22e16b091a4a"
            ]
          }
        },
        "2c65f3b9423b480499b702f76ebd9094": {
          "model_module": "@jupyter-widgets/base",
          "model_name": "LayoutModel",
          "state": {
            "_view_name": "LayoutView",
            "grid_template_rows": null,
            "right": null,
            "justify_content": null,
            "_view_module": "@jupyter-widgets/base",
            "overflow": null,
            "_model_module_version": "1.2.0",
            "_view_count": null,
            "flex_flow": null,
            "width": null,
            "min_width": null,
            "border": null,
            "align_items": null,
            "bottom": null,
            "_model_module": "@jupyter-widgets/base",
            "top": null,
            "grid_column": null,
            "overflow_y": null,
            "overflow_x": null,
            "grid_auto_flow": null,
            "grid_area": null,
            "grid_template_columns": null,
            "flex": null,
            "_model_name": "LayoutModel",
            "justify_items": null,
            "grid_row": null,
            "max_height": null,
            "align_content": null,
            "visibility": null,
            "align_self": null,
            "height": null,
            "min_height": null,
            "padding": null,
            "grid_auto_rows": null,
            "grid_gap": null,
            "max_width": null,
            "order": null,
            "_view_module_version": "1.2.0",
            "grid_template_areas": null,
            "object_position": null,
            "object_fit": null,
            "grid_auto_columns": null,
            "margin": null,
            "display": null,
            "left": null
          }
        },
        "35950f51a1f84cd4a10a776a9d312b08": {
          "model_module": "@jupyter-widgets/controls",
          "model_name": "FloatProgressModel",
          "state": {
            "_view_name": "ProgressView",
            "style": "IPY_MODEL_f4ce8c5d069348f59e5fb80a810588dd",
            "_dom_classes": [],
            "description": "Steps: 100%",
            "_model_name": "FloatProgressModel",
            "bar_style": "success",
            "max": 2000000,
            "_view_module": "@jupyter-widgets/controls",
            "_model_module_version": "1.5.0",
            "value": 2000000,
            "_view_count": null,
            "_view_module_version": "1.5.0",
            "orientation": "horizontal",
            "min": 0,
            "description_tooltip": null,
            "_model_module": "@jupyter-widgets/controls",
            "layout": "IPY_MODEL_1d69b51a8683453aa59f7ae59863b53c"
          }
        },
        "5614342d33794162b96d22e16b091a4a": {
          "model_module": "@jupyter-widgets/controls",
          "model_name": "HTMLModel",
          "state": {
            "_view_name": "HTMLView",
            "style": "IPY_MODEL_d346df907761437d88794b3fcfdd7992",
            "_dom_classes": [],
            "description": "",
            "_model_name": "HTMLModel",
            "placeholder": "​",
            "_view_module": "@jupyter-widgets/controls",
            "_model_module_version": "1.5.0",
            "value": " 2000000/2000000 [13:08&lt;00:00, 2535.44it/s]",
            "_view_count": null,
            "_view_module_version": "1.5.0",
            "description_tooltip": null,
            "_model_module": "@jupyter-widgets/controls",
            "layout": "IPY_MODEL_230897d832aa44fb95753f902cdd8ecf"
          }
        },
        "f4ce8c5d069348f59e5fb80a810588dd": {
          "model_module": "@jupyter-widgets/controls",
          "model_name": "ProgressStyleModel",
          "state": {
            "_view_name": "StyleView",
            "_model_name": "ProgressStyleModel",
            "description_width": "initial",
            "_view_module": "@jupyter-widgets/base",
            "_model_module_version": "1.5.0",
            "_view_count": null,
            "_view_module_version": "1.2.0",
            "bar_color": null,
            "_model_module": "@jupyter-widgets/controls"
          }
        },
        "1d69b51a8683453aa59f7ae59863b53c": {
          "model_module": "@jupyter-widgets/base",
          "model_name": "LayoutModel",
          "state": {
            "_view_name": "LayoutView",
            "grid_template_rows": null,
            "right": null,
            "justify_content": null,
            "_view_module": "@jupyter-widgets/base",
            "overflow": null,
            "_model_module_version": "1.2.0",
            "_view_count": null,
            "flex_flow": null,
            "width": null,
            "min_width": null,
            "border": null,
            "align_items": null,
            "bottom": null,
            "_model_module": "@jupyter-widgets/base",
            "top": null,
            "grid_column": null,
            "overflow_y": null,
            "overflow_x": null,
            "grid_auto_flow": null,
            "grid_area": null,
            "grid_template_columns": null,
            "flex": null,
            "_model_name": "LayoutModel",
            "justify_items": null,
            "grid_row": null,
            "max_height": null,
            "align_content": null,
            "visibility": null,
            "align_self": null,
            "height": null,
            "min_height": null,
            "padding": null,
            "grid_auto_rows": null,
            "grid_gap": null,
            "max_width": null,
            "order": null,
            "_view_module_version": "1.2.0",
            "grid_template_areas": null,
            "object_position": null,
            "object_fit": null,
            "grid_auto_columns": null,
            "margin": null,
            "display": null,
            "left": null
          }
        },
        "d346df907761437d88794b3fcfdd7992": {
          "model_module": "@jupyter-widgets/controls",
          "model_name": "DescriptionStyleModel",
          "state": {
            "_view_name": "StyleView",
            "_model_name": "DescriptionStyleModel",
            "description_width": "",
            "_view_module": "@jupyter-widgets/base",
            "_model_module_version": "1.5.0",
            "_view_count": null,
            "_view_module_version": "1.2.0",
            "_model_module": "@jupyter-widgets/controls"
          }
        },
        "230897d832aa44fb95753f902cdd8ecf": {
          "model_module": "@jupyter-widgets/base",
          "model_name": "LayoutModel",
          "state": {
            "_view_name": "LayoutView",
            "grid_template_rows": null,
            "right": null,
            "justify_content": null,
            "_view_module": "@jupyter-widgets/base",
            "overflow": null,
            "_model_module_version": "1.2.0",
            "_view_count": null,
            "flex_flow": null,
            "width": null,
            "min_width": null,
            "border": null,
            "align_items": null,
            "bottom": null,
            "_model_module": "@jupyter-widgets/base",
            "top": null,
            "grid_column": null,
            "overflow_y": null,
            "overflow_x": null,
            "grid_auto_flow": null,
            "grid_area": null,
            "grid_template_columns": null,
            "flex": null,
            "_model_name": "LayoutModel",
            "justify_items": null,
            "grid_row": null,
            "max_height": null,
            "align_content": null,
            "visibility": null,
            "align_self": null,
            "height": null,
            "min_height": null,
            "padding": null,
            "grid_auto_rows": null,
            "grid_gap": null,
            "max_width": null,
            "order": null,
            "_view_module_version": "1.2.0",
            "grid_template_areas": null,
            "object_position": null,
            "object_fit": null,
            "grid_auto_columns": null,
            "margin": null,
            "display": null,
            "left": null
          }
        }
      }
    }
  },
  "cells": [
    {
      "cell_type": "markdown",
      "metadata": {
        "id": "view-in-github",
        "colab_type": "text"
      },
      "source": [
        "<a href=\"https://colab.research.google.com/github/chandrusuresh/ReinforcementLearning/blob/master/Ch10-OnPolicyControlwithApproximation/AccessControlQueueTask.ipynb\" target=\"_parent\"><img src=\"https://colab.research.google.com/assets/colab-badge.svg\" alt=\"Open In Colab\"/></a>"
      ]
    },
    {
      "cell_type": "code",
      "metadata": {
        "id": "BW7e_fu1haZ2",
        "colab_type": "code",
        "colab": {}
      },
      "source": [
        "import numpy as np\n",
        "import matplotlib.pyplot as plt\n",
        "from tqdm import tqdm\n",
        "from tqdm.auto import trange\n",
        "%matplotlib inline"
      ],
      "execution_count": 74,
      "outputs": []
    },
    {
      "cell_type": "markdown",
      "metadata": {
        "id": "Hueno8VNhfL3",
        "colab_type": "text"
      },
      "source": [
        "## Tile Coding"
      ]
    },
    {
      "cell_type": "code",
      "metadata": {
        "id": "Hg4M45jEha1_",
        "colab_type": "code",
        "colab": {}
      },
      "source": [
        "\"\"\"\n",
        "Tile Coding Software version 3.0beta\n",
        "by Rich Sutton\n",
        "based on a program created by Steph Schaeffer and others\n",
        "External documentation and recommendations on the use of this code is available in the \n",
        "reinforcement learning textbook by Sutton and Barto, and on the web.\n",
        "These need to be understood before this code is.\n",
        "\n",
        "This software is for Python 3 or more.\n",
        "\n",
        "This is an implementation of grid-style tile codings, based originally on\n",
        "the UNH CMAC code (see http://www.ece.unh.edu/robots/cmac.htm), but by now highly changed. \n",
        "Here we provide a function, \"tiles\", that maps floating and integer\n",
        "variables to a list of tiles, and a second function \"tiles-wrap\" that does the same while\n",
        "wrapping some floats to provided widths (the lower wrap value is always 0).\n",
        "\n",
        "The float variables will be gridded at unit intervals, so generalization\n",
        "will be by approximately 1 in each direction, and any scaling will have \n",
        "to be done externally before calling tiles.\n",
        "\n",
        "Num-tilings should be a power of 2, e.g., 16. To make the offsetting work properly, it should\n",
        "also be greater than or equal to four times the number of floats.\n",
        "\n",
        "The first argument is either an index hash table of a given size (created by (make-iht size)), \n",
        "an integer \"size\" (range of the indices from 0), or nil (for testing, indicating that the tile \n",
        "coordinates are to be returned without being converted to indices).\n",
        "\"\"\"\n",
        "\n",
        "basehash = hash\n",
        "\n",
        "class IHT:\n",
        "  \"Structure to handle collisions\"\n",
        "  def __init__(self, sizeval):\n",
        "      self.size = sizeval                        \n",
        "      self.overfullCount = 0\n",
        "      self.dictionary = {}\n",
        "\n",
        "  def __str__(self):\n",
        "      \"Prepares a string for printing whenever this object is printed\"\n",
        "      return \"Collision table:\" + \\\n",
        "              \" size:\" + str(self.size) + \\\n",
        "              \" overfullCount:\" + str(self.overfullCount) + \\\n",
        "              \" dictionary:\" + str(len(self.dictionary)) + \" items\"\n",
        "\n",
        "  def count (self):\n",
        "      return len(self.dictionary)\n",
        "  \n",
        "  def fullp (self):\n",
        "      return len(self.dictionary) >= self.size\n",
        "  \n",
        "  def getindex (self, obj, readonly=False):\n",
        "      d = self.dictionary\n",
        "      if obj in d: return d[obj]\n",
        "      elif readonly: return None\n",
        "      size = self.size\n",
        "      count = self.count()\n",
        "      if count >= size:\n",
        "          if self.overfullCount==0: print('IHT full, starting to allow collisions')\n",
        "          self.overfullCount += 1\n",
        "          return basehash(obj) % self.size\n",
        "      else:\n",
        "          d[obj] = count\n",
        "          return count\n",
        "\n",
        "def hashcoords(coordinates, m, readonly=False):\n",
        "  if type(m)==IHT: return m.getindex(tuple(coordinates), readonly)\n",
        "  if type(m)==int: return basehash(tuple(coordinates)) % m\n",
        "  if m==None: return coordinates\n",
        "\n",
        "from math import floor, log\n",
        "from itertools import zip_longest\n",
        "\n",
        "def tiles (ihtORsize, numtilings, floats, ints=[], readonly=False):\n",
        "  \"\"\"returns num-tilings tile indices corresponding to the floats and ints\"\"\"\n",
        "  qfloats = [floor(f*numtilings) for f in floats]\n",
        "  Tiles = []\n",
        "  for tiling in range(numtilings):\n",
        "      tilingX2 = tiling*2\n",
        "      coords = [tiling]\n",
        "      b = tiling\n",
        "      for q in qfloats:\n",
        "          coords.append( (q + b) // numtilings )\n",
        "          b += tilingX2\n",
        "      coords.extend(ints)\n",
        "      Tiles.append(hashcoords(coords, ihtORsize, readonly))\n",
        "  return Tiles"
      ],
      "execution_count": 75,
      "outputs": []
    },
    {
      "cell_type": "markdown",
      "metadata": {
        "id": "KoesDKjChzJ5",
        "colab_type": "text"
      },
      "source": [
        "## Access Control Queue Task"
      ]
    },
    {
      "cell_type": "markdown",
      "metadata": {
        "id": "a2cW3hU1A2tC",
        "colab_type": "text"
      },
      "source": [
        "This is the solution to Example 10.2 in Page-251 of the [Reinforcement Learning book by Sutton & Barto](http://www.incompleteideas.net/book/the-book.html).\n",
        "\n"
      ]
    },
    {
      "cell_type": "code",
      "metadata": {
        "id": "6TuRd9OCh0fZ",
        "colab_type": "code",
        "colab": {}
      },
      "source": [
        "maxSize = 2048\n",
        "iht = IHT(maxSize)\n",
        "numTilings = 8\n",
        "\n",
        "alpha = 0.01/float(numTilings)\n",
        "beta = 0.01\n",
        "epsilon = 0.1\n",
        "\n",
        "pEnd = 0.06\n",
        "\n",
        "num_servers  = 10\n",
        "num_priority = 4\n",
        "\n",
        "actions = [0,1]\n",
        "nA = len(actions)"
      ],
      "execution_count": 76,
      "outputs": []
    },
    {
      "cell_type": "code",
      "metadata": {
        "id": "1Yevsh7HijYq",
        "colab_type": "code",
        "colab": {}
      },
      "source": [
        "def mytiles(s,a):\n",
        "  x = s[0]\n",
        "  y = s[1]\n",
        "  scaleFactor_x = float(numTilings)/(num_servers)\n",
        "  scaleFactor_y = float(numTilings)/(num_priority-1)\n",
        "  return tiles(iht, numTilings, [x*scaleFactor_x,y*scaleFactor_y],[a])\n",
        "\n",
        "def move(pos,action):\n",
        "  free_servers = pos[0]\n",
        "  priority = pos[1]\n",
        "  reward = 0\n",
        "  if action > 0:\n",
        "    reward = np.power(2.0,float(priority))\n",
        "    free_servers -= 1\n",
        "  for i in range(num_servers-free_servers):\n",
        "    if np.random.uniform(0,1) <= pEnd:\n",
        "      free_servers += 1\n",
        "  return reward,[free_servers,np.random.choice(range(num_priority))]\n",
        "\n",
        "def getActionValue(s,a,wt):\n",
        "  tile_idx = mytiles(s,a)\n",
        "  return np.sum(wt[tile_idx])\n",
        "\n",
        "def target_policy(s,wt,epsilon):\n",
        "  if s[0] < 1:\n",
        "    return 0\n",
        "  Q = np.zeros((nA,))\n",
        "  for i,a in enumerate(actions):\n",
        "    Q[i] = getActionValue(s,a,wt)\n",
        "  action_prob = epsilon/float(nA)*np.ones((nA,))\n",
        "  maxQ = np.max(Q)\n",
        "  idx = np.where(Q == maxQ)[0]\n",
        "  action_prob[idx] += (1-epsilon)/float(len(idx))\n",
        "  return np.random.choice(range(nA),p=action_prob)\n",
        "\n",
        "def differential_semigradient_nStep_sarsa(len_queue,alpha,beta,epsilon):\n",
        "  weights = np.zeros((maxSize,))\n",
        "  free_servers = 10\n",
        "  priority = np.random.choice(range(num_priority))\n",
        "  avg_R = 0\n",
        "  pos = [free_servers,priority]   \n",
        "  act_idx = target_policy(pos,weights,epsilon)\n",
        "  for lq in trange(len_queue,desc=\"Steps\"):  \n",
        "    reward,next_pos = move(pos,actions[act_idx])\n",
        "    next_act_idx = target_policy(next_pos,weights,epsilon)\n",
        "\n",
        "    Q_curr = getActionValue(pos,actions[act_idx],weights)\n",
        "    Q_next = getActionValue(next_pos,actions[next_act_idx],weights)\n",
        "    delta = reward - avg_R + Q_next - Q_curr\n",
        "    avg_R += beta*delta\n",
        "    tile_idx = mytiles(pos,actions[act_idx])\n",
        "    weights[tile_idx] += alpha*delta\n",
        "    pos = next_pos\n",
        "    act_idx = next_act_idx\n",
        "  return weights,avg_R"
      ],
      "execution_count": 77,
      "outputs": []
    },
    {
      "cell_type": "markdown",
      "metadata": {
        "id": "OWyLyZVr6B_w",
        "colab_type": "text"
      },
      "source": [
        "### Differential Semi-Gradient SARSA"
      ]
    },
    {
      "cell_type": "code",
      "metadata": {
        "id": "pRbaJ3_akqvQ",
        "colab_type": "code",
        "colab": {
          "base_uri": "https://localhost:8080/",
          "height": 84,
          "referenced_widgets": [
            "cd280f164505453389b19f9fd11e62bc",
            "2c65f3b9423b480499b702f76ebd9094",
            "35950f51a1f84cd4a10a776a9d312b08",
            "5614342d33794162b96d22e16b091a4a",
            "f4ce8c5d069348f59e5fb80a810588dd",
            "1d69b51a8683453aa59f7ae59863b53c",
            "d346df907761437d88794b3fcfdd7992",
            "230897d832aa44fb95753f902cdd8ecf"
          ]
        },
        "outputId": "c38881c9-d4cd-4fbc-f41a-595e793e8932"
      },
      "source": [
        "len_queue = 2000000\n",
        "np.random.seed(42)\n",
        "weights,avgReward = differential_semigradient_nStep_sarsa(len_queue,alpha,beta,epsilon)\n",
        "print('Average Reward value after ' + str(len_queue) + ' steps = ' + str(avgReward))"
      ],
      "execution_count": 78,
      "outputs": [
        {
          "output_type": "display_data",
          "data": {
            "application/vnd.jupyter.widget-view+json": {
              "model_id": "cd280f164505453389b19f9fd11e62bc",
              "version_minor": 0,
              "version_major": 2
            },
            "text/plain": [
              "HBox(children=(FloatProgress(value=0.0, description='Steps', max=2000000.0, style=ProgressStyle(description_wi…"
            ]
          },
          "metadata": {
            "tags": []
          }
        },
        {
          "output_type": "stream",
          "text": [
            "\n",
            "Average Reward value after 2000000 steps = 2.734364331641282\n"
          ],
          "name": "stdout"
        }
      ]
    },
    {
      "cell_type": "code",
      "metadata": {
        "id": "RmHqJvgDMber",
        "colab_type": "code",
        "colab": {}
      },
      "source": [
        "free_servers = np.linspace(0,10,11)\n",
        "priority = np.linspace(1,4,4)\n",
        "\n",
        "best_action = np.zeros((num_servers+1,num_priority))\n",
        "diff_Q = np.zeros(best_action.shape)\n",
        "for i,p in enumerate(free_servers):\n",
        "  for j,v in enumerate(priority):\n",
        "    s = [p,v-1]\n",
        "    best_action[i,j] = target_policy(s,weights,0.0)\n",
        "    diff_Q[i,j] = getActionValue(s,best_action[i,j],weights)"
      ],
      "execution_count": 97,
      "outputs": []
    },
    {
      "cell_type": "code",
      "metadata": {
        "id": "S81FrIH2PEyC",
        "colab_type": "code",
        "colab": {
          "base_uri": "https://localhost:8080/",
          "height": 457
        },
        "outputId": "cf2d91c1-e83d-4c15-e27f-ef3a7c207134"
      },
      "source": [
        "fig,ax = plt.subplots(1,2,figsize=(20,7))\n",
        "ax[0].matshow(best_action.T,cmap='binary')\n",
        "ax[0].set_xlabel('Number of free servers')\n",
        "ax[0].set_ylabel('Priority')\n",
        "ax[0].set_yticklabels([1,2,4,8])\n",
        "ax[0].set_xlim([1,10])\n",
        "ax[0].set_ylim([0,3])\n",
        "ax[0].invert_yaxis()\n",
        "ax[1].plot(free_servers,np.zeros(free_servers.shape),'k--')\n",
        "color = ['red','green','blue','k']\n",
        "for j in range(num_priority):\n",
        "  ax[1].plot(free_servers,diff_Q[:,j],color[j])\n",
        "ax[1].set_title('Value Function')\n",
        "ax[1].set_xlabel('Number of free servers')\n",
        "ax[1].set_title('Differential value of best action');"
      ],
      "execution_count": 100,
      "outputs": [
        {
          "output_type": "display_data",
          "data": {
            "image/png": "[encoded data removed]",
            "text/plain": [
              "<Figure size 1440x504 with 2 Axes>"
            ]
          },
          "metadata": {
            "tags": [],
            "needs_background": "light"
          }
        }
      ]
    }
  ]
}