{
  "nbformat": 4,
  "nbformat_minor": 0,
  "metadata": {
    "kernelspec": {
      "display_name": "Python 3",
      "language": "python",
      "name": "python3"
    },
    "language_info": {
      "codemirror_mode": {
        "name": "ipython",
        "version": 3
      },
      "file_extension": ".py",
      "mimetype": "text/x-python",
      "name": "python",
      "nbconvert_exporter": "python",
      "pygments_lexer": "ipython3",
      "version": "3.7.3"
    },
    "colab": {
      "name": "GridWorld.ipynb",
      "provenance": [],
      "include_colab_link": true
    }
  },
  "cells": [
    {
      "cell_type": "markdown",
      "metadata": {
        "id": "view-in-github",
        "colab_type": "text"
      },
      "source": [
        "<a href=\"https://colab.research.google.com/github/chandrusuresh/ReinforcementLearning/blob/master/GridWorld.ipynb\" target=\"_parent\"><img src=\"https://colab.research.google.com/assets/colab-badge.svg\" alt=\"Open In Colab\"/></a>"
      ]
    },
    {
      "cell_type": "code",
      "metadata": {
        "id": "1rkBkDbWM5ew",
        "colab_type": "code",
        "colab": {}
      },
      "source": [
        "## Grid World Example\n",
        "import numpy as np\n",
        "from scipy import linalg as scilinalg\n",
        "import matplotlib.pyplot as plt\n",
        "%matplotlib inline"
      ],
      "execution_count": 0,
      "outputs": []
    },
    {
      "cell_type": "markdown",
      "metadata": {
        "id": "caf_U9tOM5e0",
        "colab_type": "text"
      },
      "source": [
        "## Grid World Example\n",
        "\n",
        "**Copy from [chandrusuresh/ReinforcementLearning](https://github.com/chandrusuresh/ReinforcementLearning/blob/master/GridWorld.ipynb)**\n",
        "\n",
        "This is an example for a value function iteration for the grid world with a $5 \\times 5$ grid. From each cell, four actions are possible, each with a move of 1 cell in the north, south, east and west directions. The rewards for states and actions is as follows:\n",
        "1. An action bringing the agent outside of the grid bounds results in a reward of -1\n",
        "2. All actions from the cell $\\left[ 0,1 \\right]$ would bring the agent to the cell $\\left[ 4,1 \\right]$ with a reward of +10\n",
        "3. All actions from the cell $\\left[ 0,3 \\right]$ would bring the agent to the cell $\\left[ 2,3 \\right]$ with a reward of +5\n",
        "4. All other actions from any cell would yield a reward of 0.\n",
        "\n",
        "The agent selects all the actions with the same probability. The discount factor for each move is $\\gamma = 0.9$\n",
        "\n",
        "The grid and its rewards are illustrated below.\n",
        "\n",
        "![Grid World](https://raw.githubusercontent.com/chandrusuresh/ReinforcementLearning/master/files/GridWorld.PNG)"
      ]
    },
    {
      "cell_type": "markdown",
      "metadata": {
        "id": "BQohOXcUM5e1",
        "colab_type": "text"
      },
      "source": [
        "## Approach\n",
        "The value function (policy) is given as:\n",
        "$$ v_\\pi (s) = \\sum_a{\\pi(a|s)} \\sum_{a,s'}{p(s',r|a,s) \\left(r + \\gamma v_\\pi (s')\\right)}  $$\n",
        "\n",
        "For the grid, we have deterministic transitions for each action, which implies that $p(s',r|a,s) = 1$ for all valid transitions.\n",
        "\n",
        "The above equation for the grid becomes:\n",
        "\n",
        "$$ v_{\\pi} (i,j) = \\sum_a{\\frac{1}{4}} \\sum_{k,l}{\\left(r + \\gamma v_\\pi (k,l) {}\\right)}  $$\n",
        "where $(k,l)$ is a cell adjacent to $(i,j)$ in the north,west,east and south directions.\n",
        "\n",
        "Aggregating and solving the linear equations for all the cells, we get an equation of the form:\n",
        "$$ \\mathbf{A} \\mathbf{v_\\pi} = \\mathbf{r} $$\n",
        "where $\\mathbf{v_\\pi}$ and $\\mathbf{r}$ represents the arrays from aggregating the values and rewards at each cell. The value functions are then obtained as follows:\n",
        "$$ \\mathbf{v_\\pi} = \\mathbf{A}^{-1} \\mathbf{r} $$\n"
      ]
    },
    {
      "cell_type": "code",
      "metadata": {
        "id": "SJxlYCeYM5e1",
        "colab_type": "code",
        "colab": {}
      },
      "source": [
        "m = 5\n",
        "n = 5\n",
        "gamma = 0.9\n",
        "grid = [[0 for j in range(m*n)] for i in range(m*n)]\n",
        "reward = [0 for i in range(m*n)]\n",
        "steps = [[-1,0],[1,0],[0,-1],[0,1]]\n",
        "def getAdjacencyMatrix(i,j,gamma):\n",
        "    idx_0 = i*n+j\n",
        "    if i == 0 and j == 1:\n",
        "        reward[idx_0] += 10\n",
        "    elif i == 0 and j == 3:\n",
        "        reward[idx_0] += 5\n",
        "    for s in steps:\n",
        "        if i == 0 and j == 1:\n",
        "            r = m-1\n",
        "            c = j\n",
        "        elif i == 0 and j == 3:\n",
        "            r = i+2\n",
        "            c = j\n",
        "        else:\n",
        "            r = min(m-1,max(0,i+s[0]))\n",
        "            c = min(n-1,max(0,j+s[1]))\n",
        "        if r == i and c == j:\n",
        "            reward[idx_0] -= 1/(float(len(steps)))\n",
        "        idx = r*n + c\n",
        "        grid[idx_0][idx] += gamma/(float(len(steps)))\n",
        "    \n",
        "for i in range(m):\n",
        "    for j in range(n):\n",
        "        getAdjacencyMatrix(i,j,gamma)"
      ],
      "execution_count": 0,
      "outputs": []
    },
    {
      "cell_type": "code",
      "metadata": {
        "id": "dpU65IDdM5e4",
        "colab_type": "code",
        "outputId": "1c80ccbc-dea9-4d42-d01e-6a3d903367d9",
        "colab": {
          "base_uri": "https://localhost:8080/",
          "height": 119
        }
      },
      "source": [
        "A_mat = np.eye(m*n) - np.matrix(grid)\n",
        "A_mat_inv = np.linalg.inv(A_mat)\n",
        "val_func = np.matmul(A_mat_inv,np.matrix(reward).T)\n",
        "print(\"State Value Function: \")\n",
        "print(np.reshape(np.round(val_func,1),(m,n)))"
      ],
      "execution_count": 0,
      "outputs": [
        {
          "output_type": "stream",
          "text": [
            "State Value Function: \n",
            "[[ 3.3  8.8  4.4  5.3  1.5]\n",
            " [ 1.5  3.   2.3  1.9  0.5]\n",
            " [ 0.1  0.7  0.7  0.4 -0.4]\n",
            " [-1.  -0.4 -0.4 -0.6 -1.2]\n",
            " [-1.9 -1.3 -1.2 -1.4 -2. ]]\n"
          ],
          "name": "stdout"
        }
      ]
    },
    {
      "cell_type": "markdown",
      "metadata": {
        "id": "037dMSdEM5e_",
        "colab_type": "text"
      },
      "source": [
        "## Expressions relating state and action value functions\n",
        "Exercice 3.17: $$ q_\\pi (s,a) = \\sum_{r,s'}{p(s',r|a,s) \\left(r + \\gamma \\sum_{a'}{\\pi(a'|s') q_\\pi (s',a')}\\right)}  $$\n",
        "\n",
        "Exercise 3.18: $$ v_\\pi (s) = \\sum_{a'}{\\pi(a'|s') q_\\pi (s',a')}  $$\n",
        "\n",
        "Exercise 3.19: $$ q_\\pi (s,a) = \\sum_{r,s'}{p(s',r|a,s) \\left(r + \\gamma v_\\pi (s')\\right)}  $$\n",
        "\n"
      ]
    },
    {
      "cell_type": "markdown",
      "metadata": {
        "id": "SxYwEB-iM5fA",
        "colab_type": "text"
      },
      "source": [
        "## Action value function for Grid World Example\n",
        "For the above example, the action value function would be computed based on the expression above."
      ]
    },
    {
      "cell_type": "code",
      "metadata": {
        "id": "j-j1sL8FM5fA",
        "colab_type": "code",
        "outputId": "b5e1edd0-3499-410a-8a8d-e65c6380c068",
        "colab": {
          "base_uri": "https://localhost:8080/",
          "height": 476
        }
      },
      "source": [
        "action_val_func = np.zeros((np.size(val_func,0),len(steps)))\n",
        "print(\"Action Value Function: \")\n",
        "print(\"     w   e    n    s\")\n",
        "for i in range(m):\n",
        "    for j in range(n):\n",
        "        idx0 = i*n+j\n",
        "        for si,s in enumerate(steps):\n",
        "            if i == 0 and j == 1:\n",
        "                r = m-1\n",
        "                c = j\n",
        "                reward = 10\n",
        "            elif i == 0 and j == 3:\n",
        "                r = i+2\n",
        "                c = j\n",
        "                reward = 5\n",
        "            else:\n",
        "                r = min(m-1,max(0,i+s[0]))\n",
        "                c = min(n-1,max(0,j+s[1]))\n",
        "                reward = 0\n",
        "                if r == i and c == j:\n",
        "                    reward = -1\n",
        "            idx = r*n + c\n",
        "            action_val_func[idx0][si] += reward + gamma*val_func[idx]\n",
        "#         print(i,',',j,':',np.round(action_val_func[idx0],1))\n",
        "print(np.round(action_val_func,1))"
      ],
      "execution_count": 0,
      "outputs": [
        {
          "output_type": "stream",
          "text": [
            "Action Value Function: \n",
            "     w   e    n    s\n",
            "[[ 2.   1.4  2.   7.9]\n",
            " [ 8.8  8.8  8.8  8.8]\n",
            " [ 3.   2.   7.9  4.8]\n",
            " [ 5.3  5.3  5.3  5.3]\n",
            " [ 0.3  0.5  4.8  0.3]\n",
            " [ 3.   0.   0.4  2.7]\n",
            " [ 7.9  0.7  1.4  2. ]\n",
            " [ 4.   0.6  2.7  1.7]\n",
            " [ 4.8  0.3  2.   0.5]\n",
            " [ 1.3 -0.4  1.7 -0.5]\n",
            " [ 1.4 -0.9 -1.   0.7]\n",
            " [ 2.7 -0.4  0.   0.6]\n",
            " [ 2.  -0.3  0.7  0.3]\n",
            " [ 1.7 -0.5  0.6 -0.4]\n",
            " [ 0.5 -1.1  0.3 -1.4]\n",
            " [ 0.  -1.7 -1.9 -0.4]\n",
            " [ 0.7 -1.2 -0.9 -0.3]\n",
            " [ 0.6 -1.1 -0.4 -0.5]\n",
            " [ 0.3 -1.3 -0.3 -1.1]\n",
            " [-0.4 -1.8 -0.5 -2.1]\n",
            " [-0.9 -2.7 -2.7 -1.2]\n",
            " [-0.4 -2.2 -1.7 -1.1]\n",
            " [-0.3 -2.1 -1.2 -1.3]\n",
            " [-0.5 -2.3 -1.1 -1.8]\n",
            " [-1.1 -2.8 -1.3 -2.8]]\n"
          ],
          "name": "stdout"
        }
      ]
    },
    {
      "cell_type": "markdown",
      "metadata": {
        "id": "NUS9mlEKM5fD",
        "colab_type": "text"
      },
      "source": [
        "## Iterative Policy Evaluation\n",
        "Iterative policy evaluation is an algorithm where a value function is derived for a policy iteratively. The value function is initialized in the first step. The value function is updated at each step (k+1) based on the value iteration of the next states from the previous iteration (k) as follows:\n",
        "$$ v_{k+1}(s) = \\sum_a{\\pi(a|s)} \\sum_{a,s'}{p(s',r|a,s) \\left(r + \\gamma v_k (s')\\right)}  $$\n",
        "In this section, the algorithm for iterative policy evaluation is shown for the grid world example for both the state & action value functions."
      ]
    },
    {
      "cell_type": "code",
      "metadata": {
        "id": "75RMhmVmM5fD",
        "colab_type": "code",
        "outputId": "57891eea-195f-468c-ae6b-d0bade827b60",
        "colab": {
          "base_uri": "https://localhost:8080/",
          "height": 1000
        }
      },
      "source": [
        "init_state_v = 10*np.ones((m*n,1))\n",
        "init_action_v = 10*np.ones((m*n,len(steps)))\n",
        "tol = 0.1\n",
        "pi = 1/float(len(steps))\n",
        "def iterativePolicyEvaluation_state(maxIter = 50):\n",
        "    v = init_state_v\n",
        "    exitFlag = False\n",
        "    iter = 0\n",
        "    maxDelta = []\n",
        "    while not exitFlag and iter < maxIter:\n",
        "        iter = iter+1\n",
        "        v_prev = np.copy(v)\n",
        "        valFuncDelta = 0\n",
        "        for i in range(m):\n",
        "            for j in range(n):\n",
        "                idx0 = i*n+j\n",
        "                stateValFunc = 0\n",
        "                for si,s in enumerate(steps):\n",
        "                    if i == 0 and j == 1:\n",
        "                        r = m-1\n",
        "                        c = j\n",
        "                        reward = 10\n",
        "                    elif i == 0 and j == 3:\n",
        "                        r = i+2\n",
        "                        c = j\n",
        "                        reward = 5\n",
        "                    else:\n",
        "                        r = min(m-1,max(0,i+s[0]))\n",
        "                        c = min(n-1,max(0,j+s[1]))\n",
        "                        reward = 0\n",
        "                        if r == i and c == j:\n",
        "                            reward = -1\n",
        "                    idx = r*n + c\n",
        "                    stateValFunc += reward + gamma*v_prev[idx]\n",
        "                stateValFunc = pi*stateValFunc\n",
        "                valFuncDelta = max(valFuncDelta,abs(v_prev[idx0]-stateValFunc))\n",
        "                v[idx0] = stateValFunc\n",
        "        maxDelta.append(valFuncDelta)\n",
        "        exitFlag = valFuncDelta < tol\n",
        "    return v,maxDelta,exitFlag\n",
        "\n",
        "def iterativePolicyEvaluation_action(maxIter = 50):\n",
        "    v = init_action_v\n",
        "    exitFlag = False\n",
        "    iter = 0\n",
        "    maxDelta = []\n",
        "    while not exitFlag and iter < maxIter:\n",
        "        iter = iter+1\n",
        "        v_prev = np.copy(v)\n",
        "        valFuncDelta = 0\n",
        "        for i in range(m):\n",
        "            for j in range(n):\n",
        "                idx0 = i*n+j\n",
        "                for si,s in enumerate(steps):\n",
        "                    if i == 0 and j == 1:\n",
        "                        r = m-1\n",
        "                        c = j\n",
        "                        reward = 10\n",
        "                    elif i == 0 and j == 3:\n",
        "                        r = i+2\n",
        "                        c = j\n",
        "                        reward = 5\n",
        "                    else:\n",
        "                        r = min(m-1,max(0,i+s[0]))\n",
        "                        c = min(n-1,max(0,j+s[1]))\n",
        "                        reward = 0\n",
        "                        if r == i and c == j:\n",
        "                            reward = -1\n",
        "                    idx = r*n + c\n",
        "                    actionValFunc = reward + gamma*pi*sum(v_prev[idx,:])\n",
        "                    valFuncDelta = max(valFuncDelta,abs(v_prev[idx0,si]-actionValFunc))\n",
        "                    v[idx0,si] = actionValFunc\n",
        "        maxDelta.append(valFuncDelta)\n",
        "        exitFlag = valFuncDelta < tol\n",
        "    return v,maxDelta,exitFlag\n",
        "approx_state_val_func,maxDelta_state,exitFlag_state = iterativePolicyEvaluation_state()\n",
        "approx_action_val_func,maxDelta_action,exitFlag_action = iterativePolicyEvaluation_action()\n",
        "print('Iterative Policy Evaluation for State Terminated?:', exitFlag_state)\n",
        "print('MaxDelta: ',maxDelta_state[-1])\n",
        "print('Approximate State Value Function:')\n",
        "print(np.reshape(np.round(approx_state_val_func,1),(m,n)))\n",
        "\n",
        "print('Iterative Policy Evaluation for Action Terminated?:', exitFlag_action)\n",
        "print('MaxDelta: ',maxDelta_action[-1])\n",
        "print('Approximate Action Value Function:')\n",
        "print(np.round(approx_action_val_func,1))\n",
        "\n",
        "f,ax = plt.subplots(1,2,figsize=(20,7))\n",
        "ax[0].plot(range(len(maxDelta_state)),maxDelta_state)\n",
        "ax[0].set_title('Convergence in state value function');\n",
        "ax[1].plot(range(len(maxDelta_action)),maxDelta_action)\n",
        "ax[1].set_title('Convergence in action value function');"
      ],
      "execution_count": 0,
      "outputs": [
        {
          "output_type": "stream",
          "text": [
            "Iterative Policy Evaluation for State Terminated?: [ True]\n",
            "MaxDelta:  [0.0899573]\n",
            "Approximate State Value Function:\n",
            "[[ 4.1  9.6  5.2  6.1  2.3]\n",
            " [ 2.3  3.8  3.1  2.7  1.4]\n",
            " [ 0.9  1.5  1.5  1.2  0.4]\n",
            " [-0.2  0.4  0.5  0.2 -0.4]\n",
            " [-1.  -0.5 -0.4 -0.6 -1.2]]\n",
            "Iterative Policy Evaluation for Action Terminated?: True\n",
            "MaxDelta:  0.09009514617422809\n",
            "Approximate Action Value Function:\n",
            "[[ 2.8  2.2  2.8  8.7]\n",
            " [ 9.6  9.6  9.6  9.6]\n",
            " [ 3.8  2.8  8.7  5.6]\n",
            " [ 6.1  6.1  6.1  6.1]\n",
            " [ 1.1  1.3  5.6  1.1]\n",
            " [ 3.8  0.9  1.2  3.5]\n",
            " [ 8.7  1.5  2.2  2.8]\n",
            " [ 4.8  1.4  3.5  2.5]\n",
            " [ 5.6  1.1  2.8  1.3]\n",
            " [ 2.1  0.4  2.5  0.3]\n",
            " [ 2.2 -0.1 -0.1  1.5]\n",
            " [ 3.5  0.4  0.9  1.4]\n",
            " [ 2.8  0.5  1.5  1.1]\n",
            " [ 2.5  0.3  1.4  0.4]\n",
            " [ 1.3 -0.3  1.1 -0.6]\n",
            " [ 0.9 -0.9 -1.1  0.4]\n",
            " [ 1.5 -0.4 -0.1  0.5]\n",
            " [ 1.4 -0.3  0.4  0.3]\n",
            " [ 1.1 -0.5  0.5 -0.3]\n",
            " [ 0.4 -1.   0.3 -1.3]\n",
            " [-0.1 -1.9 -1.9 -0.4]\n",
            " [ 0.4 -1.4 -0.9 -0.3]\n",
            " [ 0.5 -1.3 -0.4 -0.5]\n",
            " [ 0.3 -1.5 -0.3 -1. ]\n",
            " [-0.3 -2.  -0.5 -2. ]]\n"
          ],
          "name": "stdout"
        },
        {
          "output_type": "display_data",
          "data": {
            "image/png": "[encoded data removed]",
            "text/plain": [
              "<Figure size 1440x504 with 2 Axes>"
            ]
          },
          "metadata": {
            "tags": [],
            "needs_background": "light"
          }
        }
      ]
    },
    {
      "cell_type": "markdown",
      "metadata": {
        "id": "q4XCuNhcM5fG",
        "colab_type": "text"
      },
      "source": [
        "## Iterative Policy Improvement"
      ]
    },
    {
      "cell_type": "markdown",
      "metadata": {
        "id": "z99WRmTOM5fH",
        "colab_type": "text"
      },
      "source": [
        "Policy improvement is an algorithm similar to policy evaluation and is applied as follows:\n",
        "For each state, we select an action a, and thereafter follow the current policy. If the resulting value function offers an improvement over the value function with the current policy, then the policy for the current state is updated accordingly."
      ]
    },
    {
      "cell_type": "code",
      "metadata": {
        "id": "bs9pGOI1M5fH",
        "colab_type": "code",
        "outputId": "010e67d3-dd2b-42b6-c21e-f594046bd37d",
        "colab": {
          "base_uri": "https://localhost:8080/",
          "height": 1000
        }
      },
      "source": [
        "init_state_v = np.copy(approx_state_val_func)\n",
        "pi = 0.25*np.ones((init_state_v.shape[0],len(steps)))\n",
        "\n",
        "def iterativePolicyImprovement_state(maxIter = 25):\n",
        "    iter = 0\n",
        "    v = init_state_v\n",
        "    exitFlag = False\n",
        "    iter = 0\n",
        "    maxDelta = []\n",
        "    while not exitFlag and iter < maxIter:\n",
        "        iter = iter+1\n",
        "        v_prev = np.copy(v)\n",
        "        valFuncDelta = 0\n",
        "        updateFound = False\n",
        "        for i in range(m):\n",
        "            for j in range(n):\n",
        "                idx0 = i*n+j\n",
        "                stateValFunc = 0\n",
        "                new_pi = np.zeros((1,len(steps)))\n",
        "                for si,s in enumerate(steps):\n",
        "                    if i == 0 and j == 1:\n",
        "                        r = m-1\n",
        "                        c = j\n",
        "                        reward = 10\n",
        "                    elif i == 0 and j == 3:\n",
        "                        r = i+2\n",
        "                        c = j\n",
        "                        reward = 5\n",
        "                    else:\n",
        "                        r = min(m-1,max(0,i+s[0]))\n",
        "                        c = min(n-1,max(0,j+s[1]))\n",
        "                        reward = 0\n",
        "                        if r == i and c == j:\n",
        "                            reward = -1\n",
        "                    idx = r*n + c\n",
        "                    stateValFunc = reward + gamma*v[idx]\n",
        "                    if stateValFunc >= v[idx0]:\n",
        "                        valFuncDelta = max(valFuncDelta,abs(v_prev[idx0]-stateValFunc))\n",
        "#                         print(idx0,v[idx0],stateValFunc)\n",
        "                        v[idx0] = stateValFunc\n",
        "                        new_pi[0,si] = 1\n",
        "                        updateFound = True\n",
        "                    else:\n",
        "                        continue\n",
        "                        \n",
        "                if updateFound:\n",
        "#                     print(idx0,reward,v[idx0])\n",
        "                    new_pi = new_pi/np.sum(new_pi)\n",
        "                    pi[idx0,:] = new_pi\n",
        "        maxDelta.append(valFuncDelta)\n",
        "        exitFlag = not updateFound\n",
        "    opt_pi = pi\n",
        "    return v,opt_pi,maxDelta,exitFlag\n",
        "opt_state_val_func,opt_pi,opt_maxDelta_state,opt_exitFlag_state = iterativePolicyImprovement_state()\n",
        "\n",
        "print('Iterative Policy Improvement for State Terminated?:', opt_exitFlag_state)\n",
        "print('MaxDelta: ',opt_maxDelta_state[-1])\n",
        "print('Approximate Optimal State Value Function:')\n",
        "print(np.reshape(np.round(opt_state_val_func,1),(m,n)))\n",
        "print(\"Optimal policy\")\n",
        "print(pi)\n",
        "f,ax = plt.subplots(1,1,figsize=(20,7))\n",
        "ax.plot(range(len(opt_maxDelta_state)),opt_maxDelta_state)\n",
        "ax.set_title('Convergence in optimal state value function');"
      ],
      "execution_count": 0,
      "outputs": [
        {
          "output_type": "stream",
          "text": [
            "/usr/local/lib/python3.6/dist-packages/ipykernel_launcher.py:48: RuntimeWarning: invalid value encountered in true_divide\n"
          ],
          "name": "stderr"
        },
        {
          "output_type": "stream",
          "text": [
            "Iterative Policy Improvement for State Terminated?: False\n",
            "MaxDelta:  [5.05937227e-05]\n",
            "Approximate Optimal State Value Function:\n",
            "[[22.  24.4 22.  19.4 17.5]\n",
            " [19.8 22.  19.8 17.8 16. ]\n",
            " [17.8 19.8 17.8 16.  14.4]\n",
            " [16.  17.8 16.  14.4 13. ]\n",
            " [14.4 16.  14.4 13.  11.7]]\n",
            "Optimal policy\n",
            "[[0.   0.   0.   1.  ]\n",
            " [0.25 0.25 0.25 0.25]\n",
            " [0.   0.   1.   0.  ]\n",
            " [0.25 0.25 0.25 0.25]\n",
            " [0.   0.   1.   0.  ]\n",
            " [0.5  0.   0.   0.5 ]\n",
            " [1.   0.   0.   0.  ]\n",
            " [0.5  0.   0.5  0.  ]\n",
            " [0.   0.   1.   0.  ]\n",
            " [0.   0.   1.   0.  ]\n",
            " [0.5  0.   0.   0.5 ]\n",
            " [1.   0.   0.   0.  ]\n",
            " [0.5  0.   0.5  0.  ]\n",
            " [0.5  0.   0.5  0.  ]\n",
            " [0.5  0.   0.5  0.  ]\n",
            " [0.5  0.   0.   0.5 ]\n",
            " [1.   0.   0.   0.  ]\n",
            " [0.5  0.   0.5  0.  ]\n",
            " [0.5  0.   0.5  0.  ]\n",
            " [0.5  0.   0.5  0.  ]\n",
            " [0.5  0.   0.   0.5 ]\n",
            " [1.   0.   0.   0.  ]\n",
            " [0.5  0.   0.5  0.  ]\n",
            " [0.5  0.   0.5  0.  ]\n",
            " [0.5  0.   0.5  0.  ]]\n"
          ],
          "name": "stdout"
        },
        {
          "output_type": "display_data",
          "data": {
            "image/png": "[encoded data removed]",
            "text/plain": [
              "<Figure size 1440x504 with 1 Axes>"
            ]
          },
          "metadata": {
            "tags": [],
            "needs_background": "light"
          }
        }
      ]
    }
  ]
}