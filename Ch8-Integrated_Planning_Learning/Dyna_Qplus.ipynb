{
  "nbformat": 4,
  "nbformat_minor": 0,
  "metadata": {
    "colab": {
      "name": "Dyna-Q.ipynb",
      "provenance": [],
      "authorship_tag": "ABX9TyMxUH3R0mFcUPZwbSk6nOyB",
      "include_colab_link": true
    },
    "kernelspec": {
      "name": "python3",
      "display_name": "Python 3"
    }
  },
  "cells": [
    {
      "cell_type": "markdown",
      "metadata": {
        "id": "view-in-github",
        "colab_type": "text"
      },
      "source": [
        "<a href=\"https://colab.research.google.com/github/chandrusuresh/ReinforcementLearning/blob/master/Ch8-Integrated_Planning_Learning/Dyna_Qplus.ipynb\" target=\"_parent\"><img src=\"https://colab.research.google.com/assets/colab-badge.svg\" alt=\"Open In Colab\"/></a>"
      ]
    },
    {
      "cell_type": "code",
      "metadata": {
        "id": "IPDoAucN1WWW",
        "colab_type": "code",
        "colab": {}
      },
      "source": [
        "import numpy as np\n",
        "import matplotlib.pyplot as plt\n",
        "from matplotlib import colors\n",
        "from tqdm import tqdm\n",
        "%matplotlib inline"
      ],
      "execution_count": null,
      "outputs": []
    },
    {
      "cell_type": "markdown",
      "metadata": {
        "id": "35dVDggY1xJU",
        "colab_type": "text"
      },
      "source": [
        "# Integrated Planning, Acting and Learning using DYNA-Q"
      ]
    },
    {
      "cell_type": "markdown",
      "metadata": {
        "id": "kPjo8ssv15p9",
        "colab_type": "text"
      },
      "source": [
        "## Dyna Maze"
      ]
    },
    {
      "cell_type": "code",
      "metadata": {
        "id": "SEbQkYmY2DXJ",
        "colab_type": "code",
        "colab": {}
      },
      "source": [
        "VALID = 0\n",
        "START = 1\n",
        "PATH = 2\n",
        "FINISH = 3\n",
        "OBSTACLE = 4\n",
        "\n",
        "def get_maze():\n",
        "  nRows = 6\n",
        "  nCols = 9\n",
        "  map = np.zeros((nRows,nCols),dtype=np.int8)\n",
        "  map[2,0] = START\n",
        "  map[0,8] = FINISH\n",
        "  map[1:4,2] = OBSTACLE\n",
        "  map[4,5] = OBSTACLE\n",
        "  map[0:3,7] = OBSTACLE\n",
        "  return map\n",
        "\n",
        "def plot_circuit(fig,map,num):\n",
        "  nRows,nCols = map.shape\n",
        "  # create discrete colormap\n",
        "  #cmap = colors.ListedColormap(['red', 'blue'])\n",
        "  cmap = colors.ListedColormap(['white','red','blue','green','black'])\n",
        "  bounds = [0,0.1,3]\n",
        "  norm = colors.BoundaryNorm(bounds, cmap.N)\n",
        "  ax = fig.add_subplot(1,1,num)\n",
        "  ax.imshow(map, cmap=cmap)#, norm=norm)\n",
        "\n",
        "  ### draw gridlines\n",
        "  # ax = plt.gca();\n",
        "  ax.set_xticks(np.arange(-0.5, nCols+0.5, 1));\n",
        "  ax.set_yticks(np.arange(-0.5, nRows+0.5, 1));\n",
        "  ax.set_xticklabels(np.arange(-0.5, nCols+0.5, 1));\n",
        "  ax.set_yticklabels(np.arange(-0.5, nRows+0.5, 1));\n",
        "  ax.grid(color='k', linestyle='-', linewidth=1)\n",
        "\n",
        "  ax.set_xticklabels([])\n",
        "  ax.set_yticklabels([])\n",
        "  ax.xaxis.set_ticks_position('none')\n",
        "  ax.yaxis.set_ticks_position('none')"
      ],
      "execution_count": null,
      "outputs": []
    },
    {
      "cell_type": "markdown",
      "metadata": {
        "id": "lL3WBAks2pdb",
        "colab_type": "text"
      },
      "source": [
        "### Visualize Map"
      ]
    },
    {
      "cell_type": "code",
      "metadata": {
        "id": "wu-Pp7062o3l",
        "colab_type": "code",
        "colab": {
          "base_uri": "https://localhost:8080/",
          "height": 194
        },
        "outputId": "aea54149-2f56-4ba9-8720-fe99a2f9f527"
      },
      "source": [
        "map = get_maze()\n",
        "fig = plt.figure(figsize=(5,3))\n",
        "plot_circuit(fig,map,1)"
      ],
      "execution_count": null,
      "outputs": [
        {
          "output_type": "display_data",
          "data": {
            "image/png": "[encoded data removed]",
            "text/plain": [
              "<Figure size 360x216 with 1 Axes>"
            ]
          },
          "metadata": {
            "tags": [],
            "needs_background": "light"
          }
        }
      ]
    },
    {
      "cell_type": "markdown",
      "metadata": {
        "id": "FeZa7G__3e8g",
        "colab_type": "text"
      },
      "source": [
        "### Constant Parameters"
      ]
    },
    {
      "cell_type": "code",
      "metadata": {
        "id": "0VSJThps3gWI",
        "colab_type": "code",
        "colab": {}
      },
      "source": [
        "num_trials = 30\n",
        "num_episodes = 50\n",
        "alpha = 0.1\n",
        "gamma = 0.95\n",
        "epsilon = 0.1\n",
        "hv_actions = [[-1,0],[0,1],[1,0],[0,-1]]\n",
        "start = [2,0]\n",
        "goal  = [0,8]"
      ],
      "execution_count": null,
      "outputs": []
    },
    {
      "cell_type": "code",
      "metadata": {
        "id": "cbH9wq5o3wC_",
        "colab_type": "code",
        "colab": {}
      },
      "source": [
        "def step(state,action):\n",
        "  new_state = [max(0,min(map.shape[0]-1,state[0]+action[0])),max(0,min(map.shape[1]-1,state[1]+action[1]))]\n",
        "  reward = 0\n",
        "  if map[new_state[0],new_state[1]] == OBSTACLE:\n",
        "    return state,reward\n",
        "  if new_state == goal:\n",
        "    reward = 1\n",
        "  return new_state,reward\n",
        "\n",
        "def target_policy(Q,pos,actions,epsilon):\n",
        "  nA = len(actions)\n",
        "  action_prob = epsilon/float(nA)*np.ones((nA,))\n",
        "  maxQ = np.max(Q[pos[0],pos[1],:])\n",
        "  idx = np.where(Q[pos[0],pos[1],:] == maxQ)[0]\n",
        "  action_prob[idx] += (1-epsilon)/float(len(idx))\n",
        "  return np.random.choice(range(nA),p=action_prob)\n",
        "\n",
        "def get_action_idx(action):\n",
        "  return np.where(np.sum(np.abs(actions-action),1) == 0)[0][0]\n",
        "\n",
        "def TabularDynaQ(num_episodes,actions,alpha,gamma,epsilon,plan_steps):\n",
        "  nA = len(actions)\n",
        "  Q = np.zeros((map.shape[0],map.shape[1],nA))\n",
        "  stats = []\n",
        "  model = dict()\n",
        "  traj = set()\n",
        "  for episode in range(num_episodes):\n",
        "    pos = start\n",
        "    steps = 0\n",
        "    rewards = 0\n",
        "    while pos[0] != goal[0] or pos[1] != goal[1]:\n",
        "      act_idx = target_policy(Q,pos,actions,epsilon)\n",
        "      next_pos,reward = step(pos,actions[act_idx])\n",
        "      # print(\"#################\")\n",
        "      # print(pos)\n",
        "      # print(actions[act_idx])\n",
        "      # print(next_pos)\n",
        "      ## Update Q\n",
        "      Q[pos[0],pos[1],act_idx] += alpha*(reward + gamma*max(Q[next_pos[0],next_pos[1],:]) - Q[pos[0],pos[1],act_idx])\n",
        "      ## Update Model\n",
        "      t = (pos[0],pos[1],act_idx)\n",
        "      traj.add(t)\n",
        "      model[(pos[0],pos[1],act_idx)] = (next_pos[0],next_pos[1],reward)\n",
        "      ## Planning\n",
        "      plan_c = 0\n",
        "      while plan_c < plan_steps:\n",
        "        t = list(traj)[np.random.choice(range(len(traj)))]\n",
        "        s = [t[0],t[1]]\n",
        "        a_idx = t[2]\n",
        "        s_next,r = step(s,actions[a_idx])\n",
        "        Q[s[0],s[1],a_idx] += alpha*(r + gamma*max(Q[s_next[0],s_next[1],:]) - Q[s[0],s[1],a_idx])\n",
        "        plan_c += 1\n",
        "      steps += 1\n",
        "      pos = next_pos.copy()\n",
        "    stats += [[episode+1,steps]]\n",
        "  return Q,np.array(stats)"
      ],
      "execution_count": null,
      "outputs": []
    },
    {
      "cell_type": "code",
      "metadata": {
        "id": "JUGcTyWP-DP3",
        "colab_type": "code",
        "colab": {
          "base_uri": "https://localhost:8080/",
          "height": 68
        },
        "outputId": "5100f9a4-8cb1-4ca2-cfb7-ed7198c3542c"
      },
      "source": [
        "plan_steps = [0,5,50]\n",
        "# np.random.seed(0)\n",
        "stats_avg = np.zeros((num_episodes,1+len(plan_steps)))\n",
        "for pi,p in enumerate(plan_steps):\n",
        "  np.random.seed(42)\n",
        "  for i in tqdm(range(num_trials)):\n",
        "    Q,stats = TabularDynaQ(num_episodes,hv_actions,alpha,gamma,epsilon,p)\n",
        "    stats_avg[:,pi+1] += stats[:,1]/float(num_trials)\n",
        "stats_avg[:,0] = stats[:,0]"
      ],
      "execution_count": null,
      "outputs": [
        {
          "output_type": "stream",
          "text": [
            "100%|██████████| 30/30 [00:16<00:00,  1.80it/s]\n",
            "100%|██████████| 30/30 [00:19<00:00,  1.57it/s]\n",
            "100%|██████████| 30/30 [01:29<00:00,  2.98s/it]\n"
          ],
          "name": "stderr"
        }
      ]
    },
    {
      "cell_type": "code",
      "metadata": {
        "id": "M8aRi19b-xby",
        "colab_type": "code",
        "colab": {
          "base_uri": "https://localhost:8080/",
          "height": 459
        },
        "outputId": "a89370d3-1ff6-4b1a-a544-931f7e452f16"
      },
      "source": [
        "fig,ax = plt.subplots(1,1,figsize=(10,7))\n",
        "for i in range(1,stats_avg.shape[1]):\n",
        "  ax.plot(stats_avg[1:,0],stats_avg[1:,i])\n",
        "ax.grid(True)\n",
        "ax.legend(['Planning steps = '+ str(p) for p in plan_steps])\n",
        "ax.set_xlabel('Episodes')\n",
        "ax.set_ylabel('Steps per episode averaged over ' + str(num_trials) + ' runs');\n",
        "print('Optimal Steps to Goal = ', stats_avg[-1,1:])"
      ],
      "execution_count": null,
      "outputs": [
        {
          "output_type": "stream",
          "text": [
            "Optimal Steps to Goal =  [17.73333333 16.86666667 16.13333333]\n"
          ],
          "name": "stdout"
        },
        {
          "output_type": "display_data",
          "data": {
            "image/png": "[encoded data removed]",
            "text/plain": [
              "<Figure size 720x504 with 1 Axes>"
            ]
          },
          "metadata": {
            "tags": [],
            "needs_background": "light"
          }
        }
      ]
    }
  ]
}