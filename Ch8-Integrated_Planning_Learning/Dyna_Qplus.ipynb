{
  "nbformat": 4,
  "nbformat_minor": 0,
  "metadata": {
    "colab": {
      "name": "Dyna-Q.ipynb",
      "provenance": [],
      "authorship_tag": "ABX9TyP5NBkRAhkL6JV/wbmyB4YW",
      "include_colab_link": true
    },
    "kernelspec": {
      "name": "python3",
      "display_name": "Python 3"
    }
  },
  "cells": [
    {
      "cell_type": "markdown",
      "metadata": {
        "id": "view-in-github",
        "colab_type": "text"
      },
      "source": [
        "<a href=\"https://colab.research.google.com/github/chandrusuresh/ReinforcementLearning/blob/master/Ch8-Integrated_Planning_Learning/Dyna_Qplus.ipynb\" target=\"_parent\"><img src=\"https://colab.research.google.com/assets/colab-badge.svg\" alt=\"Open In Colab\"/></a>"
      ]
    },
    {
      "cell_type": "code",
      "metadata": {
        "id": "IPDoAucN1WWW",
        "colab_type": "code",
        "colab": {}
      },
      "source": [
        "import numpy as np\n",
        "import matplotlib.pyplot as plt\n",
        "from matplotlib import colors\n",
        "from tqdm import tqdm\n",
        "%matplotlib inline"
      ],
      "execution_count": 1,
      "outputs": []
    },
    {
      "cell_type": "markdown",
      "metadata": {
        "id": "35dVDggY1xJU",
        "colab_type": "text"
      },
      "source": [
        "# Comparison between DYNA-Q and DYNA-Q+"
      ]
    },
    {
      "cell_type": "markdown",
      "metadata": {
        "id": "kPjo8ssv15p9",
        "colab_type": "text"
      },
      "source": [
        "## Dyna Maze"
      ]
    },
    {
      "cell_type": "code",
      "metadata": {
        "id": "SEbQkYmY2DXJ",
        "colab_type": "code",
        "colab": {}
      },
      "source": [
        "VALID = 0\n",
        "START = 1\n",
        "PATH = 2\n",
        "FINISH = 3\n",
        "OBSTACLE = 4\n",
        "\n",
        "def get_maze():\n",
        "  nRows = 6\n",
        "  nCols = 9\n",
        "  map_1 = np.zeros((nRows,nCols),dtype=np.int8)\n",
        "  map_1[5,3] = START\n",
        "  map_1[0,8] = FINISH\n",
        "  map_1[3,:8] = OBSTACLE\n",
        "\n",
        "  map_2 = np.zeros((nRows,nCols),dtype=np.int8)\n",
        "  map_2[5,3] = START\n",
        "  map_2[0,8] = FINISH\n",
        "  map_2[3,1:] = OBSTACLE\n",
        "  return map_1,map_2\n",
        "\n",
        "def plot_circuit(fig,map,num):\n",
        "  nRows,nCols = map.shape\n",
        "  # create discrete colormap\n",
        "  cmap = colors.ListedColormap(['white','red','blue','green','black'])\n",
        "  bounds = [0,0.1,3]\n",
        "  norm = colors.BoundaryNorm(bounds, cmap.N)\n",
        "  ax = fig.add_subplot(1,2,num)\n",
        "  ax.imshow(map, cmap=cmap,alpha=0.6)#, norm=norm)\n",
        "\n",
        "  ### draw gridlines\n",
        "  # ax = plt.gca();\n",
        "  ax.set_xticks(np.arange(-0.5, nCols+0.5, 1));\n",
        "  ax.set_yticks(np.arange(-0.5, nRows+0.5, 1));\n",
        "  ax.set_xticklabels(np.arange(-0.5, nCols+0.5, 1));\n",
        "  ax.set_yticklabels(np.arange(-0.5, nRows+0.5, 1));\n",
        "  ax.grid(color='k', linestyle='-', linewidth=1)\n",
        "\n",
        "  ax.set_xticklabels([])\n",
        "  ax.set_yticklabels([])\n",
        "  ax.xaxis.set_ticks_position('none')\n",
        "  ax.yaxis.set_ticks_position('none')"
      ],
      "execution_count": 2,
      "outputs": []
    },
    {
      "cell_type": "markdown",
      "metadata": {
        "id": "lL3WBAks2pdb",
        "colab_type": "text"
      },
      "source": [
        "### Visualize Map"
      ]
    },
    {
      "cell_type": "code",
      "metadata": {
        "id": "wu-Pp7062o3l",
        "colab_type": "code",
        "colab": {
          "base_uri": "https://localhost:8080/",
          "height": 115
        },
        "outputId": "3ae7811a-563a-4cf1-97a2-124aeed4682c"
      },
      "source": [
        "map_1,map_2 = get_maze()\n",
        "fig = plt.figure(figsize=(5,3))\n",
        "plot_circuit(fig,map_1,1)\n",
        "plot_circuit(fig,map_2,2)"
      ],
      "execution_count": 3,
      "outputs": [
        {
          "output_type": "display_data",
          "data": {
            "image/png": "[encoded data removed]",
            "text/plain": [
              "<Figure size 360x216 with 2 Axes>"
            ]
          },
          "metadata": {
            "tags": [],
            "needs_background": "light"
          }
        }
      ]
    },
    {
      "cell_type": "markdown",
      "metadata": {
        "id": "FeZa7G__3e8g",
        "colab_type": "text"
      },
      "source": [
        "### Constant Parameters"
      ]
    },
    {
      "cell_type": "code",
      "metadata": {
        "id": "0VSJThps3gWI",
        "colab_type": "code",
        "colab": {}
      },
      "source": [
        "num_trials = 1\n",
        "num_steps = 3000\n",
        "step_change = 1000\n",
        "\n",
        "alpha = 0.1\n",
        "gamma = 0.95\n",
        "epsilon = 0.3\n",
        "hv_actions = [[-1,0],[0,1],[1,0],[0,-1]]\n",
        "start = [5,3]\n",
        "goal  = [0,8]\n",
        "map = np.copy(map_1)"
      ],
      "execution_count": 4,
      "outputs": []
    },
    {
      "cell_type": "code",
      "metadata": {
        "id": "IF3CjHb0yPuR",
        "colab_type": "code",
        "colab": {
          "base_uri": "https://localhost:8080/",
          "height": 115
        },
        "outputId": "cd5f26df-491c-40e0-b4dc-769baac4aa94"
      },
      "source": [
        "fig = plt.figure(figsize=(5,3))\n",
        "plot_circuit(fig,map,1)"
      ],
      "execution_count": 5,
      "outputs": [
        {
          "output_type": "display_data",
          "data": {
            "image/png": "[encoded data removed]",
            "text/plain": [
              "<Figure size 360x216 with 1 Axes>"
            ]
          },
          "metadata": {
            "tags": [],
            "needs_background": "light"
          }
        }
      ]
    },
    {
      "cell_type": "code",
      "metadata": {
        "id": "cbH9wq5o3wC_",
        "colab_type": "code",
        "colab": {}
      },
      "source": [
        "def step(state,action):\n",
        "  new_state = [max(0,min(map.shape[0]-1,state[0]+action[0])),max(0,min(map.shape[1]-1,state[1]+action[1]))]\n",
        "  reward = 0\n",
        "  if map[new_state[0],new_state[1]] == OBSTACLE:\n",
        "    return state,reward\n",
        "  if new_state == goal:\n",
        "    reward = 1\n",
        "  return new_state,reward\n",
        "\n",
        "def target_policy(Q,pos,actions,epsilon):\n",
        "  nA = len(actions)\n",
        "  action_prob = epsilon/float(nA)*np.ones((nA,))\n",
        "  maxQ = np.max(Q[pos[0],pos[1],:])\n",
        "  idx = np.where(Q[pos[0],pos[1],:] == maxQ)[0]\n",
        "  action_prob[idx] += (1-epsilon)/float(len(idx))\n",
        "  return np.random.choice(range(nA),p=action_prob)\n",
        "\n",
        "def get_action_idx(action):\n",
        "  return np.where(np.sum(np.abs(actions-action),1) == 0)[0][0]\n",
        "\n",
        "def TabularDynaQ(num_steps,actions,alpha,gamma,epsilon,plan_steps):\n",
        "  nA = len(actions)\n",
        "  global map\n",
        "  Q = np.zeros((map.shape[0],map.shape[1],nA))\n",
        "  stats = [[0,0]]\n",
        "  model = dict()\n",
        "  traj = set()\n",
        "  steps = 0\n",
        "  cum_reward = 0\n",
        "  pos = start\n",
        "  for steps in tqdm(range(num_steps)):\n",
        "    if steps == 1000:\n",
        "      map = np.copy(map_2)\n",
        "    if pos == goal:\n",
        "      pos = start\n",
        "    act_idx = target_policy(Q,pos,actions,epsilon)\n",
        "    next_pos,reward = step(pos,actions[act_idx])\n",
        "\n",
        "    ## Update Q\n",
        "    Q[pos[0],pos[1],act_idx] += alpha*(reward + gamma*max(Q[next_pos[0],next_pos[1],:]) - Q[pos[0],pos[1],act_idx])\n",
        "    ## Update Model\n",
        "    t = (pos[0],pos[1],act_idx)\n",
        "    traj.add(t)\n",
        "    model[(pos[0],pos[1],act_idx)] = (next_pos[0],next_pos[1],reward)\n",
        "    ## Planning\n",
        "    plan_c = 0\n",
        "    while plan_c < plan_steps:\n",
        "      t = list(traj)[np.random.choice(range(len(traj)))]\n",
        "      s = [t[0],t[1]]\n",
        "      a_idx = t[2]\n",
        "      s_next,r = step(s,actions[a_idx])\n",
        "      Q[s[0],s[1],a_idx] += alpha*(r + gamma*max(Q[s_next[0],s_next[1],:]) - Q[s[0],s[1],a_idx])\n",
        "      plan_c += 1\n",
        "    pos = next_pos.copy()\n",
        "    cum_reward += reward\n",
        "    stats += [[steps,cum_reward]]\n",
        "  return np.array(stats)"
      ],
      "execution_count": 6,
      "outputs": []
    },
    {
      "cell_type": "code",
      "metadata": {
        "id": "JUGcTyWP-DP3",
        "colab_type": "code",
        "colab": {
          "base_uri": "https://localhost:8080/",
          "height": 34
        },
        "outputId": "05ef75cf-5808-41e3-f612-cd9f1d3cd0fd"
      },
      "source": [
        "plan_steps = 50\n",
        "stats = TabularDynaQ(num_steps,hv_actions,alpha,gamma,epsilon,plan_steps)"
      ],
      "execution_count": 7,
      "outputs": [
        {
          "output_type": "stream",
          "text": [
            "100%|██████████| 3000/3000 [00:04<00:00, 645.96it/s]\n"
          ],
          "name": "stderr"
        }
      ]
    },
    {
      "cell_type": "code",
      "metadata": {
        "id": "M8aRi19b-xby",
        "colab_type": "code",
        "colab": {
          "base_uri": "https://localhost:8080/",
          "height": 442
        },
        "outputId": "0480ca8b-cfcb-4f58-d396-a8c35a78b861"
      },
      "source": [
        "fig,ax = plt.subplots(1,1,figsize=(10,7))\n",
        "ax.plot(stats[:,0],stats[:,1])\n",
        "ax.grid(True)\n",
        "# ax.legend(['Planning steps = '+ str(p) for p in plan_steps])\n",
        "ax.set_xlabel('Time Steps')\n",
        "ax.set_ylabel('Cumulative Reward');\n",
        "# print('Optimal Steps to Goal = ', stats_avg[-1,1:])"
      ],
      "execution_count": 8,
      "outputs": [
        {
          "output_type": "display_data",
          "data": {
            "image/png": "[encoded data removed]",
            "text/plain": [
              "<Figure size 720x504 with 1 Axes>"
            ]
          },
          "metadata": {
            "tags": [],
            "needs_background": "light"
          }
        }
      ]
    },
    {
      "cell_type": "code",
      "metadata": {
        "id": "l-jBJI-px2f5",
        "colab_type": "code",
        "colab": {}
      },
      "source": [
        "plot_circuit(fig,map,1)"
      ],
      "execution_count": 9,
      "outputs": []
    }
  ]
}