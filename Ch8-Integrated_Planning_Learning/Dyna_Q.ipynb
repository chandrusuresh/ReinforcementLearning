{
  "nbformat": 4,
  "nbformat_minor": 0,
  "metadata": {
    "colab": {
      "name": "Dyna-Q.ipynb",
      "provenance": [],
      "authorship_tag": "ABX9TyOVQvooFAJak8OMDZbbOCkL",
      "include_colab_link": true
    },
    "kernelspec": {
      "name": "python3",
      "display_name": "Python 3"
    }
  },
  "cells": [
    {
      "cell_type": "markdown",
      "metadata": {
        "id": "view-in-github",
        "colab_type": "text"
      },
      "source": [
        "<a href=\"https://colab.research.google.com/github/chandrusuresh/ReinforcementLearning/blob/master/Ch8-Integrated_Planning_Learning/Dyna_Q.ipynb\" target=\"_parent\"><img src=\"https://colab.research.google.com/assets/colab-badge.svg\" alt=\"Open In Colab\"/></a>"
      ]
    },
    {
      "cell_type": "code",
      "metadata": {
        "id": "IPDoAucN1WWW",
        "colab_type": "code",
        "colab": {}
      },
      "source": [
        "import numpy as np\n",
        "import matplotlib.pyplot as plt\n",
        "from matplotlib import colors\n",
        "%matplotlib inline"
      ],
      "execution_count": 1,
      "outputs": []
    },
    {
      "cell_type": "markdown",
      "metadata": {
        "id": "35dVDggY1xJU",
        "colab_type": "text"
      },
      "source": [
        "# Integrated Planning, Acting and Learning using DYNA-Q"
      ]
    },
    {
      "cell_type": "markdown",
      "metadata": {
        "id": "kPjo8ssv15p9",
        "colab_type": "text"
      },
      "source": [
        "## Dyna Maze"
      ]
    },
    {
      "cell_type": "code",
      "metadata": {
        "id": "SEbQkYmY2DXJ",
        "colab_type": "code",
        "colab": {}
      },
      "source": [
        "VALID = 0\n",
        "START = 1\n",
        "PATH = 2\n",
        "FINISH = 3\n",
        "OBSTACLE = 4\n",
        "\n",
        "def get_maze():\n",
        "  nRows = 6\n",
        "  nCols = 9\n",
        "  map = np.zeros((nRows,nCols),dtype=np.int8)\n",
        "  map[2,0] = START\n",
        "  map[0,8] = FINISH\n",
        "  map[1:4,2] = OBSTACLE\n",
        "  map[4,5] = OBSTACLE\n",
        "  map[0:3,7] = OBSTACLE\n",
        "  return map\n",
        "\n",
        "def plot_circuit(fig,map,num):\n",
        "  nRows,nCols = map.shape\n",
        "  # create discrete colormap\n",
        "  #cmap = colors.ListedColormap(['red', 'blue'])\n",
        "  cmap = colors.ListedColormap(['white','red','blue','green','black'])\n",
        "  bounds = [0,0.1,3]\n",
        "  norm = colors.BoundaryNorm(bounds, cmap.N)\n",
        "  ax = fig.add_subplot(1,1,num)\n",
        "  ax.imshow(map, cmap=cmap)#, norm=norm)\n",
        "\n",
        "  ### draw gridlines\n",
        "  # ax = plt.gca();\n",
        "  ax.set_xticks(np.arange(-0.5, nCols+0.5, 1));\n",
        "  ax.set_yticks(np.arange(-0.5, nRows+0.5, 1));\n",
        "  ax.set_xticklabels(np.arange(-0.5, nCols+0.5, 1));\n",
        "  ax.set_yticklabels(np.arange(-0.5, nRows+0.5, 1));\n",
        "  ax.grid(color='k', linestyle='-', linewidth=1)\n",
        "\n",
        "  ax.set_xticklabels([])\n",
        "  ax.set_yticklabels([])\n",
        "  ax.xaxis.set_ticks_position('none')\n",
        "  ax.yaxis.set_ticks_position('none')"
      ],
      "execution_count": 2,
      "outputs": []
    },
    {
      "cell_type": "markdown",
      "metadata": {
        "id": "lL3WBAks2pdb",
        "colab_type": "text"
      },
      "source": [
        "### Visualize Map"
      ]
    },
    {
      "cell_type": "code",
      "metadata": {
        "id": "wu-Pp7062o3l",
        "colab_type": "code",
        "colab": {
          "base_uri": "https://localhost:8080/",
          "height": 194
        },
        "outputId": "5aa58967-e04d-4865-ca51-62f788504e9c"
      },
      "source": [
        "map = get_maze()\n",
        "fig = plt.figure(figsize=(5,3))\n",
        "plot_circuit(fig,map,1)"
      ],
      "execution_count": 3,
      "outputs": [
        {
          "output_type": "display_data",
          "data": {
            "image/png": "[encoded data removed]",
            "text/plain": [
              "<Figure size 360x216 with 1 Axes>"
            ]
          },
          "metadata": {
            "tags": [],
            "needs_background": "light"
          }
        }
      ]
    },
    {
      "cell_type": "markdown",
      "metadata": {
        "id": "FeZa7G__3e8g",
        "colab_type": "text"
      },
      "source": [
        "### Constant Parameters"
      ]
    },
    {
      "cell_type": "code",
      "metadata": {
        "id": "0VSJThps3gWI",
        "colab_type": "code",
        "colab": {}
      },
      "source": [
        "num_trials = 30\n",
        "num_episodes = 50\n",
        "alpha = 0.1\n",
        "gamma = 0.95\n",
        "epsilon = 0.1\n",
        "hv_actions = [[-1,0],[0,1],[1,0],[0,-1]]\n",
        "start = [2,0]\n",
        "goal  = [0,8]"
      ],
      "execution_count": null,
      "outputs": []
    },
    {
      "cell_type": "code",
      "metadata": {
        "id": "cbH9wq5o3wC_",
        "colab_type": "code",
        "colab": {}
      },
      "source": [
        "def move(state,action):\n",
        "  new_state = [max(0,min(map.shape[0]-1,state[0]+action[0])),max(0,min(map.shape[1]-1,state[1]+action[1]))]\n",
        "  if map[new_state[0],new_state[1]] == OBSTACLE:\n",
        "    return state\n",
        "  return new_state\n",
        "\n",
        "def target_policy(Q,pos,actions,epsilon):\n",
        "  nA = len(actions)\n",
        "  action_prob = epsilon/float(nA)*np.ones((nA,))\n",
        "  maxQ = np.max(Q[pos[0],pos[1],:])\n",
        "  idx = np.where(Q[pos[0],pos[1],:] == maxQ)[0]\n",
        "  action_prob[idx] += (1-epsilon)/float(len(idx))\n",
        "  return np.random.choice(range(nA),p=action_prob)\n",
        "\n",
        "def get_action_idx(action):\n",
        "  return np.where(np.sum(np.abs(actions-action),1) == 0)[0][0]\n",
        "\n",
        "def play(map,init):\n",
        "  curr_state = np.copy(init)\n",
        "  reward = 0\n",
        "  traj = [curr_state]\n",
        "  action_prob = []\n",
        "  while not check_termination(map,curr_state):\n",
        "    reward -= 1\n",
        "    act,prob = behavior_policy(map,curr_state)\n",
        "    next_state,new_vel = move(curr_state,act)\n",
        "    # print(\"################\")\n",
        "    # print(curr_state)\n",
        "    # print(new_vel)\n",
        "    # print(next_state)\n",
        "    if check_OutOfBounds(map,next_state):\n",
        "      return -1,traj,action_prob\n",
        "      # curr_state = init_state(map)\n",
        "      # traj = [curr_state]\n",
        "      # action_prob = []\n",
        "      # continue\n",
        "    else:\n",
        "      curr_state = next_state\n",
        "    action_prob += [list(act) + [prob]]\n",
        "    traj += [curr_state]\n",
        "  return 1,traj,action_prob"
      ],
      "execution_count": null,
      "outputs": []
    }
  ]
}